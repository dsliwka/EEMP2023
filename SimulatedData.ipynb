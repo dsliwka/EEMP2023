{
  "nbformat": 4,
  "nbformat_minor": 0,
  "metadata": {
    "kernelspec": {
      "display_name": "Python 3",
      "language": "python",
      "name": "python3"
    },
    "language_info": {
      "codemirror_mode": {
        "name": "ipython",
        "version": 3
      },
      "file_extension": ".py",
      "mimetype": "text/x-python",
      "name": "python",
      "nbconvert_exporter": "python",
      "pygments_lexer": "ipython3",
      "version": "3.7.3"
    },
    "colab": {
      "provenance": [],
      "include_colab_link": true
    }
  },
  "cells": [
    {
      "cell_type": "markdown",
      "metadata": {
        "id": "view-in-github",
        "colab_type": "text"
      },
      "source": [
        "<a href=\"https://colab.research.google.com/github/dsliwka/EEMP2023/blob/main/SimulatedData.ipynb\" target=\"_parent\"><img src=\"https://colab.research.google.com/assets/colab-badge.svg\" alt=\"Open In Colab\"/></a>"
      ]
    },
    {
      "cell_type": "code",
      "metadata": {
        "id": "1c4_5dQcLb5I"
      },
      "source": [
        "import pandas as pd\n",
        "import numpy as np\n",
        "import statsmodels.api as sm\n",
        "import statsmodels.formula.api as smf\n",
        "import seaborn as sns\n",
        "from statsmodels.iolib.summary2 import summary_col"
      ],
      "execution_count": 12,
      "outputs": []
    },
    {
      "cell_type": "code",
      "metadata": {
        "id": "AeD6sVPfLb5N",
        "colab": {
          "base_uri": "https://localhost:8080/"
        },
        "outputId": "176d752a-4444-421d-b662-86c1284353a9"
      },
      "source": [
        "n=400\n",
        "df=pd.DataFrame(index=range(n), columns=['x','y'])\n",
        "df['x']=np.random.normal(100,15,n)\n",
        "df['y']=200+2*df.x+np.random.normal(0,200,n)\n",
        "reg=smf.ols('y~x', data=df).fit()\n",
        "print(reg.summary())\n"
      ],
      "execution_count": 47,
      "outputs": [
        {
          "output_type": "stream",
          "name": "stdout",
          "text": [
            "                            OLS Regression Results                            \n",
            "==============================================================================\n",
            "Dep. Variable:                      y   R-squared:                       0.028\n",
            "Model:                            OLS   Adj. R-squared:                  0.026\n",
            "Method:                 Least Squares   F-statistic:                     11.48\n",
            "Date:                Tue, 24 Oct 2023   Prob (F-statistic):           0.000772\n",
            "Time:                        08:47:48   Log-Likelihood:                -2678.5\n",
            "No. Observations:                 400   AIC:                             5361.\n",
            "Df Residuals:                     398   BIC:                             5369.\n",
            "Df Model:                           1                                         \n",
            "Covariance Type:            nonrobust                                         \n",
            "==============================================================================\n",
            "                 coef    std err          t      P>|t|      [0.025      0.975]\n",
            "------------------------------------------------------------------------------\n",
            "Intercept    212.8265     62.283      3.417      0.001      90.381     335.272\n",
            "x              2.0927      0.618      3.389      0.001       0.879       3.307\n",
            "==============================================================================\n",
            "Omnibus:                        5.628   Durbin-Watson:                   1.993\n",
            "Prob(Omnibus):                  0.060   Jarque-Bera (JB):                6.690\n",
            "Skew:                           0.143   Prob(JB):                       0.0353\n",
            "Kurtosis:                       3.565   Cond. No.                         640.\n",
            "==============================================================================\n",
            "\n",
            "Notes:\n",
            "[1] Standard Errors assume that the covariance matrix of the errors is correctly specified.\n"
          ]
        }
      ]
    },
    {
      "cell_type": "code",
      "source": [
        "\n",
        "\n",
        "\n",
        "\n",
        "\n",
        "\n",
        "\n",
        "\n",
        "\n",
        "\n",
        "\n",
        "\n",
        "\n",
        "\n"
      ],
      "metadata": {
        "id": "vskqjjkXw8n2"
      },
      "execution_count": 13,
      "outputs": []
    },
    {
      "cell_type": "code",
      "metadata": {
        "id": "ePUsBS9ncRW-"
      },
      "source": [
        "n=400\n",
        "\n",
        "df=pd.DataFrame(index=range(n))\n",
        "coeff = []\n",
        "\n",
        "for i in range(2000):\n",
        "    df['x']=np.random.normal(100,15,n)\n",
        "    df['y']=200+ 2*df['x'] + np.random.normal(0,500,n)\n",
        "    reg=smf.ols('y ~ x', data=df).fit()\n",
        "    coeff.append(reg.params[1])\n",
        "\n"
      ],
      "execution_count": 14,
      "outputs": []
    },
    {
      "cell_type": "code",
      "source": [
        "sns.histplot(coeff)"
      ],
      "metadata": {
        "colab": {
          "base_uri": "https://localhost:8080/",
          "height": 447
        },
        "id": "1X1PKuSAti9U",
        "outputId": "bddd1f09-307a-481c-9dd9-c65126d441bc"
      },
      "execution_count": 15,
      "outputs": [
        {
          "output_type": "execute_result",
          "data": {
            "text/plain": [
              "<Axes: ylabel='Count'>"
            ]
          },
          "metadata": {},
          "execution_count": 15
        },
        {
          "output_type": "display_data",
          "data": {
            "text/plain": [
              "<Figure size 640x480 with 1 Axes>"
            ],
            "image/png": "[encoded data removed]"
          },
          "metadata": {}
        }
      ]
    },
    {
      "cell_type": "code",
      "metadata": {
        "id": "xxQllOryDE2d"
      },
      "source": [
        "df=pd.DataFrame(index=range(n))\n",
        "\n",
        "coeff0 = []\n",
        "\n",
        "\n",
        "for i in range(2000):\n",
        "    df['x']=np.random.normal(100,15,n)\n",
        "    df['y']=200+  np.random.normal(0,500,n)\n",
        "    reg=smf.ols('y~x', data=df).fit()\n",
        "    coeff0.append(reg.params[1])\n"
      ],
      "execution_count": 16,
      "outputs": []
    },
    {
      "cell_type": "code",
      "source": [
        "sns.histplot(coeff0)"
      ],
      "metadata": {
        "colab": {
          "base_uri": "https://localhost:8080/",
          "height": 447
        },
        "id": "Pf2u7lHpDMQM",
        "outputId": "4a81cb03-deb6-44c4-96aa-bb47bb537ee0"
      },
      "execution_count": 17,
      "outputs": [
        {
          "output_type": "execute_result",
          "data": {
            "text/plain": [
              "<Axes: ylabel='Count'>"
            ]
          },
          "metadata": {},
          "execution_count": 17
        },
        {
          "output_type": "display_data",
          "data": {
            "text/plain": [
              "<Figure size 640x480 with 1 Axes>"
            ],
            "image/png": "[encoded data removed]"
          },
          "metadata": {}
        }
      ]
    },
    {
      "cell_type": "code",
      "source": [
        "coeff = []\n",
        "c=0\n",
        "n=400\n",
        "df=pd.DataFrame(index=range(n))\n",
        "\n",
        "\n",
        "for i in range(1000):\n",
        "    df['x']=np.random.normal(100,15,n)\n",
        "    df['y']=200+ np.random.normal(0,500,n)\n",
        "    reg=smf.ols('y~x', data=df).fit()\n",
        "    coeff.append(reg.params[1])\n",
        "    if np.abs(reg.params[1]/reg.bse[1])>1.96:\n",
        "        c=c+1\n",
        "\n",
        "print(c)"
      ],
      "metadata": {
        "colab": {
          "base_uri": "https://localhost:8080/"
        },
        "id": "-uUFqwOGLqv1",
        "outputId": "d78c49b2-ccd6-40c3-fdcb-57f7be4a0727"
      },
      "execution_count": 48,
      "outputs": [
        {
          "output_type": "stream",
          "name": "stdout",
          "text": [
            "56\n"
          ]
        }
      ]
    }
  ]
}