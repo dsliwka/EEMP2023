{
  "nbformat": 4,
  "nbformat_minor": 0,
  "metadata": {
    "kernelspec": {
      "display_name": "Python 3",
      "language": "python",
      "name": "python3"
    },
    "language_info": {
      "codemirror_mode": {
        "name": "ipython",
        "version": 3
      },
      "file_extension": ".py",
      "mimetype": "text/x-python",
      "name": "python",
      "nbconvert_exporter": "python",
      "pygments_lexer": "ipython3",
      "version": "3.7.3"
    },
    "colab": {
      "provenance": [],
      "include_colab_link": true
    }
  },
  "cells": [
    {
      "cell_type": "markdown",
      "metadata": {
        "id": "view-in-github",
        "colab_type": "text"
      },
      "source": [
        "<a href=\"https://colab.research.google.com/github/dsliwka/EEMP2023/blob/main/SalesSimSampleSolutionsWithComments.ipynb\" target=\"_parent\"><img src=\"https://colab.research.google.com/assets/colab-badge.svg\" alt=\"Open In Colab\"/></a>"
      ]
    },
    {
      "cell_type": "code",
      "metadata": {
        "id": "1c4_5dQcLb5I",
        "colab": {
          "base_uri": "https://localhost:8080/"
        },
        "outputId": "b9c03878-0ef3-4728-9b89-0667e29c8ee6"
      },
      "source": [
        "import pandas as pd\n",
        "import numpy as np\n",
        "import statsmodels.api as sm\n",
        "import statsmodels.formula.api as smf\n",
        "import seaborn as sns\n",
        "from statsmodels.iolib.summary2 import summary_col\n",
        "!pip install Stargazer\n",
        "from stargazer.stargazer import Stargazer\n",
        "import matplotlib.pyplot as plt"
      ],
      "execution_count": 39,
      "outputs": [
        {
          "output_type": "stream",
          "name": "stdout",
          "text": [
            "Requirement already satisfied: Stargazer in /usr/local/lib/python3.10/dist-packages (0.0.6)\n"
          ]
        }
      ]
    },
    {
      "cell_type": "markdown",
      "source": [
        "**Exercise I: Simulate Training**\n",
        "\n",
        "----\n",
        "\n"
      ],
      "metadata": {
        "id": "xnYdpCjeWQ63"
      }
    },
    {
      "cell_type": "code",
      "source": [
        "n=500\n",
        "df=pd.DataFrame(index=range(n))\n",
        "df['ability']=np.random.normal(100,15,n)\n",
        "df['training']=(df.ability+ np.random.normal(0,10,n)>=100)*1\n",
        "df['sales']=40000+df.training*5000+df.ability*100+np.random.normal(0,4000,n)\n",
        "df.drop(columns=['ability'])"
      ],
      "metadata": {
        "colab": {
          "base_uri": "https://localhost:8080/",
          "height": 423
        },
        "id": "u6nNtX2lXkec",
        "outputId": "b7041c83-15d8-465c-c3d8-d1ff58927652"
      },
      "execution_count": 40,
      "outputs": [
        {
          "output_type": "execute_result",
          "data": {
            "text/plain": [
              "     training         sales\n",
              "0           0  45926.836817\n",
              "1           1  49490.860550\n",
              "2           0  45212.084944\n",
              "3           0  46489.011604\n",
              "4           1  54886.421695\n",
              "..        ...           ...\n",
              "495         0  46283.871757\n",
              "496         0  50382.072832\n",
              "497         1  57277.755642\n",
              "498         1  45306.646993\n",
              "499         0  59747.997455\n",
              "\n",
              "[500 rows x 2 columns]"
            ],
            "text/html": [
              "\n",
              "  <div id=\"df-778e2786-67b7-410c-9b8f-76cb302eba15\" class=\"colab-df-container\">\n",
              "    <div>\n",
              "<style scoped>\n",
              "    .dataframe tbody tr th:only-of-type {\n",
              "        vertical-align: middle;\n",
              "    }\n",
              "\n",
              "    .dataframe tbody tr th {\n",
              "        vertical-align: top;\n",
              "    }\n",
              "\n",
              "    .dataframe thead th {\n",
              "        text-align: right;\n",
              "    }\n",
              "</style>\n",
              "<table border=\"1\" class=\"dataframe\">\n",
              "  <thead>\n",
              "    <tr style=\"text-align: right;\">\n",
              "      <th></th>\n",
              "      <th>training</th>\n",
              "      <th>sales</th>\n",
              "    </tr>\n",
              "  </thead>\n",
              "  <tbody>\n",
              "    <tr>\n",
              "      <th>0</th>\n",
              "      <td>0</td>\n",
              "      <td>45926.836817</td>\n",
              "    </tr>\n",
              "    <tr>\n",
              "      <th>1</th>\n",
              "      <td>1</td>\n",
              "      <td>49490.860550</td>\n",
              "    </tr>\n",
              "    <tr>\n",
              "      <th>2</th>\n",
              "      <td>0</td>\n",
              "      <td>45212.084944</td>\n",
              "    </tr>\n",
              "    <tr>\n",
              "      <th>3</th>\n",
              "      <td>0</td>\n",
              "      <td>46489.011604</td>\n",
              "    </tr>\n",
              "    <tr>\n",
              "      <th>4</th>\n",
              "      <td>1</td>\n",
              "      <td>54886.421695</td>\n",
              "    </tr>\n",
              "    <tr>\n",
              "      <th>...</th>\n",
              "      <td>...</td>\n",
              "      <td>...</td>\n",
              "    </tr>\n",
              "    <tr>\n",
              "      <th>495</th>\n",
              "      <td>0</td>\n",
              "      <td>46283.871757</td>\n",
              "    </tr>\n",
              "    <tr>\n",
              "      <th>496</th>\n",
              "      <td>0</td>\n",
              "      <td>50382.072832</td>\n",
              "    </tr>\n",
              "    <tr>\n",
              "      <th>497</th>\n",
              "      <td>1</td>\n",
              "      <td>57277.755642</td>\n",
              "    </tr>\n",
              "    <tr>\n",
              "      <th>498</th>\n",
              "      <td>1</td>\n",
              "      <td>45306.646993</td>\n",
              "    </tr>\n",
              "    <tr>\n",
              "      <th>499</th>\n",
              "      <td>0</td>\n",
              "      <td>59747.997455</td>\n",
              "    </tr>\n",
              "  </tbody>\n",
              "</table>\n",
              "<p>500 rows × 2 columns</p>\n",
              "</div>\n",
              "    <div class=\"colab-df-buttons\">\n",
              "\n",
              "  <div class=\"colab-df-container\">\n",
              "    <button class=\"colab-df-convert\" onclick=\"convertToInteractive('df-778e2786-67b7-410c-9b8f-76cb302eba15')\"\n",
              "            title=\"Convert this dataframe to an interactive table.\"\n",
              "            style=\"display:none;\">\n",
              "\n",
              "  <svg xmlns=\"http://www.w3.org/2000/svg\" height=\"24px\" viewBox=\"0 -960 960 960\">\n",
              "    <path d=\"M120-120v-720h720v720H120Zm60-500h600v-160H180v160Zm220 220h160v-160H400v160Zm0 220h160v-160H400v160ZM180-400h160v-160H180v160Zm440 0h160v-160H620v160ZM180-180h160v-160H180v160Zm440 0h160v-160H620v160Z\"/>\n",
              "  </svg>\n",
              "    </button>\n",
              "\n",
              "  <style>\n",
              "    .colab-df-container {\n",
              "      display:flex;\n",
              "      gap: 12px;\n",
              "    }\n",
              "\n",
              "    .colab-df-convert {\n",
              "      background-color: #E8F0FE;\n",
              "      border: none;\n",
              "      border-radius: 50%;\n",
              "      cursor: pointer;\n",
              "      display: none;\n",
              "      fill: #1967D2;\n",
              "      height: 32px;\n",
              "      padding: 0 0 0 0;\n",
              "      width: 32px;\n",
              "    }\n",
              "\n",
              "    .colab-df-convert:hover {\n",
              "      background-color: #E2EBFA;\n",
              "      box-shadow: 0px 1px 2px rgba(60, 64, 67, 0.3), 0px 1px 3px 1px rgba(60, 64, 67, 0.15);\n",
              "      fill: #174EA6;\n",
              "    }\n",
              "\n",
              "    .colab-df-buttons div {\n",
              "      margin-bottom: 4px;\n",
              "    }\n",
              "\n",
              "    [theme=dark] .colab-df-convert {\n",
              "      background-color: #3B4455;\n",
              "      fill: #D2E3FC;\n",
              "    }\n",
              "\n",
              "    [theme=dark] .colab-df-convert:hover {\n",
              "      background-color: #434B5C;\n",
              "      box-shadow: 0px 1px 3px 1px rgba(0, 0, 0, 0.15);\n",
              "      filter: drop-shadow(0px 1px 2px rgba(0, 0, 0, 0.3));\n",
              "      fill: #FFFFFF;\n",
              "    }\n",
              "  </style>\n",
              "\n",
              "    <script>\n",
              "      const buttonEl =\n",
              "        document.querySelector('#df-778e2786-67b7-410c-9b8f-76cb302eba15 button.colab-df-convert');\n",
              "      buttonEl.style.display =\n",
              "        google.colab.kernel.accessAllowed ? 'block' : 'none';\n",
              "\n",
              "      async function convertToInteractive(key) {\n",
              "        const element = document.querySelector('#df-778e2786-67b7-410c-9b8f-76cb302eba15');\n",
              "        const dataTable =\n",
              "          await google.colab.kernel.invokeFunction('convertToInteractive',\n",
              "                                                    [key], {});\n",
              "        if (!dataTable) return;\n",
              "\n",
              "        const docLinkHtml = 'Like what you see? Visit the ' +\n",
              "          '<a target=\"_blank\" href=https://colab.research.google.com/notebooks/data_table.ipynb>data table notebook</a>'\n",
              "          + ' to learn more about interactive tables.';\n",
              "        element.innerHTML = '';\n",
              "        dataTable['output_type'] = 'display_data';\n",
              "        await google.colab.output.renderOutput(dataTable, element);\n",
              "        const docLink = document.createElement('div');\n",
              "        docLink.innerHTML = docLinkHtml;\n",
              "        element.appendChild(docLink);\n",
              "      }\n",
              "    </script>\n",
              "  </div>\n",
              "\n",
              "\n",
              "<div id=\"df-c3aaf355-1acb-4634-af39-190a1c4c6e1c\">\n",
              "  <button class=\"colab-df-quickchart\" onclick=\"quickchart('df-c3aaf355-1acb-4634-af39-190a1c4c6e1c')\"\n",
              "            title=\"Suggest charts.\"\n",
              "            style=\"display:none;\">\n",
              "\n",
              "<svg xmlns=\"http://www.w3.org/2000/svg\" height=\"24px\"viewBox=\"0 0 24 24\"\n",
              "     width=\"24px\">\n",
              "    <g>\n",
              "        <path d=\"M19 3H5c-1.1 0-2 .9-2 2v14c0 1.1.9 2 2 2h14c1.1 0 2-.9 2-2V5c0-1.1-.9-2-2-2zM9 17H7v-7h2v7zm4 0h-2V7h2v10zm4 0h-2v-4h2v4z\"/>\n",
              "    </g>\n",
              "</svg>\n",
              "  </button>\n",
              "\n",
              "<style>\n",
              "  .colab-df-quickchart {\n",
              "      --bg-color: #E8F0FE;\n",
              "      --fill-color: #1967D2;\n",
              "      --hover-bg-color: #E2EBFA;\n",
              "      --hover-fill-color: #174EA6;\n",
              "      --disabled-fill-color: #AAA;\n",
              "      --disabled-bg-color: #DDD;\n",
              "  }\n",
              "\n",
              "  [theme=dark] .colab-df-quickchart {\n",
              "      --bg-color: #3B4455;\n",
              "      --fill-color: #D2E3FC;\n",
              "      --hover-bg-color: #434B5C;\n",
              "      --hover-fill-color: #FFFFFF;\n",
              "      --disabled-bg-color: #3B4455;\n",
              "      --disabled-fill-color: #666;\n",
              "  }\n",
              "\n",
              "  .colab-df-quickchart {\n",
              "    background-color: var(--bg-color);\n",
              "    border: none;\n",
              "    border-radius: 50%;\n",
              "    cursor: pointer;\n",
              "    display: none;\n",
              "    fill: var(--fill-color);\n",
              "    height: 32px;\n",
              "    padding: 0;\n",
              "    width: 32px;\n",
              "  }\n",
              "\n",
              "  .colab-df-quickchart:hover {\n",
              "    background-color: var(--hover-bg-color);\n",
              "    box-shadow: 0 1px 2px rgba(60, 64, 67, 0.3), 0 1px 3px 1px rgba(60, 64, 67, 0.15);\n",
              "    fill: var(--button-hover-fill-color);\n",
              "  }\n",
              "\n",
              "  .colab-df-quickchart-complete:disabled,\n",
              "  .colab-df-quickchart-complete:disabled:hover {\n",
              "    background-color: var(--disabled-bg-color);\n",
              "    fill: var(--disabled-fill-color);\n",
              "    box-shadow: none;\n",
              "  }\n",
              "\n",
              "  .colab-df-spinner {\n",
              "    border: 2px solid var(--fill-color);\n",
              "    border-color: transparent;\n",
              "    border-bottom-color: var(--fill-color);\n",
              "    animation:\n",
              "      spin 1s steps(1) infinite;\n",
              "  }\n",
              "\n",
              "  @keyframes spin {\n",
              "    0% {\n",
              "      border-color: transparent;\n",
              "      border-bottom-color: var(--fill-color);\n",
              "      border-left-color: var(--fill-color);\n",
              "    }\n",
              "    20% {\n",
              "      border-color: transparent;\n",
              "      border-left-color: var(--fill-color);\n",
              "      border-top-color: var(--fill-color);\n",
              "    }\n",
              "    30% {\n",
              "      border-color: transparent;\n",
              "      border-left-color: var(--fill-color);\n",
              "      border-top-color: var(--fill-color);\n",
              "      border-right-color: var(--fill-color);\n",
              "    }\n",
              "    40% {\n",
              "      border-color: transparent;\n",
              "      border-right-color: var(--fill-color);\n",
              "      border-top-color: var(--fill-color);\n",
              "    }\n",
              "    60% {\n",
              "      border-color: transparent;\n",
              "      border-right-color: var(--fill-color);\n",
              "    }\n",
              "    80% {\n",
              "      border-color: transparent;\n",
              "      border-right-color: var(--fill-color);\n",
              "      border-bottom-color: var(--fill-color);\n",
              "    }\n",
              "    90% {\n",
              "      border-color: transparent;\n",
              "      border-bottom-color: var(--fill-color);\n",
              "    }\n",
              "  }\n",
              "</style>\n",
              "\n",
              "  <script>\n",
              "    async function quickchart(key) {\n",
              "      const quickchartButtonEl =\n",
              "        document.querySelector('#' + key + ' button');\n",
              "      quickchartButtonEl.disabled = true;  // To prevent multiple clicks.\n",
              "      quickchartButtonEl.classList.add('colab-df-spinner');\n",
              "      try {\n",
              "        const charts = await google.colab.kernel.invokeFunction(\n",
              "            'suggestCharts', [key], {});\n",
              "      } catch (error) {\n",
              "        console.error('Error during call to suggestCharts:', error);\n",
              "      }\n",
              "      quickchartButtonEl.classList.remove('colab-df-spinner');\n",
              "      quickchartButtonEl.classList.add('colab-df-quickchart-complete');\n",
              "    }\n",
              "    (() => {\n",
              "      let quickchartButtonEl =\n",
              "        document.querySelector('#df-c3aaf355-1acb-4634-af39-190a1c4c6e1c button');\n",
              "      quickchartButtonEl.style.display =\n",
              "        google.colab.kernel.accessAllowed ? 'block' : 'none';\n",
              "    })();\n",
              "  </script>\n",
              "</div>\n",
              "    </div>\n",
              "  </div>\n"
            ]
          },
          "metadata": {},
          "execution_count": 40
        }
      ]
    },
    {
      "cell_type": "code",
      "source": [
        "df.groupby(df.training).sales.mean()"
      ],
      "metadata": {
        "colab": {
          "base_uri": "https://localhost:8080/"
        },
        "id": "7FY-GVJVXHn3",
        "outputId": "b6cbd98d-8729-40ac-e07d-235ff76b8e61"
      },
      "execution_count": 41,
      "outputs": [
        {
          "output_type": "execute_result",
          "data": {
            "text/plain": [
              "training\n",
              "0    48536.364858\n",
              "1    56014.874893\n",
              "Name: sales, dtype: float64"
            ]
          },
          "metadata": {},
          "execution_count": 41
        }
      ]
    },
    {
      "cell_type": "code",
      "source": [
        "sns.barplot(x=\"training\", y=\"sales\", data=df)\n",
        "\n",
        "plt.ylim(45000, 60000)"
      ],
      "metadata": {
        "colab": {
          "base_uri": "https://localhost:8080/",
          "height": 472
        },
        "id": "sxLOmI_8XK0V",
        "outputId": "428728e1-2350-4027-b74c-433669e8b72e"
      },
      "execution_count": 42,
      "outputs": [
        {
          "output_type": "execute_result",
          "data": {
            "text/plain": [
              "(45000.0, 60000.0)"
            ]
          },
          "metadata": {},
          "execution_count": 42
        },
        {
          "output_type": "display_data",
          "data": {
            "text/plain": [
              "<Figure size 640x480 with 1 Axes>"
            ],
            "image/png": "[encoded data removed]"
          },
          "metadata": {}
        }
      ]
    },
    {
      "cell_type": "markdown",
      "source": [
        "**Interpretation**\n",
        "\n",
        "Trained employees on average have about 7.000 Euro higher sales.\n",
        "Note: We should not interpret this as a causal effect of the treatment as the mean difference is the sum of the causal effect of the treatment on the treated plus the selection bias. An analyist that has only data on training and sales cannot disentangle these two components."
      ],
      "metadata": {
        "id": "cack0YYhcz0M"
      }
    },
    {
      "cell_type": "code",
      "source": [
        "reg=smf.ols('sales ~ training', data=df).fit()\n",
        "Stargazer([reg])"
      ],
      "metadata": {
        "colab": {
          "base_uri": "https://localhost:8080/",
          "height": 313
        },
        "id": "LI54rMZnWW2I",
        "outputId": "c2f3a28c-f043-4514-a858-d531e0be92c3"
      },
      "execution_count": 43,
      "outputs": [
        {
          "output_type": "execute_result",
          "data": {
            "text/plain": [
              "<stargazer.stargazer.Stargazer at 0x7fd3e63cd090>"
            ],
            "text/html": [
              "<table style=\"text-align:center\"><tr><td colspan=\"2\" style=\"border-bottom: 1px solid black\"></td></tr>\n",
              "<tr><td style=\"text-align:left\"></td><td colspan=\"1\"><em>Dependent variable: sales</em></td></tr><tr><td style=\"text-align:left\"></td><tr><td style=\"text-align:left\"></td><td>(1)</td></tr>\n",
              "<tr><td colspan=\"2\" style=\"border-bottom: 1px solid black\"></td></tr>\n",
              "\n",
              "<tr><td style=\"text-align:left\">Intercept</td><td>48536.365<sup>***</sup></td></tr>\n",
              "<tr><td style=\"text-align:left\"></td><td>(260.363)</td></tr>\n",
              "<tr><td style=\"text-align:left\">training</td><td>7478.510<sup>***</sup></td></tr>\n",
              "<tr><td style=\"text-align:left\"></td><td>(359.678)</td></tr>\n",
              "\n",
              "<td colspan=\"2\" style=\"border-bottom: 1px solid black\"></td></tr>\n",
              "<tr><td style=\"text-align: left\">Observations</td><td>500</td></tr><tr><td style=\"text-align: left\">R<sup>2</sup></td><td>0.465</td></tr><tr><td style=\"text-align: left\">Adjusted R<sup>2</sup></td><td>0.464</td></tr><tr><td style=\"text-align: left\">Residual Std. Error</td><td>4016.692 (df=498)</td></tr><tr><td style=\"text-align: left\">F Statistic</td><td>432.316<sup>***</sup> (df=1; 498)</td></tr>\n",
              "<tr><td colspan=\"2\" style=\"border-bottom: 1px solid black\"></td></tr><tr><td style=\"text-align: left\">Note:</td><td colspan=\"1\" style=\"text-align: right\"><sup>*</sup>p&lt;0.1; <sup>**</sup>p&lt;0.05; <sup>***</sup>p&lt;0.01</td></tr></table>"
            ]
          },
          "metadata": {},
          "execution_count": 43
        }
      ]
    },
    {
      "cell_type": "markdown",
      "source": [
        "**Exercise II: Simulate RCT**\n",
        "\n",
        "----\n"
      ],
      "metadata": {
        "id": "7Ah31t3eWbCi"
      }
    },
    {
      "cell_type": "code",
      "source": [
        "n=50000\n",
        "df=pd.DataFrame(index=range(n))\n",
        "df['ability']=np.random.normal(100,15,n)\n",
        "df['training']=(df.ability+ np.random.normal(0,10,n)>=100)*1\n",
        "df['sales']=40000+df.training*5000+df.ability*100+np.random.normal(0,4000,n)\n",
        "df.drop(columns=['ability'])\n",
        "\n",
        "## Now: Training2 randomly assigned\n",
        "df['training2']=np.random.binomial(1, 0.05, n)\n",
        "df['sales']= df.sales + df.training2*5000\n",
        "\n",
        "\n"
      ],
      "metadata": {
        "id": "r0Tq65uqWz0e"
      },
      "execution_count": 44,
      "outputs": []
    },
    {
      "cell_type": "code",
      "source": [
        "df.groupby(df.training2).sales.mean()"
      ],
      "metadata": {
        "colab": {
          "base_uri": "https://localhost:8080/"
        },
        "id": "aEn9-5zHXgfV",
        "outputId": "a3f3de10-143a-4454-e369-a7d6a9d69339"
      },
      "execution_count": 45,
      "outputs": [
        {
          "output_type": "execute_result",
          "data": {
            "text/plain": [
              "training2\n",
              "0    52476.864822\n",
              "1    57350.656676\n",
              "Name: sales, dtype: float64"
            ]
          },
          "metadata": {},
          "execution_count": 45
        }
      ]
    },
    {
      "cell_type": "code",
      "source": [
        "sns.barplot(x=\"training2\", y=\"sales\", data=df)\n",
        "plt.ylim(45000, 65000)"
      ],
      "metadata": {
        "colab": {
          "base_uri": "https://localhost:8080/",
          "height": 472
        },
        "id": "En9IV3NSXZS2",
        "outputId": "111eb4bb-d769-44a5-8a7c-ce7beda80f1a"
      },
      "execution_count": 46,
      "outputs": [
        {
          "output_type": "execute_result",
          "data": {
            "text/plain": [
              "(45000.0, 65000.0)"
            ]
          },
          "metadata": {},
          "execution_count": 46
        },
        {
          "output_type": "display_data",
          "data": {
            "text/plain": [
              "<Figure size 640x480 with 1 Axes>"
            ],
            "image/png": "[encoded data removed]"
          },
          "metadata": {}
        }
      ]
    },
    {
      "cell_type": "code",
      "source": [
        "reg=smf.ols('sales ~ training + training2', data=df).fit()\n",
        "Stargazer([reg])"
      ],
      "metadata": {
        "colab": {
          "base_uri": "https://localhost:8080/",
          "height": 358
        },
        "id": "VerRJt3BX68n",
        "outputId": "14fbc9fd-aae5-4267-8d78-5f62e336f2e8"
      },
      "execution_count": 47,
      "outputs": [
        {
          "output_type": "execute_result",
          "data": {
            "text/plain": [
              "<stargazer.stargazer.Stargazer at 0x7fd3e646a5f0>"
            ],
            "text/html": [
              "<table style=\"text-align:center\"><tr><td colspan=\"2\" style=\"border-bottom: 1px solid black\"></td></tr>\n",
              "<tr><td style=\"text-align:left\"></td><td colspan=\"1\"><em>Dependent variable: sales</em></td></tr><tr><td style=\"text-align:left\"></td><tr><td style=\"text-align:left\"></td><td>(1)</td></tr>\n",
              "<tr><td colspan=\"2\" style=\"border-bottom: 1px solid black\"></td></tr>\n",
              "\n",
              "<tr><td style=\"text-align:left\">Intercept</td><td>48971.439<sup>***</sup></td></tr>\n",
              "<tr><td style=\"text-align:left\"></td><td>(26.628)</td></tr>\n",
              "<tr><td style=\"text-align:left\">training</td><td>7029.935<sup>***</sup></td></tr>\n",
              "<tr><td style=\"text-align:left\"></td><td>(37.226)</td></tr>\n",
              "<tr><td style=\"text-align:left\">training2</td><td>4933.727<sup>***</sup></td></tr>\n",
              "<tr><td style=\"text-align:left\"></td><td>(85.743)</td></tr>\n",
              "\n",
              "<td colspan=\"2\" style=\"border-bottom: 1px solid black\"></td></tr>\n",
              "<tr><td style=\"text-align: left\">Observations</td><td>50000</td></tr><tr><td style=\"text-align: left\">R<sup>2</sup></td><td>0.438</td></tr><tr><td style=\"text-align: left\">Adjusted R<sup>2</sup></td><td>0.438</td></tr><tr><td style=\"text-align: left\">Residual Std. Error</td><td>4161.913 (df=49997)</td></tr><tr><td style=\"text-align: left\">F Statistic</td><td>19446.900<sup>***</sup> (df=2; 49997)</td></tr>\n",
              "<tr><td colspan=\"2\" style=\"border-bottom: 1px solid black\"></td></tr><tr><td style=\"text-align: left\">Note:</td><td colspan=\"1\" style=\"text-align: right\"><sup>*</sup>p&lt;0.1; <sup>**</sup>p&lt;0.05; <sup>***</sup>p&lt;0.01</td></tr></table>"
            ]
          },
          "metadata": {},
          "execution_count": 47
        }
      ]
    },
    {
      "cell_type": "markdown",
      "source": [
        "**Interpretation**\n",
        "\n",
        "The fact that training is now randomly assigned eliminates the selection bias (as the counterfactual outcomes cannot systematically differ when there is random assignment). In a large enough sample we get closer and closer to the true causal effect.\n"
      ],
      "metadata": {
        "id": "g4NpjtQadnbf"
      }
    },
    {
      "cell_type": "markdown",
      "source": [
        "**Exercise III: Control Variables & OVB**\n",
        "\n",
        "----\n"
      ],
      "metadata": {
        "id": "0sfFCUUhYB3l"
      }
    },
    {
      "cell_type": "code",
      "source": [
        "n=500000\n",
        "df=pd.DataFrame(index=range(n))\n",
        "df['ability']=np.random.normal(100,15,n)\n",
        "df['training']=(df.ability+ np.random.normal(0,10,n)>=100)*1\n",
        "df['sales']=40000+df.training*5000+df.ability*100+np.random.normal(0,4000,n)\n",
        "\n",
        "regShort=smf.ols('sales ~ training ', data=df).fit()\n",
        "regLong=smf.ols('sales ~ training + ability', data=df).fit()\n",
        "Stargazer([regShort,regLong])"
      ],
      "metadata": {
        "colab": {
          "base_uri": "https://localhost:8080/",
          "height": 358
        },
        "id": "rnjCRXpQYi31",
        "outputId": "54c883ea-2c02-4803-b340-a4f42210a048"
      },
      "execution_count": 48,
      "outputs": [
        {
          "output_type": "execute_result",
          "data": {
            "text/plain": [
              "<stargazer.stargazer.Stargazer at 0x7fd3e63d2650>"
            ],
            "text/html": [
              "<table style=\"text-align:center\"><tr><td colspan=\"3\" style=\"border-bottom: 1px solid black\"></td></tr>\n",
              "<tr><td style=\"text-align:left\"></td><td colspan=\"2\"><em>Dependent variable: sales</em></td></tr><tr><td style=\"text-align:left\"></td><tr><td style=\"text-align:left\"></td><td>(1)</td><td>(2)</td></tr>\n",
              "<tr><td colspan=\"3\" style=\"border-bottom: 1px solid black\"></td></tr>\n",
              "\n",
              "<tr><td style=\"text-align:left\">Intercept</td><td>48985.145<sup>***</sup></td><td>40029.515<sup>***</sup></td></tr>\n",
              "<tr><td style=\"text-align:left\"></td><td>(8.299)</td><td>(46.006)</td></tr>\n",
              "<tr><td style=\"text-align:left\">ability</td><td></td><td>99.450<sup>***</sup></td></tr>\n",
              "<tr><td style=\"text-align:left\"></td><td></td><td>(0.503)</td></tr>\n",
              "<tr><td style=\"text-align:left\">training</td><td>7034.210<sup>***</sup></td><td>5051.262<sup>***</sup></td></tr>\n",
              "<tr><td style=\"text-align:left\"></td><td>(11.728)</td><td>(15.107)</td></tr>\n",
              "\n",
              "<td colspan=\"3\" style=\"border-bottom: 1px solid black\"></td></tr>\n",
              "<tr><td style=\"text-align: left\">Observations</td><td>500000</td><td>500000</td></tr><tr><td style=\"text-align: left\">R<sup>2</sup></td><td>0.418</td><td>0.461</td></tr><tr><td style=\"text-align: left\">Adjusted R<sup>2</sup></td><td>0.418</td><td>0.461</td></tr><tr><td style=\"text-align: left\">Residual Std. Error</td><td>4146.533 (df=499998)</td><td>3993.434 (df=499997)</td></tr><tr><td style=\"text-align: left\">F Statistic</td><td>359724.068<sup>***</sup> (df=1; 499998)</td><td>213454.163<sup>***</sup> (df=2; 499997)</td></tr>\n",
              "<tr><td colspan=\"3\" style=\"border-bottom: 1px solid black\"></td></tr><tr><td style=\"text-align: left\">Note:</td><td colspan=\"2\" style=\"text-align: right\"><sup>*</sup>p&lt;0.1; <sup>**</sup>p&lt;0.05; <sup>***</sup>p&lt;0.01</td></tr></table>"
            ]
          },
          "metadata": {},
          "execution_count": 48
        }
      ]
    },
    {
      "cell_type": "markdown",
      "source": [
        "**Interpretation**\n",
        "\n",
        "By controlling for ability we elimiate the selection bias (or equivalently the omitted variable bias). This works here quite well, because the CIA holds: The training is randomly assigned conditional on ability (i.e. two subjects of the same ability have the same likelihood to be trained).\n",
        "\n",
        "Note: In real world application we can of course be not entirely sure that this is the case. But we can still check variables that are candidated for causing OVB. When we control for these variables and the coefficient of interest (here of training) does not change very much, we can argue that the variable likely does not cause OVB."
      ],
      "metadata": {
        "id": "QTKl7O6TeLO_"
      }
    },
    {
      "cell_type": "code",
      "source": [
        "regA=smf.ols('ability ~ training', data=df).fit()\n",
        "Stargazer([regA])"
      ],
      "metadata": {
        "colab": {
          "base_uri": "https://localhost:8080/",
          "height": 313
        },
        "id": "mPB9vaobZDel",
        "outputId": "0194a2c2-1a90-4210-bfe6-416643312a0b"
      },
      "execution_count": 49,
      "outputs": [
        {
          "output_type": "execute_result",
          "data": {
            "text/plain": [
              "<stargazer.stargazer.Stargazer at 0x7fd3e6418e50>"
            ],
            "text/html": [
              "<table style=\"text-align:center\"><tr><td colspan=\"2\" style=\"border-bottom: 1px solid black\"></td></tr>\n",
              "<tr><td style=\"text-align:left\"></td><td colspan=\"1\"><em>Dependent variable: ability</em></td></tr><tr><td style=\"text-align:left\"></td><tr><td style=\"text-align:left\"></td><td>(1)</td></tr>\n",
              "<tr><td colspan=\"2\" style=\"border-bottom: 1px solid black\"></td></tr>\n",
              "\n",
              "<tr><td style=\"text-align:left\">Intercept</td><td>90.052<sup>***</sup></td></tr>\n",
              "<tr><td style=\"text-align:left\"></td><td>(0.022)</td></tr>\n",
              "<tr><td style=\"text-align:left\">training</td><td>19.939<sup>***</sup></td></tr>\n",
              "<tr><td style=\"text-align:left\"></td><td>(0.032)</td></tr>\n",
              "\n",
              "<td colspan=\"2\" style=\"border-bottom: 1px solid black\"></td></tr>\n",
              "<tr><td style=\"text-align: left\">Observations</td><td>500000</td></tr><tr><td style=\"text-align: left\">R<sup>2</sup></td><td>0.441</td></tr><tr><td style=\"text-align: left\">Adjusted R<sup>2</sup></td><td>0.441</td></tr><tr><td style=\"text-align: left\">Residual Std. Error</td><td>11.225 (df=499998)</td></tr><tr><td style=\"text-align: left\">F Statistic</td><td>394388.720<sup>***</sup> (df=1; 499998)</td></tr>\n",
              "<tr><td colspan=\"2\" style=\"border-bottom: 1px solid black\"></td></tr><tr><td style=\"text-align: left\">Note:</td><td colspan=\"1\" style=\"text-align: right\"><sup>*</sup>p&lt;0.1; <sup>**</sup>p&lt;0.05; <sup>***</sup>p&lt;0.01</td></tr></table>"
            ]
          },
          "metadata": {},
          "execution_count": 49
        }
      ]
    },
    {
      "cell_type": "markdown",
      "source": [
        "**Interpretation**\n",
        "\n",
        "Now we decompose the OVB using the OVB formula. To do so, we here estimate the ability difference between trained and untrained workers (Note: This is not causal, it is just the difference in conditional expectations). This ability difference is given by the coefficient of training in the above regression (your estimate should be somewhere near 20). That is trained workers have a roughly 20 points higher ability.  \n",
        "Then we multiply this ability difference with the coefficient of ability we take from the regression above of sales on training and ability (the \"long regression\").\n"
      ],
      "metadata": {
        "id": "rwblJza4lsZY"
      }
    },
    {
      "cell_type": "code",
      "source": [
        "print(\"The OVB is\", regA.params[1]*regLong.params[2])\n",
        "print(\"The reason is that we estimate that trained subjects have a \",regA.params[1], \"points higher ability.\")\n",
        "print(\"and each point of ability is predicted to yield\", regLong.params[2], \"more sales.\"  )"
      ],
      "metadata": {
        "colab": {
          "base_uri": "https://localhost:8080/"
        },
        "id": "HC1DzRsPnAMk",
        "outputId": "fc3f7383-2c9d-4bc1-b4b0-a763adccd908"
      },
      "execution_count": 50,
      "outputs": [
        {
          "output_type": "stream",
          "name": "stdout",
          "text": [
            "The OVB is 1982.9474796361862\n",
            "The reason is that we estimate that trained subjects have a  19.939199514291438 points higher ability.\n",
            "and each point of ability is predicted to yield 99.4497034956146 more sales.\n"
          ]
        }
      ]
    },
    {
      "cell_type": "markdown",
      "source": [
        "**Interpretation**\n",
        "Note that this is exactly the difference between the training coefficient in the short and the long regression above."
      ],
      "metadata": {
        "id": "lZQtGxLIn9rr"
      }
    },
    {
      "cell_type": "code",
      "source": [
        "print(\"The OVB is also equal to\", regShort.params[1]-regLong.params[1])"
      ],
      "metadata": {
        "colab": {
          "base_uri": "https://localhost:8080/"
        },
        "id": "0HKxkNUJn9Cr",
        "outputId": "76387e76-efe2-412e-d93c-3862802e9424"
      },
      "execution_count": 51,
      "outputs": [
        {
          "output_type": "stream",
          "name": "stdout",
          "text": [
            "The OVB is also equal to 1982.9474796361192\n"
          ]
        }
      ]
    },
    {
      "cell_type": "markdown",
      "source": [
        "**Exercise IV: Purposes of Control Variables**\n",
        "\n",
        "----\n"
      ],
      "metadata": {
        "id": "I0cruDmKYS9z"
      }
    },
    {
      "cell_type": "code",
      "source": [
        "n=500\n",
        "df=pd.DataFrame(index=range(n))\n",
        "df['ability']=np.random.normal(100,15,n)\n",
        "df['experience']=np.random.uniform(0,30,n)\n",
        "df['training']=(df.ability+ np.random.normal(0,10,n)>100)*1\n",
        "df['sales']=10000+df.training*5000+df.ability*100+df.experience*15000+np.random.normal(0,4000,n)"
      ],
      "metadata": {
        "id": "OZ6CkMs4cRSR"
      },
      "execution_count": 52,
      "outputs": []
    },
    {
      "cell_type": "code",
      "metadata": {
        "id": "zhPky3SmLb5R",
        "colab": {
          "base_uri": "https://localhost:8080/",
          "height": 358
        },
        "outputId": "aa662303-86b3-482b-d4ee-164342b8cd3f"
      },
      "source": [
        "reg1=smf.ols('sales ~ training', data=df).fit()\n",
        "reg2=smf.ols('sales ~ training + experience', data=df).fit()\n",
        "reg3=smf.ols('sales ~ training + ability', data=df).fit()\n",
        "reg4=smf.ols('sales ~ training + ability + experience', data=df).fit()\n",
        "tab=Stargazer([reg1,reg2,reg3,reg4])\n",
        "tab.covariate_order([\"training\", \"ability\", \"experience\"])\n",
        "tab"
      ],
      "execution_count": 53,
      "outputs": [
        {
          "output_type": "execute_result",
          "data": {
            "text/plain": [
              "<stargazer.stargazer.Stargazer at 0x7fd3e64c3730>"
            ],
            "text/html": [
              "<table style=\"text-align:center\"><tr><td colspan=\"5\" style=\"border-bottom: 1px solid black\"></td></tr>\n",
              "<tr><td style=\"text-align:left\"></td><td colspan=\"4\"><em>Dependent variable: sales</em></td></tr><tr><td style=\"text-align:left\"></td><tr><td style=\"text-align:left\"></td><td>(1)</td><td>(2)</td><td>(3)</td><td>(4)</td></tr>\n",
              "<tr><td colspan=\"5\" style=\"border-bottom: 1px solid black\"></td></tr>\n",
              "\n",
              "<tr><td style=\"text-align:left\">training</td><td>2979.782<sup></sup></td><td>7036.666<sup>***</sup></td><td>4244.138<sup></sup></td><td>5042.839<sup>***</sup></td></tr>\n",
              "<tr><td style=\"text-align:left\"></td><td>(11177.069)</td><td>(378.975)</td><td>(14665.311)</td><td>(477.515)</td></tr>\n",
              "<tr><td style=\"text-align:left\">ability</td><td></td><td></td><td>-66.977<sup></sup></td><td>105.650<sup>***</sup></td></tr>\n",
              "<tr><td style=\"text-align:left\"></td><td></td><td></td><td>(502.260)</td><td>(16.356)</td></tr>\n",
              "<tr><td style=\"text-align:left\">experience</td><td></td><td>14988.432<sup>***</sup></td><td></td><td>14990.614<sup>***</sup></td></tr>\n",
              "<tr><td style=\"text-align:left\"></td><td></td><td>(22.783)</td><td></td><td>(21.906)</td></tr>\n",
              "\n",
              "<td colspan=\"5\" style=\"border-bottom: 1px solid black\"></td></tr>\n",
              "<tr><td style=\"text-align: left\">Observations</td><td>500</td><td>500</td><td>500</td><td>500</td></tr><tr><td style=\"text-align: left\">R<sup>2</sup></td><td>0.000</td><td>0.999</td><td>0.000</td><td>0.999</td></tr><tr><td style=\"text-align: left\">Adjusted R<sup>2</sup></td><td>-0.002</td><td>0.999</td><td>-0.004</td><td>0.999</td></tr><tr><td style=\"text-align: left\">Residual Std. Error</td><td>124938.436 (df=498)</td><td>4235.661 (df=497)</td><td>125061.828 (df=497)</td><td>4072.110 (df=496)</td></tr><tr><td style=\"text-align: left\">F Statistic</td><td>0.071<sup></sup> (df=1; 498)</td><td>216427.600<sup>***</sup> (df=2; 497)</td><td>0.044<sup></sup> (df=2; 497)</td><td>156121.792<sup>***</sup> (df=3; 496)</td></tr>\n",
              "<tr><td colspan=\"5\" style=\"border-bottom: 1px solid black\"></td></tr><tr><td style=\"text-align: left\">Note:</td><td colspan=\"4\" style=\"text-align: right\"><sup>*</sup>p&lt;0.1; <sup>**</sup>p&lt;0.05; <sup>***</sup>p&lt;0.01</td></tr></table>"
            ]
          },
          "metadata": {},
          "execution_count": 53
        }
      ]
    },
    {
      "cell_type": "markdown",
      "source": [
        "**Interpretation**\n",
        "\n",
        "Here controlling for experience and ability is useful. They both help us to get better estimates of the causal effect.\n",
        "\n",
        "In fact (as the simulated data is set up) here they serve two different purposes:\n",
        "\n",
        "Ability here again causes an OVB & controlling for it eliminates this issue. In a large enough sample (try different values for n in the simulation!) it should suffice to control for ability to have good estimate of the causal effect as there are no other variables causing OVB here.\n",
        "\n",
        "Still in the small sample we have, estimates are very noisy (standard errors are large). Here controlling for experience helps as it has a very strong impact on sales. Controlling for it reduces the standard errors substantially. When we only control for experience we have rather precise estimates of the association between training and sales - but will still be biased as the OVB is only eliminated when we additionally control for ability.\n",
        "\n",
        "Note: In real world applications we of course typically do not know precisely which control variable eliminates OVB and which just serve to reduce noise. But we can sometimes learn something by comparing regessions with and without the respective variable. When it is included and the coefficient of interest hardly changes, but standard errors become smaller, then the variable likely reduced noise. When the coefficient of interest, however, changes substantially then the variable likely causes OVB.\n",
        "\n"
      ],
      "metadata": {
        "id": "s1rFJ7Kvrsxw"
      }
    },
    {
      "cell_type": "markdown",
      "source": [
        "**Exercise V: Bad Control Variables**\n",
        "\n",
        "----\n"
      ],
      "metadata": {
        "id": "311ZfAdFc5vR"
      }
    },
    {
      "cell_type": "code",
      "source": [
        "n=500\n",
        "df=pd.DataFrame(index=range(n))\n",
        "df['ability']=np.random.normal(100,15,n)\n",
        "df['training']=(df.ability+ np.random.normal(0,10,n)>=100)*1\n",
        "df['sales']=40000+df.training*5000+df.ability*100+np.random.normal(0,4000,n)\n",
        "df['testScore'] = 100 + df['ability'] + df['training']*50  + np.random.normal(0,5,n)\n",
        "\n",
        "\n",
        "reg1=smf.ols('sales ~ training', data=df).fit()\n",
        "reg2=smf.ols('sales ~ training + testScore', data=df).fit()\n",
        "reg3=smf.ols('sales ~ training + ability', data=df).fit()\n",
        "Stargazer([reg1, reg2,reg3])"
      ],
      "metadata": {
        "colab": {
          "base_uri": "https://localhost:8080/",
          "height": 403
        },
        "id": "63Xdcp20czQv",
        "outputId": "42ce8bb6-22c6-48aa-f3bf-687e1cc2b30c"
      },
      "execution_count": 54,
      "outputs": [
        {
          "output_type": "execute_result",
          "data": {
            "text/plain": [
              "<stargazer.stargazer.Stargazer at 0x7fd3e64189a0>"
            ],
            "text/html": [
              "<table style=\"text-align:center\"><tr><td colspan=\"4\" style=\"border-bottom: 1px solid black\"></td></tr>\n",
              "<tr><td style=\"text-align:left\"></td><td colspan=\"3\"><em>Dependent variable: sales</em></td></tr><tr><td style=\"text-align:left\"></td><tr><td style=\"text-align:left\"></td><td>(1)</td><td>(2)</td><td>(3)</td></tr>\n",
              "<tr><td colspan=\"4\" style=\"border-bottom: 1px solid black\"></td></tr>\n",
              "\n",
              "<tr><td style=\"text-align:left\">Intercept</td><td>48946.225<sup>***</sup></td><td>36588.260<sup>***</sup></td><td>41235.870<sup>***</sup></td></tr>\n",
              "<tr><td style=\"text-align:left\"></td><td>(252.876)</td><td>(2925.124)</td><td>(1473.649)</td></tr>\n",
              "<tr><td style=\"text-align:left\">ability</td><td></td><td></td><td>85.121<sup>***</sup></td></tr>\n",
              "<tr><td style=\"text-align:left\"></td><td></td><td></td><td>(16.040)</td></tr>\n",
              "<tr><td style=\"text-align:left\">testScore</td><td></td><td>64.828<sup>***</sup></td><td></td></tr>\n",
              "<tr><td style=\"text-align:left\"></td><td></td><td>(15.289)</td><td></td></tr>\n",
              "<tr><td style=\"text-align:left\">training</td><td>7124.910<sup>***</sup></td><td>2674.623<sup>**</sup></td><td>5544.832<sup>***</sup></td></tr>\n",
              "<tr><td style=\"text-align:left\"></td><td>(369.644)</td><td>(1110.731)</td><td>(467.144)</td></tr>\n",
              "\n",
              "<td colspan=\"4\" style=\"border-bottom: 1px solid black\"></td></tr>\n",
              "<tr><td style=\"text-align: left\">Observations</td><td>500</td><td>500</td><td>500</td></tr><tr><td style=\"text-align: left\">R<sup>2</sup></td><td>0.427</td><td>0.447</td><td>0.458</td></tr><tr><td style=\"text-align: left\">Adjusted R<sup>2</sup></td><td>0.426</td><td>0.445</td><td>0.456</td></tr><tr><td style=\"text-align: left\">Residual Std. Error</td><td>4124.277 (df=498)</td><td>4055.720 (df=497)</td><td>4016.206 (df=497)</td></tr><tr><td style=\"text-align: left\">F Statistic</td><td>371.527<sup>***</sup> (df=1; 498)</td><td>201.086<sup>***</sup> (df=2; 497)</td><td>209.976<sup>***</sup> (df=2; 497)</td></tr>\n",
              "<tr><td colspan=\"4\" style=\"border-bottom: 1px solid black\"></td></tr><tr><td style=\"text-align: left\">Note:</td><td colspan=\"3\" style=\"text-align: right\"><sup>*</sup>p&lt;0.1; <sup>**</sup>p&lt;0.05; <sup>***</sup>p&lt;0.01</td></tr></table>"
            ]
          },
          "metadata": {},
          "execution_count": 54
        }
      ]
    },
    {
      "cell_type": "markdown",
      "source": [
        "**Interpretation**\n",
        "\n",
        "Here the testScore is a bad control variable as it is affected by the \"treatment\" variable training (i.e. it reflects a test that agents have taken after the training). It thus picks up part of the causal effect of the training. Instead of overestimating the effect, we underestimate it when controlling for it.\n",
        "\n",
        "Hence: When you want to make causal statement, apply the simple rule of thumb not to put variables in the right hand side of your regression that can be affected by the variable of interest.\n"
      ],
      "metadata": {
        "id": "3g9a27t7vKCj"
      }
    },
    {
      "cell_type": "markdown",
      "source": [
        "**Exercise VI: Mediation Analysis**\n",
        "\n",
        "----\n"
      ],
      "metadata": {
        "id": "OQROU6B0CSTO"
      }
    },
    {
      "cell_type": "code",
      "source": [
        "n=500\n",
        "df=pd.DataFrame(index=range(n))\n",
        "df['ability']=np.random.normal(100,15,n)\n",
        "df['training']=(df.ability+ np.random.normal(0,10,n)>=100)*1\n",
        "df['sales']=40000+df.training*5000+df.ability*100+np.random.normal(0,4000,n)\n",
        "\n",
        "reg1=smf.ols('sales ~ ability', data=df).fit()\n",
        "reg2=smf.ols('training ~ ability', data=df).fit()\n",
        "reg3=smf.ols('sales ~ ability + training', data=df).fit()\n",
        "tab=Stargazer([reg1, reg2,reg3])\n",
        "\n",
        "## NOTE: If you use different dependent variables in the same table it is better to name them\n",
        "tab.custom_columns(['Sales', 'Training', 'Sales'])\n",
        "tab"
      ],
      "metadata": {
        "colab": {
          "base_uri": "https://localhost:8080/",
          "height": 358
        },
        "id": "ELUCrkW__14W",
        "outputId": "16cbdd9f-2c2a-4276-ae87-28fffe310e06"
      },
      "execution_count": 55,
      "outputs": [
        {
          "output_type": "execute_result",
          "data": {
            "text/plain": [
              "<stargazer.stargazer.Stargazer at 0x7fd3e62da410>"
            ],
            "text/html": [
              "<table style=\"text-align:center\"><tr><td colspan=\"4\" style=\"border-bottom: 1px solid black\"></td></tr>\n",
              "<tr><td style=\"text-align:left\"></td><tr><td></td><td colspan=\"1\">Sales</td><td colspan=\"1\">Training</td><td colspan=\"1\">Sales</td></tr><tr><td style=\"text-align:left\"></td><td>(1)</td><td>(2)</td><td>(3)</td></tr>\n",
              "<tr><td colspan=\"4\" style=\"border-bottom: 1px solid black\"></td></tr>\n",
              "\n",
              "<tr><td style=\"text-align:left\">Intercept</td><td>33293.806<sup>***</sup></td><td>-1.882<sup>***</sup></td><td>42862.585<sup>***</sup></td></tr>\n",
              "<tr><td style=\"text-align:left\"></td><td>(1416.699)</td><td>(0.114)</td><td>(1610.037)</td></tr>\n",
              "<tr><td style=\"text-align:left\">ability</td><td>191.078<sup>***</sup></td><td>0.024<sup>***</sup></td><td>70.399<sup>***</sup></td></tr>\n",
              "<tr><td style=\"text-align:left\"></td><td>(13.834)</td><td>(0.001)</td><td>(17.482)</td></tr>\n",
              "<tr><td style=\"text-align:left\">training</td><td></td><td></td><td>5084.421<sup>***</sup></td></tr>\n",
              "<tr><td style=\"text-align:left\"></td><td></td><td></td><td>(508.950)</td></tr>\n",
              "\n",
              "<td colspan=\"4\" style=\"border-bottom: 1px solid black\"></td></tr>\n",
              "<tr><td style=\"text-align: left\">Observations</td><td>500</td><td>500</td><td>500</td></tr><tr><td style=\"text-align: left\">R<sup>2</sup></td><td>0.277</td><td>0.477</td><td>0.398</td></tr><tr><td style=\"text-align: left\">Adjusted R<sup>2</sup></td><td>0.276</td><td>0.476</td><td>0.395</td></tr><tr><td style=\"text-align: left\">Residual Std. Error</td><td>4497.672 (df=498)</td><td>0.362 (df=498)</td><td>4108.544 (df=497)</td></tr><tr><td style=\"text-align: left\">F Statistic</td><td>190.772<sup>***</sup> (df=1; 498)</td><td>455.044<sup>***</sup> (df=1; 498)</td><td>164.210<sup>***</sup> (df=2; 497)</td></tr>\n",
              "<tr><td colspan=\"4\" style=\"border-bottom: 1px solid black\"></td></tr><tr><td style=\"text-align: left\">Note:</td><td colspan=\"3\" style=\"text-align: right\"><sup>*</sup>p&lt;0.1; <sup>**</sup>p&lt;0.05; <sup>***</sup>p&lt;0.01</td></tr></table>"
            ]
          },
          "metadata": {},
          "execution_count": 55
        }
      ]
    },
    {
      "cell_type": "markdown",
      "source": [
        "**Interpretation**\n",
        "\n",
        "Here we study the effect of ability on sales and the extent to which it is mediated by training.\n",
        "\n",
        "This follows the Baron/Kenny approach:\n",
        "1. Regress the outcome on the independent variable (sales ~ ability)\n",
        "\n",
        "2. Regress mediator on the independent variable (training ~ ability)\n",
        "\n",
        "3. Regress outcome on both mediator and independent variable (sales ~ ability + training)\n",
        "\n",
        "We get the \"total effect\" (i.e. the sum of the direct effect of ability and the indirect one which occurs through the training) from the first column. The \"direct effect\" is the (partial) effect of ability from the long regression. The \"indirect effect\" is the difference between the two which you can also obtain by multiplying the coefficient of ability from the second regression (how does ability affect the likelihood of training?) with the effect of training in the long regression.\n",
        "\n",
        "Here one point more ability is associated with an about 2 percentage points higher likelihood to be trained (the coefficient in regression 2)and as the training raises performance by about 5000 Euro, this indirect effect is somewhere near 0.02*5000=100.\n",
        "\n",
        "The estimated values are computed in the next cell:"
      ],
      "metadata": {
        "id": "-IBmEKdTwDsq"
      }
    },
    {
      "cell_type": "code",
      "source": [
        "print(\"Total effect: \", reg1.params[1])\n",
        "print(\"Direct effect: \", reg3.params[1])\n",
        "print(\"Indirect effect: \", reg2.params[1]*reg3.params[2])\n"
      ],
      "metadata": {
        "colab": {
          "base_uri": "https://localhost:8080/"
        },
        "id": "v96yx-tFAg3c",
        "outputId": "20b34d95-7190-4a6f-9628-532f9c9f5a0e"
      },
      "execution_count": 56,
      "outputs": [
        {
          "output_type": "stream",
          "name": "stdout",
          "text": [
            "Total effect:  191.07781739623982\n",
            "Direct effect:  70.39895989753308\n",
            "Indirect effect:  120.67885749870686\n"
          ]
        }
      ]
    },
    {
      "cell_type": "markdown",
      "source": [
        "**Interpretation**\n",
        "\n",
        "As stated in the lecture, mediation analses in general come with strong assumptions. In the above example, we could measure all variables that matter and there was only one mediator and we could be sure of this. Hence, the mediation analysis captured the true relationships well.\n",
        "\n",
        "In the real world, we can typically never be sure whether there are other unobserved variables that generate OVB. The next cell shows an example how quickly you get completely inaccurate and therefore useless results from a mediation analysis when this is the case and the respective variable is unobservable.\n"
      ],
      "metadata": {
        "id": "36E2KcZmyxR_"
      }
    },
    {
      "cell_type": "code",
      "source": [
        "## Here is an example how quickly things can go wrong\n",
        "## when there are other mediators that are unobservable or not accounted for\n",
        "\n",
        "n=5000\n",
        "df=pd.DataFrame(index=range(n))\n",
        "df['ability']=np.random.normal(100,15,n)\n",
        "df['motivation'] = np.random.normal(0,5,n)\n",
        "df['training']=(df.ability+df.motivation+ np.random.normal(0,10,n)>=100)*1\n",
        "df['sales']=40000+df.training*5000+df.motivation*2000+df.ability*100+np.random.normal(0,4000,n)\n",
        "df.drop(columns=['motivation'])\n",
        "reg1=smf.ols('sales ~ ability', data=df).fit()\n",
        "reg2=smf.ols('training ~ ability', data=df).fit()\n",
        "reg3=smf.ols('sales ~ ability + training', data=df).fit()\n",
        "tab=Stargazer([reg1,reg2,reg3])\n",
        "tab.custom_columns(['Sales', 'Training', 'Sales'])\n",
        "tab"
      ],
      "metadata": {
        "colab": {
          "base_uri": "https://localhost:8080/",
          "height": 358
        },
        "id": "xvgqm5VzGgxJ",
        "outputId": "c4557706-8130-4006-e28c-515aeab40e85"
      },
      "execution_count": 57,
      "outputs": [
        {
          "output_type": "execute_result",
          "data": {
            "text/plain": [
              "<stargazer.stargazer.Stargazer at 0x7fd3e62ebca0>"
            ],
            "text/html": [
              "<table style=\"text-align:center\"><tr><td colspan=\"4\" style=\"border-bottom: 1px solid black\"></td></tr>\n",
              "<tr><td style=\"text-align:left\"></td><tr><td></td><td colspan=\"1\">Sales</td><td colspan=\"1\">Training</td><td colspan=\"1\">Sales</td></tr><tr><td style=\"text-align:left\"></td><td>(1)</td><td>(2)</td><td>(3)</td></tr>\n",
              "<tr><td colspan=\"4\" style=\"border-bottom: 1px solid black\"></td></tr>\n",
              "\n",
              "<tr><td style=\"text-align:left\">Intercept</td><td>32580.908<sup>***</sup></td><td>-1.630<sup>***</sup></td><td>50398.024<sup>***</sup></td></tr>\n",
              "<tr><td style=\"text-align:left\"></td><td>(1077.668)</td><td>(0.037)</td><td>(1174.818)</td></tr>\n",
              "<tr><td style=\"text-align:left\">ability</td><td>198.521<sup>***</sup></td><td>0.021<sup>***</sup></td><td>-33.702<sup>***</sup></td></tr>\n",
              "<tr><td style=\"text-align:left\"></td><td>(10.639)</td><td>(0.000)</td><td>(12.740)</td></tr>\n",
              "<tr><td style=\"text-align:left\">training</td><td></td><td></td><td>10928.576<sup>***</sup></td></tr>\n",
              "<tr><td style=\"text-align:left\"></td><td></td><td></td><td>(379.910)</td></tr>\n",
              "\n",
              "<td colspan=\"4\" style=\"border-bottom: 1px solid black\"></td></tr>\n",
              "<tr><td style=\"text-align: left\">Observations</td><td>5000</td><td>5000</td><td>5000</td></tr><tr><td style=\"text-align: left\">R<sup>2</sup></td><td>0.065</td><td>0.402</td><td>0.198</td></tr><tr><td style=\"text-align: left\">Adjusted R<sup>2</sup></td><td>0.065</td><td>0.401</td><td>0.198</td></tr><tr><td style=\"text-align: left\">Residual Std. Error</td><td>11217.181 (df=4998)</td><td>0.387 (df=4998)</td><td>10390.888 (df=4997)</td></tr><tr><td style=\"text-align: left\">F Statistic</td><td>348.172<sup>***</sup> (df=1; 4998)</td><td>3353.384<sup>***</sup> (df=1; 4998)</td><td>616.622<sup>***</sup> (df=2; 4997)</td></tr>\n",
              "<tr><td colspan=\"4\" style=\"border-bottom: 1px solid black\"></td></tr><tr><td style=\"text-align: left\">Note:</td><td colspan=\"3\" style=\"text-align: right\"><sup>*</sup>p&lt;0.1; <sup>**</sup>p&lt;0.05; <sup>***</sup>p&lt;0.01</td></tr></table>"
            ]
          },
          "metadata": {},
          "execution_count": 57
        }
      ]
    },
    {
      "cell_type": "code",
      "source": [
        "print(\"Total effect: \", reg1.params[1])\n",
        "print(\"Direct effect: \", reg3.params[1])\n",
        "print(\"Indirect effect: \", reg2.params[1]*reg3.params[2])\n"
      ],
      "metadata": {
        "colab": {
          "base_uri": "https://localhost:8080/"
        },
        "id": "5dgV6yNs1Rw1",
        "outputId": "04b6ed4c-d983-4eeb-a6ce-8090f7e93c08"
      },
      "execution_count": 58,
      "outputs": [
        {
          "output_type": "stream",
          "name": "stdout",
          "text": [
            "Total effect:  198.5205538792922\n",
            "Direct effect:  -33.70173780881463\n",
            "Indirect effect:  232.22229168810688\n"
          ]
        }
      ]
    },
    {
      "cell_type": "markdown",
      "source": [
        "**Interpretation**\n",
        "\n",
        "Note that the first two regressions are ok (as here ability is exogenous), but the third regression suffers from omitted variable bias (where motivation is the omitted variable). Hence, we vastly overestimate the effect of the mediator training on sales. In turn, we underestimate the \"direct effect\" of ability.\n",
        "\n",
        "When interpreting the results as proposed by Baron/Kenny, we would claim that the direct effect of ability on training is even negative. Which is clearly wrong.\n",
        "\n",
        "Note that in the real world it is hard to see that this is wrong (as we cannot be sure that there no other omitted variables that we do not observe).\n",
        "\n",
        "**Hence, be very careful with mediation analyses!**"
      ],
      "metadata": {
        "id": "P6lEacFo1jZk"
      }
    },
    {
      "cell_type": "markdown",
      "source": [
        "**Exercise VII: Measurement Error**\n",
        "\n",
        "----\n"
      ],
      "metadata": {
        "id": "8bmOO8mjYV11"
      }
    },
    {
      "cell_type": "code",
      "source": [
        "n=500\n",
        "df=pd.DataFrame(index=range(n))\n",
        "df['ability']=np.random.normal(100,15,n)\n",
        "df['training']=(df.ability+ np.random.normal(0,10,n)>=100)*1\n",
        "df['sales']=40000+df.training*5000+df.ability*100+np.random.normal(0,4000,n)\n",
        "df['hiringTest']=df.ability+np.random.normal(0,8,n)\n",
        "\n",
        "reg1=smf.ols('sales ~ training + ability', data=df).fit()\n",
        "reg2=smf.ols('sales ~ training + hiringTest', data=df).fit()\n",
        "Stargazer([reg1, reg2])"
      ],
      "metadata": {
        "id": "TjDXnU6e3UYN",
        "colab": {
          "base_uri": "https://localhost:8080/",
          "height": 403
        },
        "outputId": "d2b77b99-5cc0-41c6-fe79-a23f45362095"
      },
      "execution_count": 59,
      "outputs": [
        {
          "output_type": "execute_result",
          "data": {
            "text/plain": [
              "<stargazer.stargazer.Stargazer at 0x7fd3e63224d0>"
            ],
            "text/html": [
              "<table style=\"text-align:center\"><tr><td colspan=\"3\" style=\"border-bottom: 1px solid black\"></td></tr>\n",
              "<tr><td style=\"text-align:left\"></td><td colspan=\"2\"><em>Dependent variable: sales</em></td></tr><tr><td style=\"text-align:left\"></td><tr><td style=\"text-align:left\"></td><td>(1)</td><td>(2)</td></tr>\n",
              "<tr><td colspan=\"3\" style=\"border-bottom: 1px solid black\"></td></tr>\n",
              "\n",
              "<tr><td style=\"text-align:left\">Intercept</td><td>38931.403<sup>***</sup></td><td>41862.026<sup>***</sup></td></tr>\n",
              "<tr><td style=\"text-align:left\"></td><td>(1396.749)</td><td>(1172.471)</td></tr>\n",
              "<tr><td style=\"text-align:left\">ability</td><td>109.401<sup>***</sup></td><td></td></tr>\n",
              "<tr><td style=\"text-align:left\"></td><td>(15.322)</td><td></td></tr>\n",
              "<tr><td style=\"text-align:left\">hiringTest</td><td></td><td>76.899<sup>***</sup></td></tr>\n",
              "<tr><td style=\"text-align:left\"></td><td></td><td>(12.793)</td></tr>\n",
              "<tr><td style=\"text-align:left\">training</td><td>5020.665<sup>***</sup></td><td>5639.765<sup>***</sup></td></tr>\n",
              "<tr><td style=\"text-align:left\"></td><td>(473.648)</td><td>(449.590)</td></tr>\n",
              "\n",
              "<td colspan=\"3\" style=\"border-bottom: 1px solid black\"></td></tr>\n",
              "<tr><td style=\"text-align: left\">Observations</td><td>500</td><td>500</td></tr><tr><td style=\"text-align: left\">R<sup>2</sup></td><td>0.496</td><td>0.482</td></tr><tr><td style=\"text-align: left\">Adjusted R<sup>2</sup></td><td>0.494</td><td>0.480</td></tr><tr><td style=\"text-align: left\">Residual Std. Error</td><td>3902.862 (df=497)</td><td>3956.841 (df=497)</td></tr><tr><td style=\"text-align: left\">F Statistic</td><td>244.521<sup>***</sup> (df=2; 497)</td><td>231.162<sup>***</sup> (df=2; 497)</td></tr>\n",
              "<tr><td colspan=\"3\" style=\"border-bottom: 1px solid black\"></td></tr><tr><td style=\"text-align: left\">Note:</td><td colspan=\"2\" style=\"text-align: right\"><sup>*</sup>p&lt;0.1; <sup>**</sup>p&lt;0.05; <sup>***</sup>p&lt;0.01</td></tr></table>"
            ]
          },
          "metadata": {},
          "execution_count": 59
        }
      ]
    },
    {
      "cell_type": "markdown",
      "source": [
        "**Interpretation**\n",
        "\n",
        "First, we are interested in the effect of ability. When we cannot measure ability but have to use a proxy variable that is measured with noise, we have measurement error. As shown in the lecture, this biases our estimate downwards. We see this in column (2): the coefficient of hiringTest is systematically smaller that the coefficient we would obtain when measuring ability without noise (column 1).\n",
        "\n",
        "In turn, we tend to overestimate the effect of the treatment when we can only control for a noisy measure of ability: The coefficient of training in column (2) tends to be larger than in column (1). This is still better than not controlling for any measure of ability (which would again give us an estimate of about 7000 as in the above). Hence, a noiy proxy for an omitted variable reduces OVB, but does not eliminate it entirely.\n",
        "\n",
        "Note that hiringScore is not a bad control variable (in the sense of the previous exercise) as it is unaffected by the treatment. Hence, it is still useful to include it - but we should be aware that noisyly measured control variables don't solve OVB entirely."
      ],
      "metadata": {
        "id": "e6QVo2QB2JJL"
      }
    },
    {
      "cell_type": "code",
      "source": [
        "n=100000\n",
        "df=pd.DataFrame(index=range(n))\n",
        "df['ability']=np.random.normal(100,15,n)\n",
        "df['training']=(df.ability+ np.random.normal(0,10,n)>=100)*1\n",
        "df['sales']=40000+df.training*5000+df.ability*100+np.random.normal(0,4000,n)\n",
        "df['hiringTest']=df.ability+np.random.normal(0,8,n)\n",
        "\n",
        "reg1=smf.ols('sales ~ training + ability', data=df).fit()\n",
        "reg2=smf.ols('sales ~ training + hiringTest', data=df).fit()\n",
        "Stargazer([reg1, reg2])"
      ],
      "metadata": {
        "colab": {
          "base_uri": "https://localhost:8080/",
          "height": 403
        },
        "outputId": "7d03b095-362e-441b-e779-6251ea63b0d9",
        "id": "ZW279uM9gPwY"
      },
      "execution_count": 60,
      "outputs": [
        {
          "output_type": "execute_result",
          "data": {
            "text/plain": [
              "<stargazer.stargazer.Stargazer at 0x7fd3e63210f0>"
            ],
            "text/html": [
              "<table style=\"text-align:center\"><tr><td colspan=\"3\" style=\"border-bottom: 1px solid black\"></td></tr>\n",
              "<tr><td style=\"text-align:left\"></td><td colspan=\"2\"><em>Dependent variable: sales</em></td></tr><tr><td style=\"text-align:left\"></td><tr><td style=\"text-align:left\"></td><td>(1)</td><td>(2)</td></tr>\n",
              "<tr><td colspan=\"3\" style=\"border-bottom: 1px solid black\"></td></tr>\n",
              "\n",
              "<tr><td style=\"text-align:left\">Intercept</td><td>39929.974<sup>***</sup></td><td>42955.200<sup>***</sup></td></tr>\n",
              "<tr><td style=\"text-align:left\"></td><td>(103.427)</td><td>(86.014)</td></tr>\n",
              "<tr><td style=\"text-align:left\">ability</td><td>100.735<sup>***</sup></td><td></td></tr>\n",
              "<tr><td style=\"text-align:left\"></td><td>(1.131)</td><td></td></tr>\n",
              "<tr><td style=\"text-align:left\">hiringTest</td><td></td><td>67.185<sup>***</sup></td></tr>\n",
              "<tr><td style=\"text-align:left\"></td><td></td><td>(0.934)</td></tr>\n",
              "<tr><td style=\"text-align:left\">training</td><td>4989.941<sup>***</sup></td><td>5654.860<sup>***</sup></td></tr>\n",
              "<tr><td style=\"text-align:left\"></td><td>(33.984)</td><td>(31.816)</td></tr>\n",
              "\n",
              "<td colspan=\"3\" style=\"border-bottom: 1px solid black\"></td></tr>\n",
              "<tr><td style=\"text-align: left\">Observations</td><td>100000</td><td>100000</td></tr><tr><td style=\"text-align: left\">R<sup>2</sup></td><td>0.457</td><td>0.442</td></tr><tr><td style=\"text-align: left\">Adjusted R<sup>2</sup></td><td>0.457</td><td>0.442</td></tr><tr><td style=\"text-align: left\">Residual Std. Error</td><td>4013.732 (df=99997)</td><td>4066.044 (df=99997)</td></tr><tr><td style=\"text-align: left\">F Statistic</td><td>42013.383<sup>***</sup> (df=2; 99997)</td><td>39661.007<sup>***</sup> (df=2; 99997)</td></tr>\n",
              "<tr><td colspan=\"3\" style=\"border-bottom: 1px solid black\"></td></tr><tr><td style=\"text-align: left\">Note:</td><td colspan=\"2\" style=\"text-align: right\"><sup>*</sup>p&lt;0.1; <sup>**</sup>p&lt;0.05; <sup>***</sup>p&lt;0.01</td></tr></table>"
            ]
          },
          "metadata": {},
          "execution_count": 60
        }
      ]
    },
    {
      "cell_type": "markdown",
      "source": [
        "**Interpretation**\n",
        "\n",
        "This issue is not solved in a large sample."
      ],
      "metadata": {
        "id": "np631voM3mCi"
      }
    },
    {
      "cell_type": "markdown",
      "source": [
        "**Exercise VIII: Measurement Error in a Control Variable**\n",
        "\n",
        "----\n"
      ],
      "metadata": {
        "id": "cp-GQOJ5hCST"
      }
    },
    {
      "cell_type": "code",
      "source": [
        "n=100000\n",
        "df=pd.DataFrame(index=range(n))\n",
        "df['ability']=np.random.normal(100,15,n)\n",
        "df['training']=(df.ability+ np.random.normal(0,10,n)>=100)*1\n",
        "df['sales']=10000+df.ability*100+np.random.normal(0,4000,n)\n",
        "df['hiringTest']=df.ability+np.random.normal(0,8,n)\n",
        "\n",
        "reg1=smf.ols('sales ~ training + hiringTest', data=df).fit()\n",
        "\n",
        "Stargazer([reg1])"
      ],
      "metadata": {
        "colab": {
          "base_uri": "https://localhost:8080/",
          "height": 358
        },
        "id": "jC2Aa_IWgrNM",
        "outputId": "de3d7132-f1c8-4281-a42b-cf52182b744d"
      },
      "execution_count": 61,
      "outputs": [
        {
          "output_type": "execute_result",
          "data": {
            "text/plain": [
              "<stargazer.stargazer.Stargazer at 0x7fd3e641a080>"
            ],
            "text/html": [
              "<table style=\"text-align:center\"><tr><td colspan=\"2\" style=\"border-bottom: 1px solid black\"></td></tr>\n",
              "<tr><td style=\"text-align:left\"></td><td colspan=\"1\"><em>Dependent variable: sales</em></td></tr><tr><td style=\"text-align:left\"></td><tr><td style=\"text-align:left\"></td><td>(1)</td></tr>\n",
              "<tr><td colspan=\"2\" style=\"border-bottom: 1px solid black\"></td></tr>\n",
              "\n",
              "<tr><td style=\"text-align:left\">Intercept</td><td>12927.894<sup>***</sup></td></tr>\n",
              "<tr><td style=\"text-align:left\"></td><td>(86.241)</td></tr>\n",
              "<tr><td style=\"text-align:left\">hiringTest</td><td>67.422<sup>***</sup></td></tr>\n",
              "<tr><td style=\"text-align:left\"></td><td>(0.936)</td></tr>\n",
              "<tr><td style=\"text-align:left\">training</td><td>694.531<sup>***</sup></td></tr>\n",
              "<tr><td style=\"text-align:left\"></td><td>(31.859)</td></tr>\n",
              "\n",
              "<td colspan=\"2\" style=\"border-bottom: 1px solid black\"></td></tr>\n",
              "<tr><td style=\"text-align: left\">Observations</td><td>100000</td></tr><tr><td style=\"text-align: left\">R<sup>2</sup></td><td>0.103</td></tr><tr><td style=\"text-align: left\">Adjusted R<sup>2</sup></td><td>0.103</td></tr><tr><td style=\"text-align: left\">Residual Std. Error</td><td>4072.954 (df=99997)</td></tr><tr><td style=\"text-align: left\">F Statistic</td><td>5741.278<sup>***</sup> (df=2; 99997)</td></tr>\n",
              "<tr><td colspan=\"2\" style=\"border-bottom: 1px solid black\"></td></tr><tr><td style=\"text-align: left\">Note:</td><td colspan=\"1\" style=\"text-align: right\"><sup>*</sup>p&lt;0.1; <sup>**</sup>p&lt;0.05; <sup>***</sup>p&lt;0.01</td></tr></table>"
            ]
          },
          "metadata": {},
          "execution_count": 61
        }
      ]
    },
    {
      "cell_type": "markdown",
      "source": [
        "**Interpretation**\n",
        "\n",
        "Here we appear to detect an effect of the training (the coefficient is positive & typically significant). In fact there is none (as sales is not driven by ability in the adapted simulation).\n",
        "\n",
        "The problem is that we again understimate the effect of ability when we proxy it by the noisy measure hiringTest. In turn, not all OVB is eliminated.\n",
        "\n",
        "If now we take the estimate of training at face value, we may be tempted to say that it raises sales by about 700 Euro. We thus may run into the danger to recommend to implement the training even though here it is in fact useless."
      ],
      "metadata": {
        "id": "iVXCCkzDAuEW"
      }
    }
  ]
}