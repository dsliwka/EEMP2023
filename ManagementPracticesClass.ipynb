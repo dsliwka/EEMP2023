{
  "nbformat": 4,
  "nbformat_minor": 0,
  "metadata": {
    "colab": {
      "provenance": [],
      "authorship_tag": "ABX9TyOThbLfqpjNndBaTI02FExe",
      "include_colab_link": true
    },
    "kernelspec": {
      "name": "python3",
      "display_name": "Python 3"
    },
    "language_info": {
      "name": "python"
    }
  },
  "cells": [
    {
      "cell_type": "markdown",
      "metadata": {
        "id": "view-in-github",
        "colab_type": "text"
      },
      "source": [
        "<a href=\"https://colab.research.google.com/github/dsliwka/EEMP2023/blob/main/ManagementPracticesClass.ipynb\" target=\"_parent\"><img src=\"https://colab.research.google.com/assets/colab-badge.svg\" alt=\"Open In Colab\"/></a>"
      ]
    },
    {
      "cell_type": "code",
      "execution_count": null,
      "metadata": {
        "id": "4bo12GLiEIkd",
        "colab": {
          "base_uri": "https://localhost:8080/"
        },
        "outputId": "1540d71e-2780-4562-9592-87575cf06a1e"
      },
      "outputs": [
        {
          "output_type": "stream",
          "name": "stdout",
          "text": [
            "Requirement already satisfied: Stargazer in /usr/local/lib/python3.10/dist-packages (0.0.6)\n"
          ]
        }
      ],
      "source": [
        "import pandas as pd\n",
        "import numpy as np\n",
        "\n",
        "import statsmodels.api as sm\n",
        "import statsmodels.formula.api as smf\n",
        "from statsmodels.iolib.summary2 import summary_col\n",
        "import seaborn as sns\n",
        "!pip install Stargazer\n",
        "from stargazer.stargazer import Stargazer\n",
        "\n",
        "from sklearn.utils import resample\n"
      ]
    },
    {
      "cell_type": "code",
      "source": [
        "path_to_data = 'https://raw.githubusercontent.com/dsliwka/EEMP2023/main/Data/AMP_Data.csv'\n",
        "df = pd.read_csv(path_to_data)\n"
      ],
      "metadata": {
        "id": "0ekS7T8RE-4J"
      },
      "execution_count": null,
      "outputs": []
    },
    {
      "cell_type": "code",
      "source": [
        "df"
      ],
      "metadata": {
        "colab": {
          "base_uri": "https://localhost:8080/",
          "height": 461
        },
        "id": "gHKN_UvzFAbc",
        "outputId": "55e7f782-e7aa-473b-8f77-8d54106b2e73"
      },
      "execution_count": null,
      "outputs": [
        {
          "output_type": "execute_result",
          "data": {
            "text/plain": [
              "      Unnamed: 0  account_id   d5sales  factor_management  ldegree_t  lean1  \\\n",
              "0              0           1  0.374976           0.634742   0.000000    3.0   \n",
              "1              1           1  0.626065           0.460456   0.000000    4.0   \n",
              "2              2           1  0.032071           0.286170   4.366278    5.0   \n",
              "3              3           2  0.227196           2.285633   0.000000    4.5   \n",
              "4              4           3  0.213310           1.911630   0.000000    3.5   \n",
              "...          ...         ...       ...                ...        ...    ...   \n",
              "7089        7089        2926  0.526407           0.791786   3.919783    2.5   \n",
              "7090        7090        2926  0.637338           0.808551   3.832232    3.0   \n",
              "7091        7091        2926  0.355583           0.825316   3.744681    3.5   \n",
              "7092        7092        2926  0.278019           0.842080   3.657131    4.0   \n",
              "7093        7093        2927  1.316810          -0.558540   2.459589    3.0   \n",
              "\n",
              "      lean2  management mne_country  mne_d  ...   hour duration_miss  \\\n",
              "0      3.00    3.500000         NaN      0  ...  18.00             0   \n",
              "1      4.00    3.333333         NaN      0  ...  18.00             0   \n",
              "2      5.00    3.166667         NaN      0  ...  18.00             0   \n",
              "3      4.50    4.555555         NaN      0  ...  15.00             0   \n",
              "4      4.00    4.333333         NaN      0  ...  14.00             0   \n",
              "...     ...         ...         ...    ...  ...    ...           ...   \n",
              "7089   3.75    3.583333         NaN      0  ...  19.75             0   \n",
              "7090   3.50    3.611111         NaN      0  ...  18.50             0   \n",
              "7091   3.25    3.638889         NaN      0  ...  17.25             0   \n",
              "7092   3.00    3.666667         NaN      0  ...  16.00             0   \n",
              "7093   2.00    2.722222          US      1  ...  14.00             0   \n",
              "\n",
              "      reliability_miss  i_seniority_miss  i_comptenure_miss  hour_miss  \\\n",
              "0                    1                 0                  0          0   \n",
              "1                    1                 0                  0          0   \n",
              "2                    0                 0                  0          0   \n",
              "3                    0                 0                  0          0   \n",
              "4                    1                 0                  0          0   \n",
              "...                ...               ...                ...        ...   \n",
              "7089                 0                 0                  0          0   \n",
              "7090                 0                 0                  0          0   \n",
              "7091                 0                 0                  0          0   \n",
              "7092                 0                 0                  0          0   \n",
              "7093                 0                 0                  0          0   \n",
              "\n",
              "      ldegree_t_miss       sales         emp       ppent  \n",
              "0                  1    88585.01   403.00003   10828.998  \n",
              "1                  1   116900.99   405.00003    9241.004  \n",
              "2                  0   103448.01   410.00000    8946.000  \n",
              "3                  1   246291.10   670.99994   69757.984  \n",
              "4                  1   454517.12  1627.00000   89360.970  \n",
              "...              ...         ...         ...         ...  \n",
              "7089               0   262517.03  1313.00010   60770.004  \n",
              "7090               0   279724.94  1303.00020   60550.000  \n",
              "7091               0   245282.00  1164.99990   59896.016  \n",
              "7092               0   244552.10  1393.99990   67418.016  \n",
              "7093               0  3066275.20  9362.99700  157464.940  \n",
              "\n",
              "[7094 rows x 49 columns]"
            ],
            "text/html": [
              "\n",
              "  <div id=\"df-e1819d69-e72f-4fae-9a42-fd1f69d339ba\" class=\"colab-df-container\">\n",
              "    <div>\n",
              "<style scoped>\n",
              "    .dataframe tbody tr th:only-of-type {\n",
              "        vertical-align: middle;\n",
              "    }\n",
              "\n",
              "    .dataframe tbody tr th {\n",
              "        vertical-align: top;\n",
              "    }\n",
              "\n",
              "    .dataframe thead th {\n",
              "        text-align: right;\n",
              "    }\n",
              "</style>\n",
              "<table border=\"1\" class=\"dataframe\">\n",
              "  <thead>\n",
              "    <tr style=\"text-align: right;\">\n",
              "      <th></th>\n",
              "      <th>Unnamed: 0</th>\n",
              "      <th>account_id</th>\n",
              "      <th>d5sales</th>\n",
              "      <th>factor_management</th>\n",
              "      <th>ldegree_t</th>\n",
              "      <th>lean1</th>\n",
              "      <th>lean2</th>\n",
              "      <th>management</th>\n",
              "      <th>mne_country</th>\n",
              "      <th>mne_d</th>\n",
              "      <th>...</th>\n",
              "      <th>hour</th>\n",
              "      <th>duration_miss</th>\n",
              "      <th>reliability_miss</th>\n",
              "      <th>i_seniority_miss</th>\n",
              "      <th>i_comptenure_miss</th>\n",
              "      <th>hour_miss</th>\n",
              "      <th>ldegree_t_miss</th>\n",
              "      <th>sales</th>\n",
              "      <th>emp</th>\n",
              "      <th>ppent</th>\n",
              "    </tr>\n",
              "  </thead>\n",
              "  <tbody>\n",
              "    <tr>\n",
              "      <th>0</th>\n",
              "      <td>0</td>\n",
              "      <td>1</td>\n",
              "      <td>0.374976</td>\n",
              "      <td>0.634742</td>\n",
              "      <td>0.000000</td>\n",
              "      <td>3.0</td>\n",
              "      <td>3.00</td>\n",
              "      <td>3.500000</td>\n",
              "      <td>NaN</td>\n",
              "      <td>0</td>\n",
              "      <td>...</td>\n",
              "      <td>18.00</td>\n",
              "      <td>0</td>\n",
              "      <td>1</td>\n",
              "      <td>0</td>\n",
              "      <td>0</td>\n",
              "      <td>0</td>\n",
              "      <td>1</td>\n",
              "      <td>88585.01</td>\n",
              "      <td>403.00003</td>\n",
              "      <td>10828.998</td>\n",
              "    </tr>\n",
              "    <tr>\n",
              "      <th>1</th>\n",
              "      <td>1</td>\n",
              "      <td>1</td>\n",
              "      <td>0.626065</td>\n",
              "      <td>0.460456</td>\n",
              "      <td>0.000000</td>\n",
              "      <td>4.0</td>\n",
              "      <td>4.00</td>\n",
              "      <td>3.333333</td>\n",
              "      <td>NaN</td>\n",
              "      <td>0</td>\n",
              "      <td>...</td>\n",
              "      <td>18.00</td>\n",
              "      <td>0</td>\n",
              "      <td>1</td>\n",
              "      <td>0</td>\n",
              "      <td>0</td>\n",
              "      <td>0</td>\n",
              "      <td>1</td>\n",
              "      <td>116900.99</td>\n",
              "      <td>405.00003</td>\n",
              "      <td>9241.004</td>\n",
              "    </tr>\n",
              "    <tr>\n",
              "      <th>2</th>\n",
              "      <td>2</td>\n",
              "      <td>1</td>\n",
              "      <td>0.032071</td>\n",
              "      <td>0.286170</td>\n",
              "      <td>4.366278</td>\n",
              "      <td>5.0</td>\n",
              "      <td>5.00</td>\n",
              "      <td>3.166667</td>\n",
              "      <td>NaN</td>\n",
              "      <td>0</td>\n",
              "      <td>...</td>\n",
              "      <td>18.00</td>\n",
              "      <td>0</td>\n",
              "      <td>0</td>\n",
              "      <td>0</td>\n",
              "      <td>0</td>\n",
              "      <td>0</td>\n",
              "      <td>0</td>\n",
              "      <td>103448.01</td>\n",
              "      <td>410.00000</td>\n",
              "      <td>8946.000</td>\n",
              "    </tr>\n",
              "    <tr>\n",
              "      <th>3</th>\n",
              "      <td>3</td>\n",
              "      <td>2</td>\n",
              "      <td>0.227196</td>\n",
              "      <td>2.285633</td>\n",
              "      <td>0.000000</td>\n",
              "      <td>4.5</td>\n",
              "      <td>4.50</td>\n",
              "      <td>4.555555</td>\n",
              "      <td>NaN</td>\n",
              "      <td>0</td>\n",
              "      <td>...</td>\n",
              "      <td>15.00</td>\n",
              "      <td>0</td>\n",
              "      <td>0</td>\n",
              "      <td>0</td>\n",
              "      <td>0</td>\n",
              "      <td>0</td>\n",
              "      <td>1</td>\n",
              "      <td>246291.10</td>\n",
              "      <td>670.99994</td>\n",
              "      <td>69757.984</td>\n",
              "    </tr>\n",
              "    <tr>\n",
              "      <th>4</th>\n",
              "      <td>4</td>\n",
              "      <td>3</td>\n",
              "      <td>0.213310</td>\n",
              "      <td>1.911630</td>\n",
              "      <td>0.000000</td>\n",
              "      <td>3.5</td>\n",
              "      <td>4.00</td>\n",
              "      <td>4.333333</td>\n",
              "      <td>NaN</td>\n",
              "      <td>0</td>\n",
              "      <td>...</td>\n",
              "      <td>14.00</td>\n",
              "      <td>0</td>\n",
              "      <td>1</td>\n",
              "      <td>0</td>\n",
              "      <td>0</td>\n",
              "      <td>0</td>\n",
              "      <td>1</td>\n",
              "      <td>454517.12</td>\n",
              "      <td>1627.00000</td>\n",
              "      <td>89360.970</td>\n",
              "    </tr>\n",
              "    <tr>\n",
              "      <th>...</th>\n",
              "      <td>...</td>\n",
              "      <td>...</td>\n",
              "      <td>...</td>\n",
              "      <td>...</td>\n",
              "      <td>...</td>\n",
              "      <td>...</td>\n",
              "      <td>...</td>\n",
              "      <td>...</td>\n",
              "      <td>...</td>\n",
              "      <td>...</td>\n",
              "      <td>...</td>\n",
              "      <td>...</td>\n",
              "      <td>...</td>\n",
              "      <td>...</td>\n",
              "      <td>...</td>\n",
              "      <td>...</td>\n",
              "      <td>...</td>\n",
              "      <td>...</td>\n",
              "      <td>...</td>\n",
              "      <td>...</td>\n",
              "      <td>...</td>\n",
              "    </tr>\n",
              "    <tr>\n",
              "      <th>7089</th>\n",
              "      <td>7089</td>\n",
              "      <td>2926</td>\n",
              "      <td>0.526407</td>\n",
              "      <td>0.791786</td>\n",
              "      <td>3.919783</td>\n",
              "      <td>2.5</td>\n",
              "      <td>3.75</td>\n",
              "      <td>3.583333</td>\n",
              "      <td>NaN</td>\n",
              "      <td>0</td>\n",
              "      <td>...</td>\n",
              "      <td>19.75</td>\n",
              "      <td>0</td>\n",
              "      <td>0</td>\n",
              "      <td>0</td>\n",
              "      <td>0</td>\n",
              "      <td>0</td>\n",
              "      <td>0</td>\n",
              "      <td>262517.03</td>\n",
              "      <td>1313.00010</td>\n",
              "      <td>60770.004</td>\n",
              "    </tr>\n",
              "    <tr>\n",
              "      <th>7090</th>\n",
              "      <td>7090</td>\n",
              "      <td>2926</td>\n",
              "      <td>0.637338</td>\n",
              "      <td>0.808551</td>\n",
              "      <td>3.832232</td>\n",
              "      <td>3.0</td>\n",
              "      <td>3.50</td>\n",
              "      <td>3.611111</td>\n",
              "      <td>NaN</td>\n",
              "      <td>0</td>\n",
              "      <td>...</td>\n",
              "      <td>18.50</td>\n",
              "      <td>0</td>\n",
              "      <td>0</td>\n",
              "      <td>0</td>\n",
              "      <td>0</td>\n",
              "      <td>0</td>\n",
              "      <td>0</td>\n",
              "      <td>279724.94</td>\n",
              "      <td>1303.00020</td>\n",
              "      <td>60550.000</td>\n",
              "    </tr>\n",
              "    <tr>\n",
              "      <th>7091</th>\n",
              "      <td>7091</td>\n",
              "      <td>2926</td>\n",
              "      <td>0.355583</td>\n",
              "      <td>0.825316</td>\n",
              "      <td>3.744681</td>\n",
              "      <td>3.5</td>\n",
              "      <td>3.25</td>\n",
              "      <td>3.638889</td>\n",
              "      <td>NaN</td>\n",
              "      <td>0</td>\n",
              "      <td>...</td>\n",
              "      <td>17.25</td>\n",
              "      <td>0</td>\n",
              "      <td>0</td>\n",
              "      <td>0</td>\n",
              "      <td>0</td>\n",
              "      <td>0</td>\n",
              "      <td>0</td>\n",
              "      <td>245282.00</td>\n",
              "      <td>1164.99990</td>\n",
              "      <td>59896.016</td>\n",
              "    </tr>\n",
              "    <tr>\n",
              "      <th>7092</th>\n",
              "      <td>7092</td>\n",
              "      <td>2926</td>\n",
              "      <td>0.278019</td>\n",
              "      <td>0.842080</td>\n",
              "      <td>3.657131</td>\n",
              "      <td>4.0</td>\n",
              "      <td>3.00</td>\n",
              "      <td>3.666667</td>\n",
              "      <td>NaN</td>\n",
              "      <td>0</td>\n",
              "      <td>...</td>\n",
              "      <td>16.00</td>\n",
              "      <td>0</td>\n",
              "      <td>0</td>\n",
              "      <td>0</td>\n",
              "      <td>0</td>\n",
              "      <td>0</td>\n",
              "      <td>0</td>\n",
              "      <td>244552.10</td>\n",
              "      <td>1393.99990</td>\n",
              "      <td>67418.016</td>\n",
              "    </tr>\n",
              "    <tr>\n",
              "      <th>7093</th>\n",
              "      <td>7093</td>\n",
              "      <td>2927</td>\n",
              "      <td>1.316810</td>\n",
              "      <td>-0.558540</td>\n",
              "      <td>2.459589</td>\n",
              "      <td>3.0</td>\n",
              "      <td>2.00</td>\n",
              "      <td>2.722222</td>\n",
              "      <td>US</td>\n",
              "      <td>1</td>\n",
              "      <td>...</td>\n",
              "      <td>14.00</td>\n",
              "      <td>0</td>\n",
              "      <td>0</td>\n",
              "      <td>0</td>\n",
              "      <td>0</td>\n",
              "      <td>0</td>\n",
              "      <td>0</td>\n",
              "      <td>3066275.20</td>\n",
              "      <td>9362.99700</td>\n",
              "      <td>157464.940</td>\n",
              "    </tr>\n",
              "  </tbody>\n",
              "</table>\n",
              "<p>7094 rows × 49 columns</p>\n",
              "</div>\n",
              "    <div class=\"colab-df-buttons\">\n",
              "\n",
              "  <div class=\"colab-df-container\">\n",
              "    <button class=\"colab-df-convert\" onclick=\"convertToInteractive('df-e1819d69-e72f-4fae-9a42-fd1f69d339ba')\"\n",
              "            title=\"Convert this dataframe to an interactive table.\"\n",
              "            style=\"display:none;\">\n",
              "\n",
              "  <svg xmlns=\"http://www.w3.org/2000/svg\" height=\"24px\" viewBox=\"0 -960 960 960\">\n",
              "    <path d=\"M120-120v-720h720v720H120Zm60-500h600v-160H180v160Zm220 220h160v-160H400v160Zm0 220h160v-160H400v160ZM180-400h160v-160H180v160Zm440 0h160v-160H620v160ZM180-180h160v-160H180v160Zm440 0h160v-160H620v160Z\"/>\n",
              "  </svg>\n",
              "    </button>\n",
              "\n",
              "  <style>\n",
              "    .colab-df-container {\n",
              "      display:flex;\n",
              "      gap: 12px;\n",
              "    }\n",
              "\n",
              "    .colab-df-convert {\n",
              "      background-color: #E8F0FE;\n",
              "      border: none;\n",
              "      border-radius: 50%;\n",
              "      cursor: pointer;\n",
              "      display: none;\n",
              "      fill: #1967D2;\n",
              "      height: 32px;\n",
              "      padding: 0 0 0 0;\n",
              "      width: 32px;\n",
              "    }\n",
              "\n",
              "    .colab-df-convert:hover {\n",
              "      background-color: #E2EBFA;\n",
              "      box-shadow: 0px 1px 2px rgba(60, 64, 67, 0.3), 0px 1px 3px 1px rgba(60, 64, 67, 0.15);\n",
              "      fill: #174EA6;\n",
              "    }\n",
              "\n",
              "    .colab-df-buttons div {\n",
              "      margin-bottom: 4px;\n",
              "    }\n",
              "\n",
              "    [theme=dark] .colab-df-convert {\n",
              "      background-color: #3B4455;\n",
              "      fill: #D2E3FC;\n",
              "    }\n",
              "\n",
              "    [theme=dark] .colab-df-convert:hover {\n",
              "      background-color: #434B5C;\n",
              "      box-shadow: 0px 1px 3px 1px rgba(0, 0, 0, 0.15);\n",
              "      filter: drop-shadow(0px 1px 2px rgba(0, 0, 0, 0.3));\n",
              "      fill: #FFFFFF;\n",
              "    }\n",
              "  </style>\n",
              "\n",
              "    <script>\n",
              "      const buttonEl =\n",
              "        document.querySelector('#df-e1819d69-e72f-4fae-9a42-fd1f69d339ba button.colab-df-convert');\n",
              "      buttonEl.style.display =\n",
              "        google.colab.kernel.accessAllowed ? 'block' : 'none';\n",
              "\n",
              "      async function convertToInteractive(key) {\n",
              "        const element = document.querySelector('#df-e1819d69-e72f-4fae-9a42-fd1f69d339ba');\n",
              "        const dataTable =\n",
              "          await google.colab.kernel.invokeFunction('convertToInteractive',\n",
              "                                                    [key], {});\n",
              "        if (!dataTable) return;\n",
              "\n",
              "        const docLinkHtml = 'Like what you see? Visit the ' +\n",
              "          '<a target=\"_blank\" href=https://colab.research.google.com/notebooks/data_table.ipynb>data table notebook</a>'\n",
              "          + ' to learn more about interactive tables.';\n",
              "        element.innerHTML = '';\n",
              "        dataTable['output_type'] = 'display_data';\n",
              "        await google.colab.output.renderOutput(dataTable, element);\n",
              "        const docLink = document.createElement('div');\n",
              "        docLink.innerHTML = docLinkHtml;\n",
              "        element.appendChild(docLink);\n",
              "      }\n",
              "    </script>\n",
              "  </div>\n",
              "\n",
              "\n",
              "<div id=\"df-35949de3-60eb-404e-9be0-461767981a59\">\n",
              "  <button class=\"colab-df-quickchart\" onclick=\"quickchart('df-35949de3-60eb-404e-9be0-461767981a59')\"\n",
              "            title=\"Suggest charts.\"\n",
              "            style=\"display:none;\">\n",
              "\n",
              "<svg xmlns=\"http://www.w3.org/2000/svg\" height=\"24px\"viewBox=\"0 0 24 24\"\n",
              "     width=\"24px\">\n",
              "    <g>\n",
              "        <path d=\"M19 3H5c-1.1 0-2 .9-2 2v14c0 1.1.9 2 2 2h14c1.1 0 2-.9 2-2V5c0-1.1-.9-2-2-2zM9 17H7v-7h2v7zm4 0h-2V7h2v10zm4 0h-2v-4h2v4z\"/>\n",
              "    </g>\n",
              "</svg>\n",
              "  </button>\n",
              "\n",
              "<style>\n",
              "  .colab-df-quickchart {\n",
              "      --bg-color: #E8F0FE;\n",
              "      --fill-color: #1967D2;\n",
              "      --hover-bg-color: #E2EBFA;\n",
              "      --hover-fill-color: #174EA6;\n",
              "      --disabled-fill-color: #AAA;\n",
              "      --disabled-bg-color: #DDD;\n",
              "  }\n",
              "\n",
              "  [theme=dark] .colab-df-quickchart {\n",
              "      --bg-color: #3B4455;\n",
              "      --fill-color: #D2E3FC;\n",
              "      --hover-bg-color: #434B5C;\n",
              "      --hover-fill-color: #FFFFFF;\n",
              "      --disabled-bg-color: #3B4455;\n",
              "      --disabled-fill-color: #666;\n",
              "  }\n",
              "\n",
              "  .colab-df-quickchart {\n",
              "    background-color: var(--bg-color);\n",
              "    border: none;\n",
              "    border-radius: 50%;\n",
              "    cursor: pointer;\n",
              "    display: none;\n",
              "    fill: var(--fill-color);\n",
              "    height: 32px;\n",
              "    padding: 0;\n",
              "    width: 32px;\n",
              "  }\n",
              "\n",
              "  .colab-df-quickchart:hover {\n",
              "    background-color: var(--hover-bg-color);\n",
              "    box-shadow: 0 1px 2px rgba(60, 64, 67, 0.3), 0 1px 3px 1px rgba(60, 64, 67, 0.15);\n",
              "    fill: var(--button-hover-fill-color);\n",
              "  }\n",
              "\n",
              "  .colab-df-quickchart-complete:disabled,\n",
              "  .colab-df-quickchart-complete:disabled:hover {\n",
              "    background-color: var(--disabled-bg-color);\n",
              "    fill: var(--disabled-fill-color);\n",
              "    box-shadow: none;\n",
              "  }\n",
              "\n",
              "  .colab-df-spinner {\n",
              "    border: 2px solid var(--fill-color);\n",
              "    border-color: transparent;\n",
              "    border-bottom-color: var(--fill-color);\n",
              "    animation:\n",
              "      spin 1s steps(1) infinite;\n",
              "  }\n",
              "\n",
              "  @keyframes spin {\n",
              "    0% {\n",
              "      border-color: transparent;\n",
              "      border-bottom-color: var(--fill-color);\n",
              "      border-left-color: var(--fill-color);\n",
              "    }\n",
              "    20% {\n",
              "      border-color: transparent;\n",
              "      border-left-color: var(--fill-color);\n",
              "      border-top-color: var(--fill-color);\n",
              "    }\n",
              "    30% {\n",
              "      border-color: transparent;\n",
              "      border-left-color: var(--fill-color);\n",
              "      border-top-color: var(--fill-color);\n",
              "      border-right-color: var(--fill-color);\n",
              "    }\n",
              "    40% {\n",
              "      border-color: transparent;\n",
              "      border-right-color: var(--fill-color);\n",
              "      border-top-color: var(--fill-color);\n",
              "    }\n",
              "    60% {\n",
              "      border-color: transparent;\n",
              "      border-right-color: var(--fill-color);\n",
              "    }\n",
              "    80% {\n",
              "      border-color: transparent;\n",
              "      border-right-color: var(--fill-color);\n",
              "      border-bottom-color: var(--fill-color);\n",
              "    }\n",
              "    90% {\n",
              "      border-color: transparent;\n",
              "      border-bottom-color: var(--fill-color);\n",
              "    }\n",
              "  }\n",
              "</style>\n",
              "\n",
              "  <script>\n",
              "    async function quickchart(key) {\n",
              "      const quickchartButtonEl =\n",
              "        document.querySelector('#' + key + ' button');\n",
              "      quickchartButtonEl.disabled = true;  // To prevent multiple clicks.\n",
              "      quickchartButtonEl.classList.add('colab-df-spinner');\n",
              "      try {\n",
              "        const charts = await google.colab.kernel.invokeFunction(\n",
              "            'suggestCharts', [key], {});\n",
              "      } catch (error) {\n",
              "        console.error('Error during call to suggestCharts:', error);\n",
              "      }\n",
              "      quickchartButtonEl.classList.remove('colab-df-spinner');\n",
              "      quickchartButtonEl.classList.add('colab-df-quickchart-complete');\n",
              "    }\n",
              "    (() => {\n",
              "      let quickchartButtonEl =\n",
              "        document.querySelector('#df-35949de3-60eb-404e-9be0-461767981a59 button');\n",
              "      quickchartButtonEl.style.display =\n",
              "        google.colab.kernel.accessAllowed ? 'block' : 'none';\n",
              "    })();\n",
              "  </script>\n",
              "</div>\n",
              "    </div>\n",
              "  </div>\n"
            ]
          },
          "metadata": {},
          "execution_count": 35
        }
      ]
    },
    {
      "cell_type": "code",
      "source": [
        "sns.histplot(df.management)"
      ],
      "metadata": {
        "colab": {
          "base_uri": "https://localhost:8080/",
          "height": 466
        },
        "id": "ioS_EMR1GFW5",
        "outputId": "f997ef7b-350c-4be3-89d6-23c591918c66"
      },
      "execution_count": null,
      "outputs": [
        {
          "output_type": "execute_result",
          "data": {
            "text/plain": [
              "<Axes: xlabel='management', ylabel='Count'>"
            ]
          },
          "metadata": {},
          "execution_count": 36
        },
        {
          "output_type": "display_data",
          "data": {
            "text/plain": [
              "<Figure size 640x480 with 1 Axes>"
            ],
            "image/png": "[encoded data removed]"
          },
          "metadata": {}
        }
      ]
    },
    {
      "cell_type": "code",
      "source": [
        "sns.regplot(x=\"management\", y=\"roce\", x_bins=10, data=df)"
      ],
      "metadata": {
        "colab": {
          "base_uri": "https://localhost:8080/",
          "height": 466
        },
        "id": "F0f0nkJOGKmc",
        "outputId": "259843e9-514c-424f-9133-657544938078"
      },
      "execution_count": null,
      "outputs": [
        {
          "output_type": "execute_result",
          "data": {
            "text/plain": [
              "<Axes: xlabel='management', ylabel='roce'>"
            ]
          },
          "metadata": {},
          "execution_count": 37
        },
        {
          "output_type": "display_data",
          "data": {
            "text/plain": [
              "<Figure size 640x480 with 1 Axes>"
            ],
            "image/png": "[encoded data removed]"
          },
          "metadata": {}
        }
      ]
    },
    {
      "cell_type": "code",
      "source": [
        "reg=smf.ols(\"roce ~ management\", data=df).fit()\n",
        "##print(summary_col([reg], stars=True))\n",
        "Stargazer([reg])"
      ],
      "metadata": {
        "colab": {
          "base_uri": "https://localhost:8080/",
          "height": 313
        },
        "id": "XYPTJ_y1HS1a",
        "outputId": "a3622bdc-46db-4543-e906-1a9587f4e016"
      },
      "execution_count": null,
      "outputs": [
        {
          "output_type": "execute_result",
          "data": {
            "text/plain": [
              "<stargazer.stargazer.Stargazer at 0x79cf70408730>"
            ],
            "text/html": [
              "<table style=\"text-align:center\"><tr><td colspan=\"2\" style=\"border-bottom: 1px solid black\"></td></tr>\n",
              "<tr><td style=\"text-align:left\"></td><td colspan=\"1\"><em>Dependent variable: roce</em></td></tr><tr><td style=\"text-align:left\"></td><tr><td style=\"text-align:left\"></td><td>(1)</td></tr>\n",
              "<tr><td colspan=\"2\" style=\"border-bottom: 1px solid black\"></td></tr>\n",
              "\n",
              "<tr><td style=\"text-align:left\">Intercept</td><td>8.068<sup>***</sup></td></tr>\n",
              "<tr><td style=\"text-align:left\"></td><td>(0.917)</td></tr>\n",
              "<tr><td style=\"text-align:left\">management</td><td>2.455<sup>***</sup></td></tr>\n",
              "<tr><td style=\"text-align:left\"></td><td>(0.297)</td></tr>\n",
              "\n",
              "<td colspan=\"2\" style=\"border-bottom: 1px solid black\"></td></tr>\n",
              "<tr><td style=\"text-align: left\">Observations</td><td>7094</td></tr><tr><td style=\"text-align: left\">R<sup>2</sup></td><td>0.010</td></tr><tr><td style=\"text-align: left\">Adjusted R<sup>2</sup></td><td>0.009</td></tr><tr><td style=\"text-align: left\">Residual Std. Error</td><td>15.424 (df=7092)</td></tr><tr><td style=\"text-align: left\">F Statistic</td><td>68.430<sup>***</sup> (df=1; 7092)</td></tr>\n",
              "<tr><td colspan=\"2\" style=\"border-bottom: 1px solid black\"></td></tr><tr><td style=\"text-align: left\">Note:</td><td colspan=\"1\" style=\"text-align: right\"><sup>*</sup>p&lt;0.1; <sup>**</sup>p&lt;0.05; <sup>***</sup>p&lt;0.01</td></tr></table>"
            ]
          },
          "metadata": {},
          "execution_count": 38
        }
      ]
    },
    {
      "cell_type": "code",
      "source": [
        "df[\"ChinaD\"]=(df.country==\"China\")\n",
        "df.ChinaD.describe()"
      ],
      "metadata": {
        "colab": {
          "base_uri": "https://localhost:8080/"
        },
        "id": "ldKN2blbIedn",
        "outputId": "57adb083-eeb4-4b50-d95e-b7dca784e2d8"
      },
      "execution_count": null,
      "outputs": [
        {
          "output_type": "execute_result",
          "data": {
            "text/plain": [
              "count      7094\n",
              "unique        2\n",
              "top       False\n",
              "freq       6519\n",
              "Name: ChinaD, dtype: object"
            ]
          },
          "metadata": {},
          "execution_count": 39
        }
      ]
    },
    {
      "cell_type": "code",
      "source": [
        "#dfn=df[df.country.isin([\"Great Britain\",\"China\"])]\n",
        "dfn=df[(df.country==\"Great Britain\")|(df.country==\"China\")]\n",
        "\n",
        "sns.barplot(y=\"country\", x=\"management\", data=dfn)"
      ],
      "metadata": {
        "colab": {
          "base_uri": "https://localhost:8080/",
          "height": 466
        },
        "id": "_CAzWejQJxVV",
        "outputId": "3ff3386f-2ded-40ae-df65-a805f5617818"
      },
      "execution_count": null,
      "outputs": [
        {
          "output_type": "execute_result",
          "data": {
            "text/plain": [
              "<Axes: xlabel='management', ylabel='country'>"
            ]
          },
          "metadata": {},
          "execution_count": 40
        },
        {
          "output_type": "display_data",
          "data": {
            "text/plain": [
              "<Figure size 640x480 with 1 Axes>"
            ],
            "image/png": "[encoded data removed]"
          },
          "metadata": {}
        }
      ]
    },
    {
      "cell_type": "code",
      "source": [
        "reg1=smf.ols(\"roce ~ management\", data=dfn).fit()\n",
        "reg2=smf.ols(\"roce ~ management * ChinaD\", data=dfn).fit()\n",
        "reg3=smf.ols(\"roce ~ management\", data=dfn[df.country==\"Great Britain\"]).fit()\n",
        "reg4=smf.ols(\"roce ~ management\", data=dfn[df.country==\"China\"]).fit()\n",
        "\n",
        "##print(reg2.summary())\n",
        "##print(summary_col([reg,reg2], stars=True, regressor_order=[\"management\", \"ChinaD[T.True]\", \"management:ChinaD[T.True]\"]))\n",
        "\n",
        "tab=Stargazer([reg1,reg2,reg3,reg4])\n",
        "tab.covariate_order([\"management\", \"ChinaD[T.True]\", \"management:ChinaD[T.True]\", \"Intercept\"])\n",
        "tab.rename_covariates({\"management\": \"Management\",\"ChinaD[T.True]\": \"China\", \"management:ChinaD[T.True]\": \"Management x China\"})\n",
        "tab"
      ],
      "metadata": {
        "colab": {
          "base_uri": "https://localhost:8080/",
          "height": 472
        },
        "id": "y4Bg3iOsLCtA",
        "outputId": "cc92914a-7a91-4e33-931a-707e39bcac00"
      },
      "execution_count": null,
      "outputs": [
        {
          "output_type": "stream",
          "name": "stderr",
          "text": [
            "<ipython-input-57-4973d5e35998>:3: UserWarning: Boolean Series key will be reindexed to match DataFrame index.\n",
            "  reg3=smf.ols(\"roce ~ management\", data=dfn[df.country==\"Great Britain\"]).fit()\n",
            "<ipython-input-57-4973d5e35998>:4: UserWarning: Boolean Series key will be reindexed to match DataFrame index.\n",
            "  reg4=smf.ols(\"roce ~ management\", data=dfn[df.country==\"China\"]).fit()\n"
          ]
        },
        {
          "output_type": "execute_result",
          "data": {
            "text/plain": [
              "<stargazer.stargazer.Stargazer at 0x79cf6fd38730>"
            ],
            "text/html": [
              "<table style=\"text-align:center\"><tr><td colspan=\"5\" style=\"border-bottom: 1px solid black\"></td></tr>\n",
              "<tr><td style=\"text-align:left\"></td><td colspan=\"4\"><em>Dependent variable: roce</em></td></tr><tr><td style=\"text-align:left\"></td><tr><td style=\"text-align:left\"></td><td>(1)</td><td>(2)</td><td>(3)</td><td>(4)</td></tr>\n",
              "<tr><td colspan=\"5\" style=\"border-bottom: 1px solid black\"></td></tr>\n",
              "\n",
              "<tr><td style=\"text-align:left\">Management</td><td>1.427<sup>**</sup></td><td>2.255<sup>***</sup></td><td>2.255<sup>***</sup></td><td>-1.703<sup></sup></td></tr>\n",
              "<tr><td style=\"text-align:left\"></td><td>(0.599)</td><td>(0.673)</td><td>(0.666)</td><td>(1.591)</td></tr>\n",
              "<tr><td style=\"text-align:left\">China</td><td></td><td>12.108<sup>**</sup></td><td></td><td></td></tr>\n",
              "<tr><td style=\"text-align:left\"></td><td></td><td>(4.782)</td><td></td><td></td></tr>\n",
              "<tr><td style=\"text-align:left\">Management x China</td><td></td><td>-3.958<sup>**</sup></td><td></td><td></td></tr>\n",
              "<tr><td style=\"text-align:left\"></td><td></td><td>(1.686)</td><td></td><td></td></tr>\n",
              "<tr><td style=\"text-align:left\">Intercept</td><td>11.187<sup>***</sup></td><td>8.391<sup>***</sup></td><td>8.391<sup>***</sup></td><td>20.500<sup>***</sup></td></tr>\n",
              "<tr><td style=\"text-align:left\"></td><td>(1.821)</td><td>(2.106)</td><td>(2.084)</td><td>(4.420)</td></tr>\n",
              "\n",
              "<td colspan=\"5\" style=\"border-bottom: 1px solid black\"></td></tr>\n",
              "<tr><td style=\"text-align: left\">Observations</td><td>2203</td><td>2203</td><td>1628</td><td>575</td></tr><tr><td style=\"text-align: left\">R<sup>2</sup></td><td>0.003</td><td>0.006</td><td>0.007</td><td>0.002</td></tr><tr><td style=\"text-align: left\">Adjusted R<sup>2</sup></td><td>0.002</td><td>0.004</td><td>0.006</td><td>0.000</td></tr><tr><td style=\"text-align: left\">Residual Std. Error</td><td>16.273 (df=2201)</td><td>16.254 (df=2199)</td><td>16.082 (df=1626)</td><td>16.732 (df=573)</td></tr><tr><td style=\"text-align: left\">F Statistic</td><td>5.678<sup>**</sup> (df=1; 2201)</td><td>4.283<sup>***</sup> (df=3; 2199)</td><td>11.449<sup>***</sup> (df=1; 1626)</td><td>1.146<sup></sup> (df=1; 573)</td></tr>\n",
              "<tr><td colspan=\"5\" style=\"border-bottom: 1px solid black\"></td></tr><tr><td style=\"text-align: left\">Note:</td><td colspan=\"4\" style=\"text-align: right\"><sup>*</sup>p&lt;0.1; <sup>**</sup>p&lt;0.05; <sup>***</sup>p&lt;0.01</td></tr></table>"
            ]
          },
          "metadata": {},
          "execution_count": 57
        }
      ]
    },
    {
      "cell_type": "code",
      "source": [
        "sns.regplot(x=\"management\", y=\"roce\", x_bins=10, data=dfn[dfn.country==\"China\"])\n"
      ],
      "metadata": {
        "colab": {
          "base_uri": "https://localhost:8080/",
          "height": 466
        },
        "id": "iZ_20WC0SJX0",
        "outputId": "ceaf610c-49e1-4515-a8d2-bcfa4f00bcce"
      },
      "execution_count": null,
      "outputs": [
        {
          "output_type": "execute_result",
          "data": {
            "text/plain": [
              "<Axes: xlabel='management', ylabel='roce'>"
            ]
          },
          "metadata": {},
          "execution_count": 42
        },
        {
          "output_type": "display_data",
          "data": {
            "text/plain": [
              "<Figure size 640x480 with 1 Axes>"
            ],
            "image/png": "[encoded data removed]"
          },
          "metadata": {}
        }
      ]
    },
    {
      "cell_type": "code",
      "source": [
        "sns.regplot(x=\"management\", y=\"roce\", x_bins=10, data=dfn[dfn.country==\"Great Britain\"])"
      ],
      "metadata": {
        "colab": {
          "base_uri": "https://localhost:8080/",
          "height": 466
        },
        "id": "FYK4GzKNVJ82",
        "outputId": "32ee7869-c553-4d3a-cec4-c8a0d369554e"
      },
      "execution_count": null,
      "outputs": [
        {
          "output_type": "execute_result",
          "data": {
            "text/plain": [
              "<Axes: xlabel='management', ylabel='roce'>"
            ]
          },
          "metadata": {},
          "execution_count": 43
        },
        {
          "output_type": "display_data",
          "data": {
            "text/plain": [
              "<Figure size 640x480 with 1 Axes>"
            ],
            "image/png": "[encoded data removed]"
          },
          "metadata": {}
        }
      ]
    },
    {
      "cell_type": "code",
      "source": [
        "sns.regplot(x=\"management\", y=\"roce\", x_bins=10, scatter=False, data=dfn[dfn.country==\"China\"])\n",
        "sns.regplot(x=\"management\", y=\"roce\", x_bins=10, scatter=False, data=dfn[dfn.country==\"Great Britain\"])"
      ],
      "metadata": {
        "colab": {
          "base_uri": "https://localhost:8080/",
          "height": 466
        },
        "id": "QK1d1HbiWVj5",
        "outputId": "3179c116-d670-4a90-9130-d3671feb44a8"
      },
      "execution_count": null,
      "outputs": [
        {
          "output_type": "execute_result",
          "data": {
            "text/plain": [
              "<Axes: xlabel='management', ylabel='roce'>"
            ]
          },
          "metadata": {},
          "execution_count": 44
        },
        {
          "output_type": "display_data",
          "data": {
            "text/plain": [
              "<Figure size 640x480 with 1 Axes>"
            ],
            "image/png": "[encoded data removed]"
          },
          "metadata": {}
        }
      ]
    }
  ]
}