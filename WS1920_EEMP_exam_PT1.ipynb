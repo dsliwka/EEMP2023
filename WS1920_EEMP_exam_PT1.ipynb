{
  "cells": [
    {
      "cell_type": "markdown",
      "metadata": {
        "id": "view-in-github",
        "colab_type": "text"
      },
      "source": [
        "<a href=\"https://colab.research.google.com/github/dsliwka/EEMP2022/blob/main/notebooks/WS1920_EEMP_exam_PT1.ipynb\" target=\"_parent\"><img src=\"https://colab.research.google.com/assets/colab-badge.svg\" alt=\"Open In Colab\"/></a>"
      ]
    },
    {
      "cell_type": "markdown",
      "metadata": {
        "id": "NloCUdFdMJ_c"
      },
      "source": [
        "# 1253BMEE00 FA MP MB Econometric Evaluation of Management Practices\n",
        "## Examiner: Prof. Dr. Dirk Sliwka\n",
        "## Date: 02.12.2019"
      ]
    },
    {
      "cell_type": "markdown",
      "metadata": {
        "id": "ddTHABwxMJ_i"
      },
      "source": [
        "## Instructions:\n",
        "\n",
        "Please follow the instructions below, such that we will be able to correctly identify your solutions to the exam.\n",
        "\n",
        "**1. Please take a copy of this jupyter notebook and save it as a separate file in the following format:**\n",
        "\n",
        "*WS1920_EEMP_exam_PT1_matriculationnumber_initials.ipynb*\n",
        "\n",
        "- i.e., the final file name should look like this: *WS1920_EEMP_exam_PT1_1234567_MM.ipynb*\n",
        "\n",
        "**2. Please also enter your matriculation number and your initials in the following cell:**"
      ]
    },
    {
      "cell_type": "markdown",
      "metadata": {
        "id": "-8PX5cVeMJ_j"
      },
      "source": [
        "### Matriculation number:\n",
        "### Initials:"
      ]
    },
    {
      "cell_type": "markdown",
      "metadata": {
        "id": "XcRSPrnaMJ_k"
      },
      "source": [
        "## Background information\n",
        "\n",
        "The datasets provided on the memory sticks contain data from a study by Bloom et al. (2015): *Does Working from Home Work? Evidence from a Chinese Experiment*, where the authors evaluate the performance effect of giving Chinese call-center employees the opportunity to work from home. To do this, they first asked the employees whether they would generally be willing to work from home. Of those employees who volunteered to work from home, they **<u>randomly</u>** chose a **subgroup** which was actually given the **opportunity to work from home** (**treatment group**). Those employees who **volunteered**, but were **not given the opportunity to work from home**, serve as the **control group**."
      ]
    },
    {
      "cell_type": "markdown",
      "metadata": {
        "id": "6y_Ek1rjMJ_k"
      },
      "source": [
        "The code cell below imports the standard module *pandas*. It also imports the two datasets relevant for this exam, provided that the specified paths are correct (this depends on where you saved the files on your laptop). Please execute this cell before you start your work."
      ]
    },
    {
      "cell_type": "code",
      "execution_count": null,
      "metadata": {
        "scrolled": true,
        "id": "yy_Uq7L6MJ_k"
      },
      "outputs": [],
      "source": [
        "import pandas as pd\n",
        "\n",
        "path_data_task1 = 'https://raw.githubusercontent.com/dsliwka/EEMP2023/main/Data/data_task1.csv'\n",
        "df1 = pd.read_csv(path_data_task1)\n",
        "\n",
        "path_data_task2 = 'https://raw.githubusercontent.com/dsliwka/EEMP2023/main/Data/data_performance.csv'\n",
        "df2 = pd.read_csv(path_data_task2)"
      ]
    },
    {
      "cell_type": "code",
      "execution_count": null,
      "metadata": {
        "scrolled": true,
        "id": "sGVIQ0MiMJ_m"
      },
      "outputs": [],
      "source": [
        "# further imports\n",
        "import pandas as pd\n",
        "import numpy as np\n",
        "import statsmodels.api as sm\n",
        "import statsmodels.formula.api as smf\n",
        "import seaborn as sns\n",
        "from statsmodels.iolib.summary2 import summary_col\n",
        "import matplotlib.pyplot as plt"
      ]
    },
    {
      "cell_type": "markdown",
      "metadata": {
        "id": "WymBPdGUMJ_m"
      },
      "source": [
        "*Good luck!*"
      ]
    },
    {
      "cell_type": "markdown",
      "metadata": {
        "id": "BPx96tkkMJ_m"
      },
      "source": [
        "## Assignment 1 (30 points)"
      ]
    },
    {
      "cell_type": "markdown",
      "metadata": {
        "id": "7QELXpfQMJ_n"
      },
      "source": [
        "The dataset *data_task1.csv* contains the following variables from the experimental period (that is the time frame in which the treatment group worked from home):\n",
        "- *personid*: individual employee identifier\n",
        "- *calllength*: performance measure, indicating the weekly sum of minutes on the phone\n",
        "- *treatment*: treatment dummy, indicating whether the employee was part of the treatment group\n",
        "- *commute120*: commuting dummy, indicating whether the employee has to commute more than 120 minutes in total\n",
        "- *year_week*: indicator for year and calender week\n",
        "\n",
        "__a)__ Using *data_task1.csv*, estimate the following OLS regression and show its output using python (remember to cluster the standard errors on the \"personid\" level):\n",
        "\n",
        "**Regression 1**: $$ ln(calllength) = \\alpha + \\beta_{1} * treatment + \\beta_{t} * year\\_week_{t} + \\epsilon $$\n",
        "\n",
        "*Note:* To account for seasonal variation beta_t reflects the full set of weekly time dummies.\n",
        "\n",
        "\n",
        "Please give a precise verbal interpretation of the coefficient for treatment and its statistical significance.   \n",
        "\n",
        "\n",
        "\n",
        "<div style=\"text-align: right\"> <b>10 points</b> </div>"
      ]
    },
    {
      "cell_type": "code",
      "execution_count": null,
      "metadata": {
        "scrolled": true,
        "id": "Rk9dwHlgMJ_n"
      },
      "outputs": [],
      "source": [
        "# Insert your code here:"
      ]
    },
    {
      "cell_type": "markdown",
      "metadata": {
        "id": "eGMEELVaMJ_o"
      },
      "source": [
        "'# Give the verbal answer here:"
      ]
    },
    {
      "cell_type": "markdown",
      "metadata": {
        "id": "0G3MM2SmMJ_o"
      },
      "source": [
        "__b)__ In a next step, please explore in another regression (Regression 2) whether the size of the treatment effect depends on the commuting distance (remember to cluster the standard errors on the \"personid\" level and as before include the full set of weekly time dummies).\n",
        "\n",
        "\n",
        "Please give a precise verbal interpretation of the results and the respective magnitudes of your estimates. Explain what this means for the effectiveness of the working from home treatment intervention and elaborate on potential reasons. \n",
        "\n",
        "\n",
        "\n",
        "<div style=\"text-align: right\"> <b>10 points</b> </div>"
      ]
    },
    {
      "cell_type": "code",
      "execution_count": null,
      "metadata": {
        "scrolled": true,
        "id": "m9v-6Xb_MJ_p"
      },
      "outputs": [],
      "source": [
        "# Insert your code here:"
      ]
    },
    {
      "cell_type": "markdown",
      "metadata": {
        "id": "wgPWVW4DMJ_p"
      },
      "source": [
        "'# Give the verbal answer here:"
      ]
    },
    {
      "cell_type": "markdown",
      "metadata": {
        "id": "-McN7lyDMJ_p"
      },
      "source": [
        "__c)__ As explained above, the researchers first explored which employees would be willing to work from home and then randomly selected a subgroup amongst these employees who would take part in the treatment. Explain why this is an essential step to estimate the causal effect of the treatment. \n",
        "\n",
        "<div style=\"text-align: right\"> <b>5 points</b> </div>"
      ]
    },
    {
      "cell_type": "markdown",
      "metadata": {
        "id": "98_oFBKAMJ_q"
      },
      "source": [
        "'# Give the verbal answer here:"
      ]
    },
    {
      "cell_type": "markdown",
      "metadata": {
        "id": "q7y3BhycMJ_q"
      },
      "source": [
        "__d)__ Assume now working from home would not have been randomly assigned, i.e., employees could decide individually whether they want to take part in working from home or not. Which alternative methods could help to estimate the causal effect of the management practice in this case. Please also explain verbally which assumption(s) you would have to impose to give a causal interpretation of the results.\n",
        "\n",
        "<div style=\"text-align: right\"> <b>5 points</b> </div>"
      ]
    },
    {
      "cell_type": "markdown",
      "metadata": {
        "id": "ChNNv1u_MJ_q"
      },
      "source": [
        "'# Give the verbal answer here:"
      ]
    },
    {
      "cell_type": "markdown",
      "metadata": {
        "id": "d2uyzhWPMJ_q"
      },
      "source": [
        "## Assignment 2 (30 points)"
      ]
    },
    {
      "cell_type": "markdown",
      "metadata": {
        "id": "g_0aKhFCMJ_r"
      },
      "source": [
        "_Your general task in this assignment is to use employee features listed below to predict employees' performance. In the first part of the exercise, you will perform data cleaning. In the second part, you are tasked with (i) finding the optimal Random Forest regressor to predict performance (i.e., model selection) and (ii) estimating the general performance of the selected model (i.e. model assessment)._"
      ]
    },
    {
      "cell_type": "markdown",
      "metadata": {
        "id": "5QJtSjVrMJ_r"
      },
      "source": [
        "The dataset data_task2.csv contains the following variables from a pre-experimental period on a subset of the employees:\n",
        "\n",
        "- *personid*: individual employee identifier\n",
        "- *age*: age in years\n",
        "- *tenure*: tenure in months\n",
        "- *wage*: gross wage\n",
        "- *children*: children dummy, indicating whether the employee has children\n",
        "- *bedroom*: bedroom dummy, indicating whether the employee has a bedroom\n",
        "- *commute*: commuting time in minutes\n",
        "- *men*: gender dummy, indicating whether the employee is male\n",
        "- *married*: marriage dummy, indicating whether the employee is married\n",
        "- *volunteer*: volunteering dummy, indicating whether the employee volunteered for working from home in the experiment\n",
        "- *high_educ*: education dummy, indicating whether the employee has a higher education\n",
        "- *z_performance*: performance measure, which indicates the standardized performance of the employee (i.e. subtracted by the mean and divided by the standard deviation)."
      ]
    },
    {
      "cell_type": "code",
      "execution_count": null,
      "metadata": {
        "scrolled": true,
        "id": "_D3XHgxuMJ_s"
      },
      "outputs": [],
      "source": [
        "# Insert your code here:"
      ]
    },
    {
      "cell_type": "markdown",
      "metadata": {
        "id": "BhS5shBVMJ_s"
      },
      "source": [
        "**a)** Using *data_task2.csv*, remove the 'wage' and 'personid' columns from the dataframe and remove any row that contains missing values (i.e. 'NaN's).\n",
        "<div style=\"text-align: right\"> <b>2 points</b> </div>"
      ]
    },
    {
      "cell_type": "code",
      "execution_count": null,
      "metadata": {
        "scrolled": true,
        "id": "fgUiUTqrMJ_s"
      },
      "outputs": [],
      "source": [
        "# Insert your code here:"
      ]
    },
    {
      "cell_type": "markdown",
      "metadata": {
        "id": "g8vBsOrmMJ_t"
      },
      "source": [
        "**b)** Split the data into a training set containing 75% of the observations and a test set containing 25% of the observations. Use 181 as the random state to allow for reproducibility.\n",
        "<div style=\"text-align: right\"> <b>2 points</b> </div>"
      ]
    },
    {
      "cell_type": "code",
      "execution_count": null,
      "metadata": {
        "scrolled": true,
        "id": "GFGGe9bGMJ_t"
      },
      "outputs": [],
      "source": [
        "# Insert your code here:"
      ]
    },
    {
      "cell_type": "markdown",
      "metadata": {
        "id": "XHvC3OTzMJ_t"
      },
      "source": [
        "_In the following, you wish to apply the Cross Validation (CV) technique on the training set to find the optimal Random Forest regressor that can predict performance based on all the other features._"
      ]
    },
    {
      "cell_type": "markdown",
      "metadata": {
        "id": "8b-u8Q1mMJ_u"
      },
      "source": [
        "__c)__ Before you perform the model selection, please state and justify your choice of (i) number of folds in the Cross Validation (CV), (ii) hyperparameters, and (iii) parameter grid (i.e. the dictionary containing the hyperparameter candidates).\n",
        "<div style=\"text-align: right\"> <b>6 points</b> </div>"
      ]
    },
    {
      "cell_type": "markdown",
      "metadata": {
        "id": "W6sdoL7iMJ_u"
      },
      "source": [
        "'# Give the verbal answer here:"
      ]
    },
    {
      "cell_type": "markdown",
      "metadata": {
        "id": "G62yTHLGMJ_u"
      },
      "source": [
        "__d)__ Based on your answer in c), perform the model selection and print the optimal Random Forest regressor.\n",
        "<div style=\"text-align: right\"> <b>8 points</b> </div>"
      ]
    },
    {
      "cell_type": "code",
      "execution_count": null,
      "metadata": {
        "scrolled": true,
        "id": "F-9MB7PIMJ_u"
      },
      "outputs": [],
      "source": [
        "# Insert your code here:"
      ]
    },
    {
      "cell_type": "markdown",
      "metadata": {
        "id": "QSNnp2ynMJ_v"
      },
      "source": [
        "**e)** Print out the feature importance of all the features of the optimal Random Forest regressor you found in d). Which three features are most predictive of performance? Provide a potential reason for this.\n",
        "<div style=\"text-align: right\"> <b>8 points</b> </div>"
      ]
    },
    {
      "cell_type": "code",
      "execution_count": null,
      "metadata": {
        "scrolled": true,
        "id": "9Zdj_fVpMJ_v"
      },
      "outputs": [],
      "source": [
        "# Insert your code here:"
      ]
    },
    {
      "cell_type": "markdown",
      "metadata": {
        "id": "eNyaeWFjMJ_w"
      },
      "source": [
        "'# Give the verbal answer here:"
      ]
    },
    {
      "cell_type": "markdown",
      "metadata": {
        "id": "LARXD9MrMJ_w"
      },
      "source": [
        "**f)** Now get an unbiased estimate of the squared error of the optimal Random Forest regressor you found in d). Explain why this estimate is better than calculating the mean squared error on the training set.\n",
        "<div style=\"text-align: right\"> <b>4 points</b> </div>"
      ]
    },
    {
      "cell_type": "code",
      "execution_count": null,
      "metadata": {
        "scrolled": true,
        "id": "8HUe3FCnMJ_w"
      },
      "outputs": [],
      "source": [
        "# Insert your code here:"
      ]
    },
    {
      "cell_type": "markdown",
      "metadata": {
        "id": "GBzdA6TUMJ_x"
      },
      "source": [
        "'# Give the verbal answer here:"
      ]
    }
  ],
  "metadata": {
    "kernelspec": {
      "display_name": "Python 3",
      "language": "python",
      "name": "python3"
    },
    "language_info": {
      "codemirror_mode": {
        "name": "ipython",
        "version": 3
      },
      "file_extension": ".py",
      "mimetype": "text/x-python",
      "name": "python",
      "nbconvert_exporter": "python",
      "pygments_lexer": "ipython3",
      "version": "3.8.8"
    },
    "toc": {
      "base_numbering": 1,
      "nav_menu": {},
      "number_sections": false,
      "sideBar": true,
      "skip_h1_title": true,
      "title_cell": "Course Contents",
      "title_sidebar": "Contents",
      "toc_cell": false,
      "toc_position": {
        "height": "calc(100% - 180px)",
        "left": "10px",
        "top": "150px",
        "width": "209.391px"
      },
      "toc_section_display": true,
      "toc_window_display": false
    },
    "colab": {
      "provenance": [],
      "include_colab_link": true
    }
  },
  "nbformat": 4,
  "nbformat_minor": 0
}
