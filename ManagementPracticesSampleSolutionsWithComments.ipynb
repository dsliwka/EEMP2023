{
  "nbformat": 4,
  "nbformat_minor": 0,
  "metadata": {
    "colab": {
      "provenance": [],
      "authorship_tag": "ABX9TyMpPFTVvSC1Sc66xJzgGa4U",
      "include_colab_link": true
    },
    "kernelspec": {
      "name": "python3",
      "display_name": "Python 3"
    },
    "language_info": {
      "name": "python"
    }
  },
  "cells": [
    {
      "cell_type": "markdown",
      "metadata": {
        "id": "view-in-github",
        "colab_type": "text"
      },
      "source": [
        "<a href=\"https://colab.research.google.com/github/dsliwka/EEMP2023/blob/main/ManagementPracticesSampleSolutionsWithComments.ipynb\" target=\"_parent\"><img src=\"https://colab.research.google.com/assets/colab-badge.svg\" alt=\"Open In Colab\"/></a>"
      ]
    },
    {
      "cell_type": "code",
      "execution_count": 51,
      "metadata": {
        "id": "4bo12GLiEIkd",
        "colab": {
          "base_uri": "https://localhost:8080/"
        },
        "outputId": "c8e82635-3246-4d1a-858b-1de3aa82853e"
      },
      "outputs": [
        {
          "output_type": "stream",
          "name": "stdout",
          "text": [
            "Requirement already satisfied: Stargazer in /usr/local/lib/python3.10/dist-packages (0.0.6)\n"
          ]
        }
      ],
      "source": [
        "import pandas as pd\n",
        "import numpy as np\n",
        "\n",
        "import statsmodels.api as sm\n",
        "import statsmodels.formula.api as smf\n",
        "from statsmodels.iolib.summary2 import summary_col\n",
        "import seaborn as sns\n",
        "!pip install Stargazer\n",
        "from stargazer.stargazer import Stargazer\n",
        "\n",
        "from sklearn.utils import resample\n"
      ]
    },
    {
      "cell_type": "code",
      "source": [
        "path_to_data = 'https://raw.githubusercontent.com/dsliwka/EEMP2023/main/Data/AMP_Data.csv'\n",
        "df = pd.read_csv(path_to_data)\n"
      ],
      "metadata": {
        "id": "0ekS7T8RE-4J"
      },
      "execution_count": 52,
      "outputs": []
    },
    {
      "cell_type": "markdown",
      "source": [
        "# **The World Magement Survey: Inspecting the Data**\n",
        "\n",
        "----\n",
        "\n",
        "- First inspect the data set\n",
        "- Look at the distribution of variables with histplot\n",
        "- Inspect associations in the data graphically with regplot\n",
        "\n",
        "---\n",
        "\n"
      ],
      "metadata": {
        "id": "-jjaxgHH8-37"
      }
    },
    {
      "cell_type": "code",
      "source": [
        "df"
      ],
      "metadata": {
        "colab": {
          "base_uri": "https://localhost:8080/",
          "height": 461
        },
        "id": "gHKN_UvzFAbc",
        "outputId": "9c3d55c3-4add-497e-9aae-924c0108296a"
      },
      "execution_count": 53,
      "outputs": [
        {
          "output_type": "execute_result",
          "data": {
            "text/plain": [
              "      Unnamed: 0  account_id   d5sales  factor_management  ldegree_t  lean1  \\\n",
              "0              0           1  0.374976           0.634742   0.000000    3.0   \n",
              "1              1           1  0.626065           0.460456   0.000000    4.0   \n",
              "2              2           1  0.032071           0.286170   4.366278    5.0   \n",
              "3              3           2  0.227196           2.285633   0.000000    4.5   \n",
              "4              4           3  0.213310           1.911630   0.000000    3.5   \n",
              "...          ...         ...       ...                ...        ...    ...   \n",
              "7089        7089        2926  0.526407           0.791786   3.919783    2.5   \n",
              "7090        7090        2926  0.637338           0.808551   3.832232    3.0   \n",
              "7091        7091        2926  0.355583           0.825316   3.744681    3.5   \n",
              "7092        7092        2926  0.278019           0.842080   3.657131    4.0   \n",
              "7093        7093        2927  1.316810          -0.558540   2.459589    3.0   \n",
              "\n",
              "      lean2  management mne_country  mne_d  ...   hour duration_miss  \\\n",
              "0      3.00    3.500000         NaN      0  ...  18.00             0   \n",
              "1      4.00    3.333333         NaN      0  ...  18.00             0   \n",
              "2      5.00    3.166667         NaN      0  ...  18.00             0   \n",
              "3      4.50    4.555555         NaN      0  ...  15.00             0   \n",
              "4      4.00    4.333333         NaN      0  ...  14.00             0   \n",
              "...     ...         ...         ...    ...  ...    ...           ...   \n",
              "7089   3.75    3.583333         NaN      0  ...  19.75             0   \n",
              "7090   3.50    3.611111         NaN      0  ...  18.50             0   \n",
              "7091   3.25    3.638889         NaN      0  ...  17.25             0   \n",
              "7092   3.00    3.666667         NaN      0  ...  16.00             0   \n",
              "7093   2.00    2.722222          US      1  ...  14.00             0   \n",
              "\n",
              "      reliability_miss  i_seniority_miss  i_comptenure_miss  hour_miss  \\\n",
              "0                    1                 0                  0          0   \n",
              "1                    1                 0                  0          0   \n",
              "2                    0                 0                  0          0   \n",
              "3                    0                 0                  0          0   \n",
              "4                    1                 0                  0          0   \n",
              "...                ...               ...                ...        ...   \n",
              "7089                 0                 0                  0          0   \n",
              "7090                 0                 0                  0          0   \n",
              "7091                 0                 0                  0          0   \n",
              "7092                 0                 0                  0          0   \n",
              "7093                 0                 0                  0          0   \n",
              "\n",
              "      ldegree_t_miss       sales         emp       ppent  \n",
              "0                  1    88585.01   403.00003   10828.998  \n",
              "1                  1   116900.99   405.00003    9241.004  \n",
              "2                  0   103448.01   410.00000    8946.000  \n",
              "3                  1   246291.10   670.99994   69757.984  \n",
              "4                  1   454517.12  1627.00000   89360.970  \n",
              "...              ...         ...         ...         ...  \n",
              "7089               0   262517.03  1313.00010   60770.004  \n",
              "7090               0   279724.94  1303.00020   60550.000  \n",
              "7091               0   245282.00  1164.99990   59896.016  \n",
              "7092               0   244552.10  1393.99990   67418.016  \n",
              "7093               0  3066275.20  9362.99700  157464.940  \n",
              "\n",
              "[7094 rows x 49 columns]"
            ],
            "text/html": [
              "\n",
              "  <div id=\"df-35b886a0-0d47-4dc9-8d01-a03be284e512\" class=\"colab-df-container\">\n",
              "    <div>\n",
              "<style scoped>\n",
              "    .dataframe tbody tr th:only-of-type {\n",
              "        vertical-align: middle;\n",
              "    }\n",
              "\n",
              "    .dataframe tbody tr th {\n",
              "        vertical-align: top;\n",
              "    }\n",
              "\n",
              "    .dataframe thead th {\n",
              "        text-align: right;\n",
              "    }\n",
              "</style>\n",
              "<table border=\"1\" class=\"dataframe\">\n",
              "  <thead>\n",
              "    <tr style=\"text-align: right;\">\n",
              "      <th></th>\n",
              "      <th>Unnamed: 0</th>\n",
              "      <th>account_id</th>\n",
              "      <th>d5sales</th>\n",
              "      <th>factor_management</th>\n",
              "      <th>ldegree_t</th>\n",
              "      <th>lean1</th>\n",
              "      <th>lean2</th>\n",
              "      <th>management</th>\n",
              "      <th>mne_country</th>\n",
              "      <th>mne_d</th>\n",
              "      <th>...</th>\n",
              "      <th>hour</th>\n",
              "      <th>duration_miss</th>\n",
              "      <th>reliability_miss</th>\n",
              "      <th>i_seniority_miss</th>\n",
              "      <th>i_comptenure_miss</th>\n",
              "      <th>hour_miss</th>\n",
              "      <th>ldegree_t_miss</th>\n",
              "      <th>sales</th>\n",
              "      <th>emp</th>\n",
              "      <th>ppent</th>\n",
              "    </tr>\n",
              "  </thead>\n",
              "  <tbody>\n",
              "    <tr>\n",
              "      <th>0</th>\n",
              "      <td>0</td>\n",
              "      <td>1</td>\n",
              "      <td>0.374976</td>\n",
              "      <td>0.634742</td>\n",
              "      <td>0.000000</td>\n",
              "      <td>3.0</td>\n",
              "      <td>3.00</td>\n",
              "      <td>3.500000</td>\n",
              "      <td>NaN</td>\n",
              "      <td>0</td>\n",
              "      <td>...</td>\n",
              "      <td>18.00</td>\n",
              "      <td>0</td>\n",
              "      <td>1</td>\n",
              "      <td>0</td>\n",
              "      <td>0</td>\n",
              "      <td>0</td>\n",
              "      <td>1</td>\n",
              "      <td>88585.01</td>\n",
              "      <td>403.00003</td>\n",
              "      <td>10828.998</td>\n",
              "    </tr>\n",
              "    <tr>\n",
              "      <th>1</th>\n",
              "      <td>1</td>\n",
              "      <td>1</td>\n",
              "      <td>0.626065</td>\n",
              "      <td>0.460456</td>\n",
              "      <td>0.000000</td>\n",
              "      <td>4.0</td>\n",
              "      <td>4.00</td>\n",
              "      <td>3.333333</td>\n",
              "      <td>NaN</td>\n",
              "      <td>0</td>\n",
              "      <td>...</td>\n",
              "      <td>18.00</td>\n",
              "      <td>0</td>\n",
              "      <td>1</td>\n",
              "      <td>0</td>\n",
              "      <td>0</td>\n",
              "      <td>0</td>\n",
              "      <td>1</td>\n",
              "      <td>116900.99</td>\n",
              "      <td>405.00003</td>\n",
              "      <td>9241.004</td>\n",
              "    </tr>\n",
              "    <tr>\n",
              "      <th>2</th>\n",
              "      <td>2</td>\n",
              "      <td>1</td>\n",
              "      <td>0.032071</td>\n",
              "      <td>0.286170</td>\n",
              "      <td>4.366278</td>\n",
              "      <td>5.0</td>\n",
              "      <td>5.00</td>\n",
              "      <td>3.166667</td>\n",
              "      <td>NaN</td>\n",
              "      <td>0</td>\n",
              "      <td>...</td>\n",
              "      <td>18.00</td>\n",
              "      <td>0</td>\n",
              "      <td>0</td>\n",
              "      <td>0</td>\n",
              "      <td>0</td>\n",
              "      <td>0</td>\n",
              "      <td>0</td>\n",
              "      <td>103448.01</td>\n",
              "      <td>410.00000</td>\n",
              "      <td>8946.000</td>\n",
              "    </tr>\n",
              "    <tr>\n",
              "      <th>3</th>\n",
              "      <td>3</td>\n",
              "      <td>2</td>\n",
              "      <td>0.227196</td>\n",
              "      <td>2.285633</td>\n",
              "      <td>0.000000</td>\n",
              "      <td>4.5</td>\n",
              "      <td>4.50</td>\n",
              "      <td>4.555555</td>\n",
              "      <td>NaN</td>\n",
              "      <td>0</td>\n",
              "      <td>...</td>\n",
              "      <td>15.00</td>\n",
              "      <td>0</td>\n",
              "      <td>0</td>\n",
              "      <td>0</td>\n",
              "      <td>0</td>\n",
              "      <td>0</td>\n",
              "      <td>1</td>\n",
              "      <td>246291.10</td>\n",
              "      <td>670.99994</td>\n",
              "      <td>69757.984</td>\n",
              "    </tr>\n",
              "    <tr>\n",
              "      <th>4</th>\n",
              "      <td>4</td>\n",
              "      <td>3</td>\n",
              "      <td>0.213310</td>\n",
              "      <td>1.911630</td>\n",
              "      <td>0.000000</td>\n",
              "      <td>3.5</td>\n",
              "      <td>4.00</td>\n",
              "      <td>4.333333</td>\n",
              "      <td>NaN</td>\n",
              "      <td>0</td>\n",
              "      <td>...</td>\n",
              "      <td>14.00</td>\n",
              "      <td>0</td>\n",
              "      <td>1</td>\n",
              "      <td>0</td>\n",
              "      <td>0</td>\n",
              "      <td>0</td>\n",
              "      <td>1</td>\n",
              "      <td>454517.12</td>\n",
              "      <td>1627.00000</td>\n",
              "      <td>89360.970</td>\n",
              "    </tr>\n",
              "    <tr>\n",
              "      <th>...</th>\n",
              "      <td>...</td>\n",
              "      <td>...</td>\n",
              "      <td>...</td>\n",
              "      <td>...</td>\n",
              "      <td>...</td>\n",
              "      <td>...</td>\n",
              "      <td>...</td>\n",
              "      <td>...</td>\n",
              "      <td>...</td>\n",
              "      <td>...</td>\n",
              "      <td>...</td>\n",
              "      <td>...</td>\n",
              "      <td>...</td>\n",
              "      <td>...</td>\n",
              "      <td>...</td>\n",
              "      <td>...</td>\n",
              "      <td>...</td>\n",
              "      <td>...</td>\n",
              "      <td>...</td>\n",
              "      <td>...</td>\n",
              "      <td>...</td>\n",
              "    </tr>\n",
              "    <tr>\n",
              "      <th>7089</th>\n",
              "      <td>7089</td>\n",
              "      <td>2926</td>\n",
              "      <td>0.526407</td>\n",
              "      <td>0.791786</td>\n",
              "      <td>3.919783</td>\n",
              "      <td>2.5</td>\n",
              "      <td>3.75</td>\n",
              "      <td>3.583333</td>\n",
              "      <td>NaN</td>\n",
              "      <td>0</td>\n",
              "      <td>...</td>\n",
              "      <td>19.75</td>\n",
              "      <td>0</td>\n",
              "      <td>0</td>\n",
              "      <td>0</td>\n",
              "      <td>0</td>\n",
              "      <td>0</td>\n",
              "      <td>0</td>\n",
              "      <td>262517.03</td>\n",
              "      <td>1313.00010</td>\n",
              "      <td>60770.004</td>\n",
              "    </tr>\n",
              "    <tr>\n",
              "      <th>7090</th>\n",
              "      <td>7090</td>\n",
              "      <td>2926</td>\n",
              "      <td>0.637338</td>\n",
              "      <td>0.808551</td>\n",
              "      <td>3.832232</td>\n",
              "      <td>3.0</td>\n",
              "      <td>3.50</td>\n",
              "      <td>3.611111</td>\n",
              "      <td>NaN</td>\n",
              "      <td>0</td>\n",
              "      <td>...</td>\n",
              "      <td>18.50</td>\n",
              "      <td>0</td>\n",
              "      <td>0</td>\n",
              "      <td>0</td>\n",
              "      <td>0</td>\n",
              "      <td>0</td>\n",
              "      <td>0</td>\n",
              "      <td>279724.94</td>\n",
              "      <td>1303.00020</td>\n",
              "      <td>60550.000</td>\n",
              "    </tr>\n",
              "    <tr>\n",
              "      <th>7091</th>\n",
              "      <td>7091</td>\n",
              "      <td>2926</td>\n",
              "      <td>0.355583</td>\n",
              "      <td>0.825316</td>\n",
              "      <td>3.744681</td>\n",
              "      <td>3.5</td>\n",
              "      <td>3.25</td>\n",
              "      <td>3.638889</td>\n",
              "      <td>NaN</td>\n",
              "      <td>0</td>\n",
              "      <td>...</td>\n",
              "      <td>17.25</td>\n",
              "      <td>0</td>\n",
              "      <td>0</td>\n",
              "      <td>0</td>\n",
              "      <td>0</td>\n",
              "      <td>0</td>\n",
              "      <td>0</td>\n",
              "      <td>245282.00</td>\n",
              "      <td>1164.99990</td>\n",
              "      <td>59896.016</td>\n",
              "    </tr>\n",
              "    <tr>\n",
              "      <th>7092</th>\n",
              "      <td>7092</td>\n",
              "      <td>2926</td>\n",
              "      <td>0.278019</td>\n",
              "      <td>0.842080</td>\n",
              "      <td>3.657131</td>\n",
              "      <td>4.0</td>\n",
              "      <td>3.00</td>\n",
              "      <td>3.666667</td>\n",
              "      <td>NaN</td>\n",
              "      <td>0</td>\n",
              "      <td>...</td>\n",
              "      <td>16.00</td>\n",
              "      <td>0</td>\n",
              "      <td>0</td>\n",
              "      <td>0</td>\n",
              "      <td>0</td>\n",
              "      <td>0</td>\n",
              "      <td>0</td>\n",
              "      <td>244552.10</td>\n",
              "      <td>1393.99990</td>\n",
              "      <td>67418.016</td>\n",
              "    </tr>\n",
              "    <tr>\n",
              "      <th>7093</th>\n",
              "      <td>7093</td>\n",
              "      <td>2927</td>\n",
              "      <td>1.316810</td>\n",
              "      <td>-0.558540</td>\n",
              "      <td>2.459589</td>\n",
              "      <td>3.0</td>\n",
              "      <td>2.00</td>\n",
              "      <td>2.722222</td>\n",
              "      <td>US</td>\n",
              "      <td>1</td>\n",
              "      <td>...</td>\n",
              "      <td>14.00</td>\n",
              "      <td>0</td>\n",
              "      <td>0</td>\n",
              "      <td>0</td>\n",
              "      <td>0</td>\n",
              "      <td>0</td>\n",
              "      <td>0</td>\n",
              "      <td>3066275.20</td>\n",
              "      <td>9362.99700</td>\n",
              "      <td>157464.940</td>\n",
              "    </tr>\n",
              "  </tbody>\n",
              "</table>\n",
              "<p>7094 rows × 49 columns</p>\n",
              "</div>\n",
              "    <div class=\"colab-df-buttons\">\n",
              "\n",
              "  <div class=\"colab-df-container\">\n",
              "    <button class=\"colab-df-convert\" onclick=\"convertToInteractive('df-35b886a0-0d47-4dc9-8d01-a03be284e512')\"\n",
              "            title=\"Convert this dataframe to an interactive table.\"\n",
              "            style=\"display:none;\">\n",
              "\n",
              "  <svg xmlns=\"http://www.w3.org/2000/svg\" height=\"24px\" viewBox=\"0 -960 960 960\">\n",
              "    <path d=\"M120-120v-720h720v720H120Zm60-500h600v-160H180v160Zm220 220h160v-160H400v160Zm0 220h160v-160H400v160ZM180-400h160v-160H180v160Zm440 0h160v-160H620v160ZM180-180h160v-160H180v160Zm440 0h160v-160H620v160Z\"/>\n",
              "  </svg>\n",
              "    </button>\n",
              "\n",
              "  <style>\n",
              "    .colab-df-container {\n",
              "      display:flex;\n",
              "      gap: 12px;\n",
              "    }\n",
              "\n",
              "    .colab-df-convert {\n",
              "      background-color: #E8F0FE;\n",
              "      border: none;\n",
              "      border-radius: 50%;\n",
              "      cursor: pointer;\n",
              "      display: none;\n",
              "      fill: #1967D2;\n",
              "      height: 32px;\n",
              "      padding: 0 0 0 0;\n",
              "      width: 32px;\n",
              "    }\n",
              "\n",
              "    .colab-df-convert:hover {\n",
              "      background-color: #E2EBFA;\n",
              "      box-shadow: 0px 1px 2px rgba(60, 64, 67, 0.3), 0px 1px 3px 1px rgba(60, 64, 67, 0.15);\n",
              "      fill: #174EA6;\n",
              "    }\n",
              "\n",
              "    .colab-df-buttons div {\n",
              "      margin-bottom: 4px;\n",
              "    }\n",
              "\n",
              "    [theme=dark] .colab-df-convert {\n",
              "      background-color: #3B4455;\n",
              "      fill: #D2E3FC;\n",
              "    }\n",
              "\n",
              "    [theme=dark] .colab-df-convert:hover {\n",
              "      background-color: #434B5C;\n",
              "      box-shadow: 0px 1px 3px 1px rgba(0, 0, 0, 0.15);\n",
              "      filter: drop-shadow(0px 1px 2px rgba(0, 0, 0, 0.3));\n",
              "      fill: #FFFFFF;\n",
              "    }\n",
              "  </style>\n",
              "\n",
              "    <script>\n",
              "      const buttonEl =\n",
              "        document.querySelector('#df-35b886a0-0d47-4dc9-8d01-a03be284e512 button.colab-df-convert');\n",
              "      buttonEl.style.display =\n",
              "        google.colab.kernel.accessAllowed ? 'block' : 'none';\n",
              "\n",
              "      async function convertToInteractive(key) {\n",
              "        const element = document.querySelector('#df-35b886a0-0d47-4dc9-8d01-a03be284e512');\n",
              "        const dataTable =\n",
              "          await google.colab.kernel.invokeFunction('convertToInteractive',\n",
              "                                                    [key], {});\n",
              "        if (!dataTable) return;\n",
              "\n",
              "        const docLinkHtml = 'Like what you see? Visit the ' +\n",
              "          '<a target=\"_blank\" href=https://colab.research.google.com/notebooks/data_table.ipynb>data table notebook</a>'\n",
              "          + ' to learn more about interactive tables.';\n",
              "        element.innerHTML = '';\n",
              "        dataTable['output_type'] = 'display_data';\n",
              "        await google.colab.output.renderOutput(dataTable, element);\n",
              "        const docLink = document.createElement('div');\n",
              "        docLink.innerHTML = docLinkHtml;\n",
              "        element.appendChild(docLink);\n",
              "      }\n",
              "    </script>\n",
              "  </div>\n",
              "\n",
              "\n",
              "<div id=\"df-dfcd93a8-4cdb-4adf-87d8-2796add8bc96\">\n",
              "  <button class=\"colab-df-quickchart\" onclick=\"quickchart('df-dfcd93a8-4cdb-4adf-87d8-2796add8bc96')\"\n",
              "            title=\"Suggest charts\"\n",
              "            style=\"display:none;\">\n",
              "\n",
              "<svg xmlns=\"http://www.w3.org/2000/svg\" height=\"24px\"viewBox=\"0 0 24 24\"\n",
              "     width=\"24px\">\n",
              "    <g>\n",
              "        <path d=\"M19 3H5c-1.1 0-2 .9-2 2v14c0 1.1.9 2 2 2h14c1.1 0 2-.9 2-2V5c0-1.1-.9-2-2-2zM9 17H7v-7h2v7zm4 0h-2V7h2v10zm4 0h-2v-4h2v4z\"/>\n",
              "    </g>\n",
              "</svg>\n",
              "  </button>\n",
              "\n",
              "<style>\n",
              "  .colab-df-quickchart {\n",
              "      --bg-color: #E8F0FE;\n",
              "      --fill-color: #1967D2;\n",
              "      --hover-bg-color: #E2EBFA;\n",
              "      --hover-fill-color: #174EA6;\n",
              "      --disabled-fill-color: #AAA;\n",
              "      --disabled-bg-color: #DDD;\n",
              "  }\n",
              "\n",
              "  [theme=dark] .colab-df-quickchart {\n",
              "      --bg-color: #3B4455;\n",
              "      --fill-color: #D2E3FC;\n",
              "      --hover-bg-color: #434B5C;\n",
              "      --hover-fill-color: #FFFFFF;\n",
              "      --disabled-bg-color: #3B4455;\n",
              "      --disabled-fill-color: #666;\n",
              "  }\n",
              "\n",
              "  .colab-df-quickchart {\n",
              "    background-color: var(--bg-color);\n",
              "    border: none;\n",
              "    border-radius: 50%;\n",
              "    cursor: pointer;\n",
              "    display: none;\n",
              "    fill: var(--fill-color);\n",
              "    height: 32px;\n",
              "    padding: 0;\n",
              "    width: 32px;\n",
              "  }\n",
              "\n",
              "  .colab-df-quickchart:hover {\n",
              "    background-color: var(--hover-bg-color);\n",
              "    box-shadow: 0 1px 2px rgba(60, 64, 67, 0.3), 0 1px 3px 1px rgba(60, 64, 67, 0.15);\n",
              "    fill: var(--button-hover-fill-color);\n",
              "  }\n",
              "\n",
              "  .colab-df-quickchart-complete:disabled,\n",
              "  .colab-df-quickchart-complete:disabled:hover {\n",
              "    background-color: var(--disabled-bg-color);\n",
              "    fill: var(--disabled-fill-color);\n",
              "    box-shadow: none;\n",
              "  }\n",
              "\n",
              "  .colab-df-spinner {\n",
              "    border: 2px solid var(--fill-color);\n",
              "    border-color: transparent;\n",
              "    border-bottom-color: var(--fill-color);\n",
              "    animation:\n",
              "      spin 1s steps(1) infinite;\n",
              "  }\n",
              "\n",
              "  @keyframes spin {\n",
              "    0% {\n",
              "      border-color: transparent;\n",
              "      border-bottom-color: var(--fill-color);\n",
              "      border-left-color: var(--fill-color);\n",
              "    }\n",
              "    20% {\n",
              "      border-color: transparent;\n",
              "      border-left-color: var(--fill-color);\n",
              "      border-top-color: var(--fill-color);\n",
              "    }\n",
              "    30% {\n",
              "      border-color: transparent;\n",
              "      border-left-color: var(--fill-color);\n",
              "      border-top-color: var(--fill-color);\n",
              "      border-right-color: var(--fill-color);\n",
              "    }\n",
              "    40% {\n",
              "      border-color: transparent;\n",
              "      border-right-color: var(--fill-color);\n",
              "      border-top-color: var(--fill-color);\n",
              "    }\n",
              "    60% {\n",
              "      border-color: transparent;\n",
              "      border-right-color: var(--fill-color);\n",
              "    }\n",
              "    80% {\n",
              "      border-color: transparent;\n",
              "      border-right-color: var(--fill-color);\n",
              "      border-bottom-color: var(--fill-color);\n",
              "    }\n",
              "    90% {\n",
              "      border-color: transparent;\n",
              "      border-bottom-color: var(--fill-color);\n",
              "    }\n",
              "  }\n",
              "</style>\n",
              "\n",
              "  <script>\n",
              "    async function quickchart(key) {\n",
              "      const quickchartButtonEl =\n",
              "        document.querySelector('#' + key + ' button');\n",
              "      quickchartButtonEl.disabled = true;  // To prevent multiple clicks.\n",
              "      quickchartButtonEl.classList.add('colab-df-spinner');\n",
              "      try {\n",
              "        const charts = await google.colab.kernel.invokeFunction(\n",
              "            'suggestCharts', [key], {});\n",
              "      } catch (error) {\n",
              "        console.error('Error during call to suggestCharts:', error);\n",
              "      }\n",
              "      quickchartButtonEl.classList.remove('colab-df-spinner');\n",
              "      quickchartButtonEl.classList.add('colab-df-quickchart-complete');\n",
              "    }\n",
              "    (() => {\n",
              "      let quickchartButtonEl =\n",
              "        document.querySelector('#df-dfcd93a8-4cdb-4adf-87d8-2796add8bc96 button');\n",
              "      quickchartButtonEl.style.display =\n",
              "        google.colab.kernel.accessAllowed ? 'block' : 'none';\n",
              "    })();\n",
              "  </script>\n",
              "</div>\n",
              "    </div>\n",
              "  </div>\n"
            ]
          },
          "metadata": {},
          "execution_count": 53
        }
      ]
    },
    {
      "cell_type": "code",
      "source": [
        "sns.histplot(df.management)"
      ],
      "metadata": {
        "colab": {
          "base_uri": "https://localhost:8080/",
          "height": 466
        },
        "id": "ioS_EMR1GFW5",
        "outputId": "17a30cbd-1112-4c98-a850-6008c094719e"
      },
      "execution_count": 54,
      "outputs": [
        {
          "output_type": "execute_result",
          "data": {
            "text/plain": [
              "<Axes: xlabel='management', ylabel='Count'>"
            ]
          },
          "metadata": {},
          "execution_count": 54
        },
        {
          "output_type": "display_data",
          "data": {
            "text/plain": [
              "<Figure size 640x480 with 1 Axes>"
            ],
            "image/png": "[encoded data removed]"
          },
          "metadata": {}
        }
      ]
    },
    {
      "cell_type": "code",
      "source": [
        "sns.regplot(x=\"management\", y=\"roce\", x_bins=10, data=df)"
      ],
      "metadata": {
        "colab": {
          "base_uri": "https://localhost:8080/",
          "height": 466
        },
        "id": "F0f0nkJOGKmc",
        "outputId": "39101860-1373-4d3c-8585-199082e3eede"
      },
      "execution_count": 55,
      "outputs": [
        {
          "output_type": "execute_result",
          "data": {
            "text/plain": [
              "<Axes: xlabel='management', ylabel='roce'>"
            ]
          },
          "metadata": {},
          "execution_count": 55
        },
        {
          "output_type": "display_data",
          "data": {
            "text/plain": [
              "<Figure size 640x480 with 1 Axes>"
            ],
            "image/png": "[encoded data removed]"
          },
          "metadata": {}
        }
      ]
    },
    {
      "cell_type": "markdown",
      "source": [
        "**Note:**\n",
        "- If you have many observations, it is convenient to do a bin scatterplot instead of a scatterplot. Here we use 10 bins to look at average values of roce for sets of firms that have similar scores (the lowest dot is the average roce for firms with the 10% lowest management scores,...)\n"
      ],
      "metadata": {
        "id": "AY2p3tKq9d5Z"
      }
    },
    {
      "cell_type": "markdown",
      "source": [
        "# **Study the association between Management Score and ROCE**\n",
        "----\n",
        "\n",
        "- We here just regress the return on capital employed on the management score:"
      ],
      "metadata": {
        "id": "1GeKhtFS-CKw"
      }
    },
    {
      "cell_type": "code",
      "source": [
        "reg=smf.ols(\"roce ~ management\", data=df).fit()\n",
        "Stargazer([reg])"
      ],
      "metadata": {
        "colab": {
          "base_uri": "https://localhost:8080/",
          "height": 309
        },
        "id": "XYPTJ_y1HS1a",
        "outputId": "75e7de69-2247-4d14-f4cd-850f7b1faecb"
      },
      "execution_count": 56,
      "outputs": [
        {
          "output_type": "execute_result",
          "data": {
            "text/plain": [
              "<stargazer.stargazer.Stargazer at 0x7a63e3a9cf40>"
            ],
            "text/html": [
              "<table style=\"text-align:center\"><tr><td colspan=\"2\" style=\"border-bottom: 1px solid black\"></td></tr>\n",
              "<tr><td style=\"text-align:left\"></td><td colspan=\"1\"><em>Dependent variable: roce</em></td></tr><tr><td style=\"text-align:left\"></td><tr><td style=\"text-align:left\"></td><td>(1)</td></tr>\n",
              "<tr><td colspan=\"2\" style=\"border-bottom: 1px solid black\"></td></tr>\n",
              "\n",
              "<tr><td style=\"text-align:left\">Intercept</td><td>8.068<sup>***</sup></td></tr>\n",
              "<tr><td style=\"text-align:left\"></td><td>(0.917)</td></tr>\n",
              "<tr><td style=\"text-align:left\">management</td><td>2.455<sup>***</sup></td></tr>\n",
              "<tr><td style=\"text-align:left\"></td><td>(0.297)</td></tr>\n",
              "\n",
              "<td colspan=\"2\" style=\"border-bottom: 1px solid black\"></td></tr>\n",
              "<tr><td style=\"text-align: left\">Observations</td><td>7094</td></tr><tr><td style=\"text-align: left\">R<sup>2</sup></td><td>0.010</td></tr><tr><td style=\"text-align: left\">Adjusted R<sup>2</sup></td><td>0.009</td></tr><tr><td style=\"text-align: left\">Residual Std. Error</td><td>15.424 (df=7092)</td></tr><tr><td style=\"text-align: left\">F Statistic</td><td>68.430<sup>***</sup> (df=1; 7092)</td></tr>\n",
              "<tr><td colspan=\"2\" style=\"border-bottom: 1px solid black\"></td></tr><tr><td style=\"text-align: left\">Note:</td><td colspan=\"1\" style=\"text-align: right\"><sup>*</sup>p&lt;0.1; <sup>**</sup>p&lt;0.05; <sup>***</sup>p&lt;0.01</td></tr></table>"
            ]
          },
          "metadata": {},
          "execution_count": 56
        }
      ]
    },
    {
      "cell_type": "markdown",
      "source": [
        "**Interpretation:**\n",
        "\n",
        "- A one score point higher management score is associated with a 2.45 percentage points higher return on capital"
      ],
      "metadata": {
        "id": "8c_Xpdj89_m_"
      }
    },
    {
      "cell_type": "markdown",
      "source": [
        "# **Is the Management Score equally predictive in different countries?**\n",
        "\n",
        "----\n",
        "\n",
        "- Here we study potential differences in the \"predictiveness\" of the management questionaire used by Bloom and van Reenen\n",
        "- To do so, it is convenient to use interaction terms\n",
        "- For simplicity we only consider Great Britain and China   \n"
      ],
      "metadata": {
        "id": "ObepNFpC-xor"
      }
    },
    {
      "cell_type": "code",
      "source": [
        "## generate a dummy variable for observations from China\n",
        "df[\"ChinaD\"]=(df.country==\"China\")*1\n",
        "df.ChinaD.describe()"
      ],
      "metadata": {
        "colab": {
          "base_uri": "https://localhost:8080/"
        },
        "id": "ldKN2blbIedn",
        "outputId": "6e40b29f-6a7e-436d-f05e-d15504faba13"
      },
      "execution_count": 57,
      "outputs": [
        {
          "output_type": "execute_result",
          "data": {
            "text/plain": [
              "count    7094.000000\n",
              "mean        0.081054\n",
              "std         0.272938\n",
              "min         0.000000\n",
              "25%         0.000000\n",
              "50%         0.000000\n",
              "75%         0.000000\n",
              "max         1.000000\n",
              "Name: ChinaD, dtype: float64"
            ]
          },
          "metadata": {},
          "execution_count": 57
        }
      ]
    },
    {
      "cell_type": "code",
      "source": [
        "## Generate a new data frame that only contains obs from GB and China\n",
        "dfn=df[(df.country==\"Great Britain\")|(df.country==\"China\")]\n",
        "#Alternative: dfn=df[df.country.isin([\"Great Britain\",\"China\"])]\n",
        "\n",
        "## Inspect the scores for the two countries\n",
        "sns.barplot(y=\"country\", x=\"management\", data=dfn)"
      ],
      "metadata": {
        "colab": {
          "base_uri": "https://localhost:8080/",
          "height": 466
        },
        "id": "_CAzWejQJxVV",
        "outputId": "5237a274-414d-4029-f4ec-faff6b1a749b"
      },
      "execution_count": 58,
      "outputs": [
        {
          "output_type": "execute_result",
          "data": {
            "text/plain": [
              "<Axes: xlabel='management', ylabel='country'>"
            ]
          },
          "metadata": {},
          "execution_count": 58
        },
        {
          "output_type": "display_data",
          "data": {
            "text/plain": [
              "<Figure size 640x480 with 1 Axes>"
            ],
            "image/png": "[encoded data removed]"
          },
          "metadata": {}
        }
      ]
    },
    {
      "cell_type": "markdown",
      "source": [
        "- Now we regress roce on the management score interacting it with the dummy for observations from China\n",
        "- Note: We can make the regression table slightly nicer, by ordering the variables and renaming them"
      ],
      "metadata": {
        "id": "x8GEJ2bgAA_u"
      }
    },
    {
      "cell_type": "code",
      "source": [
        "reg1=smf.ols(\"roce ~ management\", data=dfn).fit()\n",
        "reg2=smf.ols(\"roce ~ management * ChinaD\", data=dfn).fit()\n",
        "\n",
        "tab=Stargazer([reg1,reg2])\n",
        "tab.covariate_order([\"management\", \"ChinaD\", \"management:ChinaD\", \"Intercept\"])\n",
        "tab.rename_covariates({\"management\": \"Management\",\"management:ChinaD\": \"China\", \"management:ChinaD\": \"Management x China\"})\n",
        "tab"
      ],
      "metadata": {
        "colab": {
          "base_uri": "https://localhost:8080/",
          "height": 400
        },
        "id": "y4Bg3iOsLCtA",
        "outputId": "a15fcefd-a9be-4432-8fa6-40b6bdf4ebab"
      },
      "execution_count": 59,
      "outputs": [
        {
          "output_type": "execute_result",
          "data": {
            "text/plain": [
              "<stargazer.stargazer.Stargazer at 0x7a63e3a7dc30>"
            ],
            "text/html": [
              "<table style=\"text-align:center\"><tr><td colspan=\"3\" style=\"border-bottom: 1px solid black\"></td></tr>\n",
              "<tr><td style=\"text-align:left\"></td><td colspan=\"2\"><em>Dependent variable: roce</em></td></tr><tr><td style=\"text-align:left\"></td><tr><td style=\"text-align:left\"></td><td>(1)</td><td>(2)</td></tr>\n",
              "<tr><td colspan=\"3\" style=\"border-bottom: 1px solid black\"></td></tr>\n",
              "\n",
              "<tr><td style=\"text-align:left\">Management</td><td>1.427<sup>**</sup></td><td>2.255<sup>***</sup></td></tr>\n",
              "<tr><td style=\"text-align:left\"></td><td>(0.599)</td><td>(0.673)</td></tr>\n",
              "<tr><td style=\"text-align:left\">ChinaD</td><td></td><td>12.108<sup>**</sup></td></tr>\n",
              "<tr><td style=\"text-align:left\"></td><td></td><td>(4.782)</td></tr>\n",
              "<tr><td style=\"text-align:left\">Management x China</td><td></td><td>-3.958<sup>**</sup></td></tr>\n",
              "<tr><td style=\"text-align:left\"></td><td></td><td>(1.686)</td></tr>\n",
              "<tr><td style=\"text-align:left\">Intercept</td><td>11.187<sup>***</sup></td><td>8.391<sup>***</sup></td></tr>\n",
              "<tr><td style=\"text-align:left\"></td><td>(1.821)</td><td>(2.106)</td></tr>\n",
              "\n",
              "<td colspan=\"3\" style=\"border-bottom: 1px solid black\"></td></tr>\n",
              "<tr><td style=\"text-align: left\">Observations</td><td>2203</td><td>2203</td></tr><tr><td style=\"text-align: left\">R<sup>2</sup></td><td>0.003</td><td>0.006</td></tr><tr><td style=\"text-align: left\">Adjusted R<sup>2</sup></td><td>0.002</td><td>0.004</td></tr><tr><td style=\"text-align: left\">Residual Std. Error</td><td>16.273 (df=2201)</td><td>16.254 (df=2199)</td></tr><tr><td style=\"text-align: left\">F Statistic</td><td>5.678<sup>**</sup> (df=1; 2201)</td><td>4.283<sup>***</sup> (df=3; 2199)</td></tr>\n",
              "<tr><td colspan=\"3\" style=\"border-bottom: 1px solid black\"></td></tr><tr><td style=\"text-align: left\">Note:</td><td colspan=\"2\" style=\"text-align: right\"><sup>*</sup>p&lt;0.1; <sup>**</sup>p&lt;0.05; <sup>***</sup>p&lt;0.01</td></tr></table>"
            ]
          },
          "metadata": {},
          "execution_count": 59
        }
      ]
    },
    {
      "cell_type": "markdown",
      "source": [
        "**Interpretation**\n",
        "- The management score is significantly less predictive in China as compared to GB\n",
        "- While a one unit higher management score is associated with a 2.26 percentage points higher ROCE in GB, this association tends even to be genative in China (add up the 2.255 and the -3.958 to get the slope for China)\n",
        "- To understand the interpretation of the interaction term a bit better, it can also be instructive to look at separate regressions, one using only the GB data and another one only using the data from China. We do that in the next cell\n",
        "\n",
        "\\\n",
        "\n",
        "\n",
        "Side remark:\n",
        "- We may be tempted to interpret the coefficient of the dummy variable ChinaD as the difference in ROCE between China and GB. But be careful, this is the difference at a management score of zero (which no firm in the data set has so we should be careful with the interpretation)\n",
        "- To predict this difference for firms with a specific score you have to compute 12.108-3.958*management\n",
        "- If you would want to also compare the country difference in the same regression you could for instance use a mean centered version of management, i.e. generate a variable df[\"managementCenter\"]=df.management-df.managememt.mean()\n"
      ],
      "metadata": {
        "id": "YRnGogg5BD9_"
      }
    },
    {
      "cell_type": "code",
      "source": [
        "reg1=smf.ols(\"roce ~ management\", data=dfn).fit()\n",
        "reg2=smf.ols(\"roce ~ management * ChinaD\", data=dfn).fit()\n",
        "reg3=smf.ols(\"roce ~ management\", data=dfn[df.country==\"Great Britain\"]).fit()\n",
        "reg4=smf.ols(\"roce ~ management\", data=dfn[df.country==\"China\"]).fit()\n",
        "\n",
        "tab=Stargazer([reg1,reg2,reg3,reg4])\n",
        "tab.covariate_order([\"management\", \"ChinaD\", \"management:ChinaD\", \"Intercept\"])\n",
        "tab.rename_covariates({\"management\": \"Management\",\"management:ChinaD\": \"China\", \"management:ChinaD\": \"Management x China\"})\n",
        "tab"
      ],
      "metadata": {
        "colab": {
          "base_uri": "https://localhost:8080/",
          "height": 469
        },
        "id": "Vr96BUv9ASpL",
        "outputId": "a32ac5c3-0a70-4142-bc37-9aa89ccad833"
      },
      "execution_count": 60,
      "outputs": [
        {
          "output_type": "stream",
          "name": "stderr",
          "text": [
            "<ipython-input-60-0638a0257d75>:3: UserWarning: Boolean Series key will be reindexed to match DataFrame index.\n",
            "  reg3=smf.ols(\"roce ~ management\", data=dfn[df.country==\"Great Britain\"]).fit()\n",
            "<ipython-input-60-0638a0257d75>:4: UserWarning: Boolean Series key will be reindexed to match DataFrame index.\n",
            "  reg4=smf.ols(\"roce ~ management\", data=dfn[df.country==\"China\"]).fit()\n"
          ]
        },
        {
          "output_type": "execute_result",
          "data": {
            "text/plain": [
              "<stargazer.stargazer.Stargazer at 0x7a63e3910a60>"
            ],
            "text/html": [
              "<table style=\"text-align:center\"><tr><td colspan=\"5\" style=\"border-bottom: 1px solid black\"></td></tr>\n",
              "<tr><td style=\"text-align:left\"></td><td colspan=\"4\"><em>Dependent variable: roce</em></td></tr><tr><td style=\"text-align:left\"></td><tr><td style=\"text-align:left\"></td><td>(1)</td><td>(2)</td><td>(3)</td><td>(4)</td></tr>\n",
              "<tr><td colspan=\"5\" style=\"border-bottom: 1px solid black\"></td></tr>\n",
              "\n",
              "<tr><td style=\"text-align:left\">Management</td><td>1.427<sup>**</sup></td><td>2.255<sup>***</sup></td><td>2.255<sup>***</sup></td><td>-1.703<sup></sup></td></tr>\n",
              "<tr><td style=\"text-align:left\"></td><td>(0.599)</td><td>(0.673)</td><td>(0.666)</td><td>(1.591)</td></tr>\n",
              "<tr><td style=\"text-align:left\">ChinaD</td><td></td><td>12.108<sup>**</sup></td><td></td><td></td></tr>\n",
              "<tr><td style=\"text-align:left\"></td><td></td><td>(4.782)</td><td></td><td></td></tr>\n",
              "<tr><td style=\"text-align:left\">Management x China</td><td></td><td>-3.958<sup>**</sup></td><td></td><td></td></tr>\n",
              "<tr><td style=\"text-align:left\"></td><td></td><td>(1.686)</td><td></td><td></td></tr>\n",
              "<tr><td style=\"text-align:left\">Intercept</td><td>11.187<sup>***</sup></td><td>8.391<sup>***</sup></td><td>8.391<sup>***</sup></td><td>20.500<sup>***</sup></td></tr>\n",
              "<tr><td style=\"text-align:left\"></td><td>(1.821)</td><td>(2.106)</td><td>(2.084)</td><td>(4.420)</td></tr>\n",
              "\n",
              "<td colspan=\"5\" style=\"border-bottom: 1px solid black\"></td></tr>\n",
              "<tr><td style=\"text-align: left\">Observations</td><td>2203</td><td>2203</td><td>1628</td><td>575</td></tr><tr><td style=\"text-align: left\">R<sup>2</sup></td><td>0.003</td><td>0.006</td><td>0.007</td><td>0.002</td></tr><tr><td style=\"text-align: left\">Adjusted R<sup>2</sup></td><td>0.002</td><td>0.004</td><td>0.006</td><td>0.000</td></tr><tr><td style=\"text-align: left\">Residual Std. Error</td><td>16.273 (df=2201)</td><td>16.254 (df=2199)</td><td>16.082 (df=1626)</td><td>16.732 (df=573)</td></tr><tr><td style=\"text-align: left\">F Statistic</td><td>5.678<sup>**</sup> (df=1; 2201)</td><td>4.283<sup>***</sup> (df=3; 2199)</td><td>11.449<sup>***</sup> (df=1; 1626)</td><td>1.146<sup></sup> (df=1; 573)</td></tr>\n",
              "<tr><td colspan=\"5\" style=\"border-bottom: 1px solid black\"></td></tr><tr><td style=\"text-align: left\">Note:</td><td colspan=\"4\" style=\"text-align: right\"><sup>*</sup>p&lt;0.1; <sup>**</sup>p&lt;0.05; <sup>***</sup>p&lt;0.01</td></tr></table>"
            ]
          },
          "metadata": {},
          "execution_count": 60
        }
      ]
    },
    {
      "cell_type": "markdown",
      "source": [
        "**Note:**\n",
        "-  You can compute the values in regs 3 and 4 from those in reg 2\n",
        "- The coefficient of management in reg 3 (only GB) is just the coefficient of the management score (for ChinaD=0) in reg 2\n",
        "- The coefficient of management in reg 4 (only China) is the sum of the  coefficient of the management score plus the coefficient of the interaction term in reg 2\n",
        "- you can also graphically look at the associations as we do in the following\n"
      ],
      "metadata": {
        "id": "E_IIR6vrE-tA"
      }
    },
    {
      "cell_type": "code",
      "source": [
        "# Plot only data from China\n",
        "sns.regplot(x=\"management\", y=\"roce\", x_bins=10, data=dfn[dfn.country==\"China\"])\n"
      ],
      "metadata": {
        "colab": {
          "base_uri": "https://localhost:8080/",
          "height": 466
        },
        "id": "iZ_20WC0SJX0",
        "outputId": "ca5839a3-5abd-40f9-91e6-484994c673c4"
      },
      "execution_count": 61,
      "outputs": [
        {
          "output_type": "execute_result",
          "data": {
            "text/plain": [
              "<Axes: xlabel='management', ylabel='roce'>"
            ]
          },
          "metadata": {},
          "execution_count": 61
        },
        {
          "output_type": "display_data",
          "data": {
            "text/plain": [
              "<Figure size 640x480 with 1 Axes>"
            ],
            "image/png": "[encoded data removed]"
          },
          "metadata": {}
        }
      ]
    },
    {
      "cell_type": "code",
      "source": [
        "# Plot only data from GB\n",
        "sns.regplot(x=\"management\", y=\"roce\", x_bins=10, data=dfn[dfn.country==\"Great Britain\"])"
      ],
      "metadata": {
        "colab": {
          "base_uri": "https://localhost:8080/",
          "height": 466
        },
        "id": "FYK4GzKNVJ82",
        "outputId": "831c44fa-73c8-4808-f947-073dc24e9d19"
      },
      "execution_count": 62,
      "outputs": [
        {
          "output_type": "execute_result",
          "data": {
            "text/plain": [
              "<Axes: xlabel='management', ylabel='roce'>"
            ]
          },
          "metadata": {},
          "execution_count": 62
        },
        {
          "output_type": "display_data",
          "data": {
            "text/plain": [
              "<Figure size 640x480 with 1 Axes>"
            ],
            "image/png": "[encoded data removed]"
          },
          "metadata": {}
        }
      ]
    },
    {
      "cell_type": "code",
      "source": [
        "## Or plot them both in one graph and add a legend\n",
        "import matplotlib.pyplot as plt\n",
        "sns.regplot(x=\"management\", y=\"roce\", x_bins=10, scatter=False, label=\"Great Britain\", data=dfn[dfn.country==\"Great Britain\"])\n",
        "sns.regplot(x=\"management\", y=\"roce\", x_bins=10, scatter=False, label=\"China\", data=dfn[dfn.country==\"China\"])\n",
        "plt.legend()"
      ],
      "metadata": {
        "colab": {
          "base_uri": "https://localhost:8080/",
          "height": 466
        },
        "id": "QK1d1HbiWVj5",
        "outputId": "e6e0a7b6-f830-405b-bd46-9e559bed3bb8"
      },
      "execution_count": 63,
      "outputs": [
        {
          "output_type": "execute_result",
          "data": {
            "text/plain": [
              "<matplotlib.legend.Legend at 0x7a63e5c03f10>"
            ]
          },
          "metadata": {},
          "execution_count": 63
        },
        {
          "output_type": "display_data",
          "data": {
            "text/plain": [
              "<Figure size 640x480 with 1 Axes>"
            ],
            "image/png": "[encoded data removed]"
          },
          "metadata": {}
        }
      ]
    },
    {
      "cell_type": "markdown",
      "source": [
        "# **Statistical Significance**\n",
        "----\n",
        "\n",
        "- To what extend can we now say that these associations are significant?\n",
        "- Inspect the regression table again"
      ],
      "metadata": {
        "id": "D-IYs_9hGvh3"
      }
    },
    {
      "cell_type": "code",
      "source": [
        "tab"
      ],
      "metadata": {
        "colab": {
          "base_uri": "https://localhost:8080/",
          "height": 400
        },
        "id": "iJULZUa4GTzD",
        "outputId": "a45a9c64-bc22-4166-8f61-b552858656e5"
      },
      "execution_count": 64,
      "outputs": [
        {
          "output_type": "execute_result",
          "data": {
            "text/plain": [
              "<stargazer.stargazer.Stargazer at 0x7a63e3910a60>"
            ],
            "text/html": [
              "<table style=\"text-align:center\"><tr><td colspan=\"5\" style=\"border-bottom: 1px solid black\"></td></tr>\n",
              "<tr><td style=\"text-align:left\"></td><td colspan=\"4\"><em>Dependent variable: roce</em></td></tr><tr><td style=\"text-align:left\"></td><tr><td style=\"text-align:left\"></td><td>(1)</td><td>(2)</td><td>(3)</td><td>(4)</td></tr>\n",
              "<tr><td colspan=\"5\" style=\"border-bottom: 1px solid black\"></td></tr>\n",
              "\n",
              "<tr><td style=\"text-align:left\">Management</td><td>1.427<sup>**</sup></td><td>2.255<sup>***</sup></td><td>2.255<sup>***</sup></td><td>-1.703<sup></sup></td></tr>\n",
              "<tr><td style=\"text-align:left\"></td><td>(0.599)</td><td>(0.673)</td><td>(0.666)</td><td>(1.591)</td></tr>\n",
              "<tr><td style=\"text-align:left\">ChinaD</td><td></td><td>12.108<sup>**</sup></td><td></td><td></td></tr>\n",
              "<tr><td style=\"text-align:left\"></td><td></td><td>(4.782)</td><td></td><td></td></tr>\n",
              "<tr><td style=\"text-align:left\">Management x China</td><td></td><td>-3.958<sup>**</sup></td><td></td><td></td></tr>\n",
              "<tr><td style=\"text-align:left\"></td><td></td><td>(1.686)</td><td></td><td></td></tr>\n",
              "<tr><td style=\"text-align:left\">Intercept</td><td>11.187<sup>***</sup></td><td>8.391<sup>***</sup></td><td>8.391<sup>***</sup></td><td>20.500<sup>***</sup></td></tr>\n",
              "<tr><td style=\"text-align:left\"></td><td>(1.821)</td><td>(2.106)</td><td>(2.084)</td><td>(4.420)</td></tr>\n",
              "\n",
              "<td colspan=\"5\" style=\"border-bottom: 1px solid black\"></td></tr>\n",
              "<tr><td style=\"text-align: left\">Observations</td><td>2203</td><td>2203</td><td>1628</td><td>575</td></tr><tr><td style=\"text-align: left\">R<sup>2</sup></td><td>0.003</td><td>0.006</td><td>0.007</td><td>0.002</td></tr><tr><td style=\"text-align: left\">Adjusted R<sup>2</sup></td><td>0.002</td><td>0.004</td><td>0.006</td><td>0.000</td></tr><tr><td style=\"text-align: left\">Residual Std. Error</td><td>16.273 (df=2201)</td><td>16.254 (df=2199)</td><td>16.082 (df=1626)</td><td>16.732 (df=573)</td></tr><tr><td style=\"text-align: left\">F Statistic</td><td>5.678<sup>**</sup> (df=1; 2201)</td><td>4.283<sup>***</sup> (df=3; 2199)</td><td>11.449<sup>***</sup> (df=1; 1626)</td><td>1.146<sup></sup> (df=1; 573)</td></tr>\n",
              "<tr><td colspan=\"5\" style=\"border-bottom: 1px solid black\"></td></tr><tr><td style=\"text-align: left\">Note:</td><td colspan=\"4\" style=\"text-align: right\"><sup>*</sup>p&lt;0.1; <sup>**</sup>p&lt;0.05; <sup>***</sup>p&lt;0.01</td></tr></table>"
            ]
          },
          "metadata": {},
          "execution_count": 64
        }
      ]
    },
    {
      "cell_type": "markdown",
      "source": [
        "- Note: Stargazer shows the standard errors in brackets below the coefficients\n",
        "\n",
        "\\\n",
        "\n",
        "Interpretation of coefficient of management:\n",
        "- In reg 2 the standard error of management (which measures the predictive power for GB - i.e. when ChinaD=0) is 0.673\n",
        "- If we divide the coefficient by the standard error we obtain the t-value, which here is 3.348\n",
        "- It is larger than the 1.96 threshold for a significance level of 5% (it is also larger for the threshold for a 1% effect here). Stargazer therefore has marked the coefficient with three stars\n",
        "- Hence, we reject the null hypothesis that there is no connection on average across the two countries, or we say: the coefficient is highly significant\n",
        "\n",
        "\\\n",
        "\n",
        "Interpretation of interaction term:\n",
        "- As we have seen already in the above, the cofficient of the interaction term is negative\n",
        "- The standard error is 1.686 and the t-value thus -2.348\n",
        "- The (absolute value) of the t-value again exceeds the threshold for a 1% significance level.\n",
        "- Hence, we reject the null hypothesis that there is no difference in the predictive power of the management score between GB and China\n",
        "\n",
        "\\\n",
        "\n",
        "Interpretation of the \"net effect\":\n",
        "- Given that the sum of the coeficient for management and the interaction term (which captures the predictive power of management in China) is negative, we may be tempted to think that there is a negative association between management score and roce in China.\n",
        "- To see whether this is indeed statistically significant, the easiest way is to just inspect the data from the regression that considered only China (reg 4).\n",
        "- But here we see that, the coefficient is not significantly different from zero.  Hence, we cannot reject the null hypothesis that there is no association in China.\n",
        "\n",
        "\\\n",
        "\n",
        "Summary:\n",
        "- We have sigificant evidence that the management score is\n",
        "  - predictive for ROCE in the UK\n",
        "  - is more predictive for ROCE in the UK than in China\n",
        "- We have no significant evidence that the management score is predictive in China (nor for the opposite). Here we have to conclude that the data does us not allow to make a strong statement.\n",
        "\n",
        "\\\n",
        "\n",
        "Side remark (we have not covered this in class): After a regression we can also test hypothesis on linear functions of the coefficients with the t-test method. This also allows to test whether management+management:ChinaD is signficantly different from zero:\n"
      ],
      "metadata": {
        "id": "PDVFeb_CHKxg"
      }
    },
    {
      "cell_type": "code",
      "source": [
        "reg2.t_test(\"management + management:ChinaD = 0\")"
      ],
      "metadata": {
        "colab": {
          "base_uri": "https://localhost:8080/"
        },
        "id": "LNU2MlIeMoT8",
        "outputId": "34810519-cae4-40dc-8676-d7dd633852c9"
      },
      "execution_count": 65,
      "outputs": [
        {
          "output_type": "execute_result",
          "data": {
            "text/plain": [
              "<class 'statsmodels.stats.contrast.ContrastResults'>\n",
              "                             Test for Constraints                             \n",
              "==============================================================================\n",
              "                 coef    std err          t      P>|t|      [0.025      0.975]\n",
              "------------------------------------------------------------------------------\n",
              "c0            -1.7033      1.545     -1.102      0.271      -4.734       1.328\n",
              "=============================================================================="
            ]
          },
          "metadata": {},
          "execution_count": 65
        }
      ]
    },
    {
      "cell_type": "markdown",
      "source": [
        "- To obtain more detailed statistics on t-values, p-values, confidence bands, directly inspect the summary:"
      ],
      "metadata": {
        "id": "CGc5vKogNq_8"
      }
    },
    {
      "cell_type": "code",
      "source": [
        "print(reg2.summary())"
      ],
      "metadata": {
        "colab": {
          "base_uri": "https://localhost:8080/"
        },
        "id": "MY6voe0OHmdT",
        "outputId": "6f1da553-fa7e-4b2a-ff30-fa366592ae55"
      },
      "execution_count": 66,
      "outputs": [
        {
          "output_type": "stream",
          "name": "stdout",
          "text": [
            "                            OLS Regression Results                            \n",
            "==============================================================================\n",
            "Dep. Variable:                   roce   R-squared:                       0.006\n",
            "Model:                            OLS   Adj. R-squared:                  0.004\n",
            "Method:                 Least Squares   F-statistic:                     4.283\n",
            "Date:                Mon, 13 Nov 2023   Prob (F-statistic):            0.00505\n",
            "Time:                        10:58:56   Log-Likelihood:                -9266.6\n",
            "No. Observations:                2203   AIC:                         1.854e+04\n",
            "Df Residuals:                    2199   BIC:                         1.856e+04\n",
            "Df Model:                           3                                         \n",
            "Covariance Type:            nonrobust                                         \n",
            "=====================================================================================\n",
            "                        coef    std err          t      P>|t|      [0.025      0.975]\n",
            "-------------------------------------------------------------------------------------\n",
            "Intercept             8.3915      2.106      3.985      0.000       4.262      12.521\n",
            "management            2.2547      0.673      3.348      0.001       0.934       3.575\n",
            "ChinaD               12.1081      4.782      2.532      0.011       2.730      21.486\n",
            "management:ChinaD    -3.9579      1.686     -2.348      0.019      -7.264      -0.652\n",
            "==============================================================================\n",
            "Omnibus:                       58.132   Durbin-Watson:                   1.541\n",
            "Prob(Omnibus):                  0.000   Jarque-Bera (JB):               64.386\n",
            "Skew:                           0.370   Prob(JB):                     1.04e-14\n",
            "Kurtosis:                       3.390   Cond. No.                         49.1\n",
            "==============================================================================\n",
            "\n",
            "Notes:\n",
            "[1] Standard Errors assume that the covariance matrix of the errors is correctly specified.\n"
          ]
        }
      ]
    },
    {
      "cell_type": "markdown",
      "source": [
        "# **Robust and Clustered Standard Errors**\n",
        "-----\n",
        "\n",
        "Here we consider\n",
        "- Heteroscadiscity robust standard errors\n",
        "- And then account for the fact that for many firms we have several obs from multiple years which are not independent:"
      ],
      "metadata": {
        "id": "m6cbtN6fXUXm"
      }
    },
    {
      "cell_type": "code",
      "source": [
        "reg1=smf.ols(\"roce ~ management\", data=df).fit()\n",
        "reg2=smf.ols(\"roce ~ management\", data=df).fit(cov_type='HC2')\n",
        "reg3=smf.ols(\"roce ~ management\", data=df).fit(cov_type='cluster', cov_kwds={\"groups\": df.account_id})\n",
        "\n",
        "Stargazer([reg1,reg2,reg3])"
      ],
      "metadata": {
        "colab": {
          "base_uri": "https://localhost:8080/",
          "height": 309
        },
        "id": "spvmnn3DXcQT",
        "outputId": "fc97fd9e-e7aa-458a-8b14-66064f8cbf69"
      },
      "execution_count": 75,
      "outputs": [
        {
          "output_type": "execute_result",
          "data": {
            "text/plain": [
              "<stargazer.stargazer.Stargazer at 0x7a63e38265f0>"
            ],
            "text/html": [
              "<table style=\"text-align:center\"><tr><td colspan=\"4\" style=\"border-bottom: 1px solid black\"></td></tr>\n",
              "<tr><td style=\"text-align:left\"></td><td colspan=\"3\"><em>Dependent variable: roce</em></td></tr><tr><td style=\"text-align:left\"></td><tr><td style=\"text-align:left\"></td><td>(1)</td><td>(2)</td><td>(3)</td></tr>\n",
              "<tr><td colspan=\"4\" style=\"border-bottom: 1px solid black\"></td></tr>\n",
              "\n",
              "<tr><td style=\"text-align:left\">Intercept</td><td>8.068<sup>***</sup></td><td>8.068<sup>***</sup></td><td>8.068<sup>***</sup></td></tr>\n",
              "<tr><td style=\"text-align:left\"></td><td>(0.917)</td><td>(0.930)</td><td>(1.197)</td></tr>\n",
              "<tr><td style=\"text-align:left\">management</td><td>2.455<sup>***</sup></td><td>2.455<sup>***</sup></td><td>2.455<sup>***</sup></td></tr>\n",
              "<tr><td style=\"text-align:left\"></td><td>(0.297)</td><td>(0.302)</td><td>(0.395)</td></tr>\n",
              "\n",
              "<td colspan=\"4\" style=\"border-bottom: 1px solid black\"></td></tr>\n",
              "<tr><td style=\"text-align: left\">Observations</td><td>7094</td><td>7094</td><td>7094</td></tr><tr><td style=\"text-align: left\">R<sup>2</sup></td><td>0.010</td><td>0.010</td><td>0.010</td></tr><tr><td style=\"text-align: left\">Adjusted R<sup>2</sup></td><td>0.009</td><td>0.009</td><td>0.009</td></tr><tr><td style=\"text-align: left\">Residual Std. Error</td><td>15.424 (df=7092)</td><td>15.424 (df=7092)</td><td>15.424 (df=7092)</td></tr><tr><td style=\"text-align: left\">F Statistic</td><td>68.430<sup>***</sup> (df=1; 7092)</td><td>65.977<sup>***</sup> (df=1; 7092)</td><td>38.661<sup>***</sup> (df=1; 7092)</td></tr>\n",
              "<tr><td colspan=\"4\" style=\"border-bottom: 1px solid black\"></td></tr><tr><td style=\"text-align: left\">Note:</td><td colspan=\"3\" style=\"text-align: right\"><sup>*</sup>p&lt;0.1; <sup>**</sup>p&lt;0.05; <sup>***</sup>p&lt;0.01</td></tr></table>"
            ]
          },
          "metadata": {},
          "execution_count": 75
        }
      ]
    },
    {
      "cell_type": "markdown",
      "source": [
        "**Interpretation:**\n",
        "You see that the standard errors get slightly bigger, when we account for both issues"
      ],
      "metadata": {
        "id": "QvWiauRUXuNQ"
      }
    },
    {
      "cell_type": "markdown",
      "source": [
        "# **Panel Analysis of the Management Practices Data**\n",
        "----\n",
        "\n",
        "- Here the task was to replicate Bloom et al (2012) where they estimate the association beteen log of a firm's sales and management score\n",
        "- We use the data to estimate a fixed effects regression\n",
        "- We make use of the fact that for many firms we have observations over several years\n",
        "- The underlying issue is:\n",
        "  - In our previous analyses there is likely a selection bias/OVB issue\n",
        "  - For instance: Better managers generate higher sales but also likely introduce better management practice...\n",
        "  - This was the reason that we avoided \"causal language\" in the above\n",
        "- We have seen in the lecture that a fixed effects address may reduce this problem under specific assumptions\n",
        "- In particular, when all omitted variables are constant over time and the causal effect of the variable of interest is additive and stable over time, the coefficient of this variable can be interepreted as an estimate of the causal effect\n",
        "- Rough intuition: By adding dummy variables for each firm, we control for the unobserved time-constant heterogeneity in other drivers of sales\n",
        "-"
      ],
      "metadata": {
        "id": "uQHY2CgCOKVg"
      }
    },
    {
      "cell_type": "markdown",
      "source": [
        "\n",
        "Note also:\n",
        "- Bloom et al control for the log number of employees  (variable emp) and the capital employed (variable ppent)\n",
        "- The firms have a unique ID: variable account_id\n",
        "- The data set contains the year for which  the respective observation has been collected"
      ],
      "metadata": {
        "id": "OT284UeSQPTP"
      }
    },
    {
      "cell_type": "markdown",
      "source": [
        "A simple way to estimate a fixed effects regression in Statsmodels would be to add dummy variables for each firm\n",
        "- But note: In a large data set like this one it takes very long to estimate (and generates a very long regression table)\n",
        "\n",
        "Hence, it is much quicker & convenient to use a methods that uses the \"de-meaning\" transformation we have seen in the lecture.\n",
        "\n",
        "- This is implemented in PanelOLS in the LinearModels package\n",
        "- We have to install it first"
      ],
      "metadata": {
        "id": "o2DigtnVSL22"
      }
    },
    {
      "cell_type": "code",
      "source": [
        "\n",
        "!pip install linearmodels\n",
        "from linearmodels import PanelOLS\n",
        "\n"
      ],
      "metadata": {
        "colab": {
          "base_uri": "https://localhost:8080/"
        },
        "id": "CF_1iCR9N3ky",
        "outputId": "fc2746f6-cd63-4956-fb86-e0d68cbcda8c"
      },
      "execution_count": 67,
      "outputs": [
        {
          "output_type": "stream",
          "name": "stdout",
          "text": [
            "Requirement already satisfied: linearmodels in /usr/local/lib/python3.10/dist-packages (5.3)\n",
            "Requirement already satisfied: numpy>=1.19.0 in /usr/local/lib/python3.10/dist-packages (from linearmodels) (1.23.5)\n",
            "Requirement already satisfied: pandas>=1.1.0 in /usr/local/lib/python3.10/dist-packages (from linearmodels) (1.5.3)\n",
            "Requirement already satisfied: scipy>=1.5.0 in /usr/local/lib/python3.10/dist-packages (from linearmodels) (1.11.3)\n",
            "Requirement already satisfied: statsmodels>=0.12.0 in /usr/local/lib/python3.10/dist-packages (from linearmodels) (0.14.0)\n",
            "Requirement already satisfied: mypy-extensions>=0.4 in /usr/local/lib/python3.10/dist-packages (from linearmodels) (1.0.0)\n",
            "Requirement already satisfied: Cython>=0.29.34 in /usr/local/lib/python3.10/dist-packages (from linearmodels) (3.0.5)\n",
            "Requirement already satisfied: pyhdfe>=0.1 in /usr/local/lib/python3.10/dist-packages (from linearmodels) (0.2.0)\n",
            "Requirement already satisfied: formulaic>=0.6.5 in /usr/local/lib/python3.10/dist-packages (from linearmodels) (0.6.6)\n",
            "Requirement already satisfied: setuptools-scm[toml]<8.0.0,>=7.0.0 in /usr/local/lib/python3.10/dist-packages (from linearmodels) (7.1.0)\n",
            "Requirement already satisfied: astor>=0.8 in /usr/local/lib/python3.10/dist-packages (from formulaic>=0.6.5->linearmodels) (0.8.1)\n",
            "Requirement already satisfied: interface-meta>=1.2.0 in /usr/local/lib/python3.10/dist-packages (from formulaic>=0.6.5->linearmodels) (1.3.0)\n",
            "Requirement already satisfied: typing-extensions>=4.2.0 in /usr/local/lib/python3.10/dist-packages (from formulaic>=0.6.5->linearmodels) (4.5.0)\n",
            "Requirement already satisfied: wrapt>=1.0 in /usr/local/lib/python3.10/dist-packages (from formulaic>=0.6.5->linearmodels) (1.14.1)\n",
            "Requirement already satisfied: python-dateutil>=2.8.1 in /usr/local/lib/python3.10/dist-packages (from pandas>=1.1.0->linearmodels) (2.8.2)\n",
            "Requirement already satisfied: pytz>=2020.1 in /usr/local/lib/python3.10/dist-packages (from pandas>=1.1.0->linearmodels) (2023.3.post1)\n",
            "Requirement already satisfied: packaging>=20.0 in /usr/local/lib/python3.10/dist-packages (from setuptools-scm[toml]<8.0.0,>=7.0.0->linearmodels) (23.2)\n",
            "Requirement already satisfied: setuptools in /usr/local/lib/python3.10/dist-packages (from setuptools-scm[toml]<8.0.0,>=7.0.0->linearmodels) (67.7.2)\n",
            "Requirement already satisfied: tomli>=1.0.0 in /usr/local/lib/python3.10/dist-packages (from setuptools-scm[toml]<8.0.0,>=7.0.0->linearmodels) (2.0.1)\n",
            "Requirement already satisfied: patsy>=0.5.2 in /usr/local/lib/python3.10/dist-packages (from statsmodels>=0.12.0->linearmodels) (0.5.3)\n",
            "Requirement already satisfied: six in /usr/local/lib/python3.10/dist-packages (from patsy>=0.5.2->statsmodels>=0.12.0->linearmodels) (1.16.0)\n"
          ]
        }
      ]
    },
    {
      "cell_type": "markdown",
      "source": [
        "PanelOLS needs a Mutiindex data frame where the index is the firm identifier and the time variable:"
      ],
      "metadata": {
        "id": "U9jjmJIoSjQN"
      }
    },
    {
      "cell_type": "code",
      "source": [
        "dfp=df.set_index(['account_id', 'year'])"
      ],
      "metadata": {
        "id": "tIOoz3zVSiIW"
      },
      "execution_count": 70,
      "outputs": []
    },
    {
      "cell_type": "markdown",
      "source": [
        "We can then estimate a fixed effects model\n",
        "- We can use the formula notation as in Statsmodels\n",
        "- It is important to add the keywords \"+EntityEffects + TimeEffects\" to make sure that the demeaning transformation uses the firm identifier (i.e. averages across all obs from one firm) we control for year dummies\n",
        "- As the obs from the same firm are not independent we have to estimate clustered standard errors (Note the different notation)\n",
        "- In PanelOLS you obtain a summary by printing the instance (unfortunately, Stargazer doe not yet support Linearmodels)"
      ],
      "metadata": {
        "id": "QoD1x_F_S6iH"
      }
    },
    {
      "cell_type": "code",
      "source": [
        "regFE1 = PanelOLS.from_formula('np.log(sales) ~ management + np.log(emp) + np.log(ppent) + EntityEffects + TimeEffects', data=dfp).fit(cov_type=\"clustered\", cluster_entity=True)\n",
        "print(regFE1)"
      ],
      "metadata": {
        "colab": {
          "base_uri": "https://localhost:8080/"
        },
        "id": "QsSh0aZiS2qO",
        "outputId": "0ee6459f-7209-43f0-ad18-91ce9d08ff08"
      },
      "execution_count": 74,
      "outputs": [
        {
          "output_type": "stream",
          "name": "stdout",
          "text": [
            "                          PanelOLS Estimation Summary                           \n",
            "================================================================================\n",
            "Dep. Variable:          np.log(sales)   R-squared:                        0.2076\n",
            "Estimator:                   PanelOLS   R-squared (Between):              0.6534\n",
            "No. Observations:                7094   R-squared (Within):               0.2095\n",
            "Date:                Mon, Nov 13 2023   R-squared (Overall):              0.6519\n",
            "Time:                        11:01:16   Log-likelihood                    432.78\n",
            "Cov. Estimator:             Clustered                                           \n",
            "                                        F-statistic:                      362.92\n",
            "Entities:                        2927   P-value                           0.0000\n",
            "Avg Obs:                       2.4236   Distribution:                  F(3,4156)\n",
            "Min Obs:                       1.0000                                           \n",
            "Max Obs:                       7.0000   F-statistic (robust):             8.5728\n",
            "                                        P-value                           0.0000\n",
            "Time periods:                       9   Distribution:                  F(3,4156)\n",
            "Avg Obs:                       788.22                                           \n",
            "Min Obs:                       12.000                                           \n",
            "Max Obs:                       1888.0                                           \n",
            "                                                                                \n",
            "                               Parameter Estimates                               \n",
            "=================================================================================\n",
            "               Parameter  Std. Err.     T-stat    P-value    Lower CI    Upper CI\n",
            "---------------------------------------------------------------------------------\n",
            "management        0.0483     0.0252     1.9170     0.0553     -0.0011      0.0976\n",
            "np.log(emp)       0.3645     0.1233     2.9567     0.0031      0.1228      0.6061\n",
            "np.log(ppent)     0.2445     0.0987     2.4783     0.0132      0.0511      0.4379\n",
            "=================================================================================\n",
            "\n",
            "F-test for Poolability: 18.819\n",
            "P-value: 0.0000\n",
            "Distribution: F(2934,4156)\n",
            "\n",
            "Included effects: Entity, Time\n"
          ]
        }
      ]
    },
    {
      "cell_type": "markdown",
      "source": [
        "We can also replicate the same specification without fixed effects:\n",
        "(Note this looks slightly different from the table on the slide from Bloom at al (2012) as they additionally control for  industry and country etc.)"
      ],
      "metadata": {
        "id": "W5ZicoOdW9SQ"
      }
    },
    {
      "cell_type": "code",
      "source": [
        "reg1 = smf.ols('np.log(sales) ~ management + np.log(emp) + np.log(ppent) + C(year)', data=df).fit(cov_type='cluster', cov_kwds={\"groups\": df.account_id})\n",
        "print(reg1.summary())"
      ],
      "metadata": {
        "colab": {
          "base_uri": "https://localhost:8080/"
        },
        "id": "jrxQxGOyXBQ4",
        "outputId": "4af5320b-0e85-4399-979b-97370eb5e514"
      },
      "execution_count": 78,
      "outputs": [
        {
          "output_type": "stream",
          "name": "stdout",
          "text": [
            "                            OLS Regression Results                            \n",
            "==============================================================================\n",
            "Dep. Variable:          np.log(sales)   R-squared:                       0.689\n",
            "Model:                            OLS   Adj. R-squared:                  0.689\n",
            "Method:                 Least Squares   F-statistic:                     423.2\n",
            "Date:                Mon, 13 Nov 2023   Prob (F-statistic):               0.00\n",
            "Time:                        11:11:14   Log-Likelihood:                -8942.3\n",
            "No. Observations:                7094   AIC:                         1.791e+04\n",
            "Df Residuals:                    7082   BIC:                         1.799e+04\n",
            "Df Model:                          11                                         \n",
            "Covariance Type:              cluster                                         \n",
            "===================================================================================\n",
            "                      coef    std err          z      P>|z|      [0.025      0.975]\n",
            "-----------------------------------------------------------------------------------\n",
            "Intercept           2.9813      0.173     17.211      0.000       2.642       3.321\n",
            "C(year)[T.2003]    -0.0376      0.070     -0.540      0.589      -0.174       0.099\n",
            "C(year)[T.2004]     0.1906      0.084      2.273      0.023       0.026       0.355\n",
            "C(year)[T.2005]     0.1594      0.085      1.876      0.061      -0.007       0.326\n",
            "C(year)[T.2006]     0.1846      0.085      2.164      0.030       0.017       0.352\n",
            "C(year)[T.2007]     0.0288      0.087      0.331      0.741      -0.142       0.200\n",
            "C(year)[T.2008]    -0.0689      0.088     -0.779      0.436      -0.242       0.104\n",
            "C(year)[T.2009]    -0.0428      0.088     -0.485      0.628      -0.216       0.130\n",
            "C(year)[T.2010]     0.1775      0.088      2.019      0.044       0.005       0.350\n",
            "management          0.3945      0.026     15.382      0.000       0.344       0.445\n",
            "np.log(emp)         0.4860      0.024     20.417      0.000       0.439       0.533\n",
            "np.log(ppent)       0.4277      0.019     21.959      0.000       0.389       0.466\n",
            "==============================================================================\n",
            "Omnibus:                     1608.702   Durbin-Watson:                   0.967\n",
            "Prob(Omnibus):                  0.000   Jarque-Bera (JB):            13112.670\n",
            "Skew:                          -0.859   Prob(JB):                         0.00\n",
            "Kurtosis:                       9.435   Cond. No.                         748.\n",
            "==============================================================================\n",
            "\n",
            "Notes:\n",
            "[1] Standard Errors are robust to cluster correlation (cluster)\n"
          ]
        }
      ]
    },
    {
      "cell_type": "markdown",
      "source": [
        "**Interpretation**\n",
        "\n",
        "- The coefficicient of management is substantially smaller in the fixed effects regression.\n",
        "- This indicates that there indeed seems to be an important OVB issue\n",
        "- But the coefficient is still highly significant\n",
        "- We can thus still reject the null hypothesis that there is no connection\n",
        "\n",
        "\\\n",
        "\n",
        "Note:\n",
        "- The FE model uses the within firm variation of the management score\n",
        "- A change in the score is significantly associated with a change in sales\n",
        "\n",
        "\\\n",
        "Side remark:\n",
        "- To the extend that the management score is measured with measurement error we may even underestimate the effect (attenuation bias)"
      ],
      "metadata": {
        "id": "wGVRwqaEWyCb"
      }
    }
  ]
}